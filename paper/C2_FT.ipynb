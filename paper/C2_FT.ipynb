{
 "cells": [
  {
   "cell_type": "code",
   "execution_count": null,
   "metadata": {},
   "outputs": [],
   "source": [
    "import numpy as np\n",
    "import matplotlib.pyplot as plt\n",
    "import bolift\n",
    "import os\n",
    "import openai\n",
    "import pandas as pd\n",
    "\n",
    "df_c2 = pd.read_csv(\"C2_yield_meth_oxy.csv\")\n",
    "df = df_c2[0:5]\n",
    "\n",
    "asktell = bolift.AskTellFinetuning(\n",
    "    x_formatter=lambda x: f\"the following experimental procedure: {x}\",\n",
    "    y_name=\"C2 yield\",\n",
    "    y_formatter=lambda y: f\"{y:0.2f}###\",\n",
    "    model=\"text-babbage-001\",\n",
    "    # id=\"ft-JaIT7H1xeJnTCH0pRc8Gnfev\",\n",
    "    finetune=True,\n",
    ")\n",
    "pool = df[\"prompt\"].values\n",
    "\n",
    "print(f\"{df.iloc[3]['completion']}, {asktell.predict(pool[3])}\\n\")\n",
    "\n",
    "aq = \"greedy\"\n",
    "px, _, py = asktell.ask(pool, k=len(pool), aq_fxn=aq)\n",
    "xc = px[0]\n",
    "y = df[df[\"prompt\"] == xc][\"completion\"].values[0]\n",
    "asktell.tell(xc, y)\n",
    "\n",
    "print(f\"{df.iloc[3]['completion']}, {asktell.predict(pool[3])}\")\n",
    "\n"
   ]
  },
  {
   "cell_type": "code",
   "execution_count": null,
   "metadata": {},
   "outputs": [],
   "source": [
    "N = 15\n",
    "point = []\n",
    "pred_x = []\n",
    "pred_y = []\n",
    "true_y = []\n",
    "for i in range(N):\n",
    "    pool = df_c2[5*i:5*(i+1)][\"prompt\"].values\n",
    "    aq = \"expected_improvement\"\n",
    "    if i == N - 1:\n",
    "        aq = \"greedy\"\n",
    "    px, _, py = asktell.ask(pool, k=len(pool), aq_fxn=aq)\n",
    "    xc = px[0]\n",
    "    y = df_c2[df_c2[\"prompt\"] == xc][\"completion\"].values[0]\n",
    "    \n",
    "    asktell.tell(xc, y)\n",
    "    point.append((xc, y))\n",
    "    pred_x.append(xc)\n",
    "    pred_y.append(py)"
   ]
  },
  {
   "cell_type": "code",
   "execution_count": null,
   "metadata": {},
   "outputs": [],
   "source": [
    "asktell = bolift.AskTellFinetuning(\n",
    "    x_formatter=lambda x: f\"the following experimental procedure: {x}\",\n",
    "    y_name=\"C2 yield\",\n",
    "    y_formatter=lambda y: f\"{y:0.2f}###\",\n",
    "    # model=\"text-babbage-001\",\n",
    "    id=\"ft-JaIT7H1xeJnTCH0pRc8Gnfev\",\n",
    "    finetune=True,\n",
    ")\n",
    "print(f\"{df_c2.iloc[88]['completion']}, {asktell.predict(df_c2.iloc[88]['prompt'])}\\n\")"
   ]
  }
 ],
 "metadata": {
  "kernelspec": {
   "display_name": "Python 3",
   "language": "python",
   "name": "python3"
  },
  "language_info": {
   "name": "python",
   "version": "3.11.2"
  },
  "orig_nbformat": 4,
  "vscode": {
   "interpreter": {
    "hash": "e4d71ab05965f6396a5a9de6574d1c01b6468409c861318f86f7fd2a236e9e71"
   }
  }
 },
 "nbformat": 4,
 "nbformat_minor": 2
}
