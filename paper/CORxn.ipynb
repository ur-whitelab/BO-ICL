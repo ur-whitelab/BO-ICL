{
 "cells": [
  {
   "attachments": {},
   "cell_type": "markdown",
   "id": "3345ef56",
   "metadata": {},
   "source": [
    "# Tungsten Carbide Inverse"
   ]
  },
  {
   "cell_type": "code",
   "execution_count": 1,
   "id": "d990e66f",
   "metadata": {},
   "outputs": [],
   "source": [
    "import os, openai\n",
    "#key"
   ]
  },
  {
   "cell_type": "code",
   "execution_count": 2,
   "id": "481a609b",
   "metadata": {},
   "outputs": [],
   "source": [
    "lab_pool = set()\n",
    "with open(\"paper/data/Tungsten carbide data update.csv\") as f:\n",
    "    with open(\"paper/data/co_train.csv\", \"w\") as g:\n",
    "        g.write('conditions,coyield\\n')\n",
    "        for line in f.readlines():\n",
    "            if len(line) < 5:\n",
    "                continue\n",
    "            x = line[1:].split(\",\")[0]\n",
    "            y = line.split(\"of\")[1][:-4]\n",
    "            g.write(f'\"{x}\",{y}\\n')\n",
    "            lab_pool.add(x)"
   ]
  },
  {
   "cell_type": "code",
   "execution_count": 3,
   "id": "f112fe6c",
   "metadata": {},
   "outputs": [
    {
     "name": "stdout",
     "output_type": "stream",
     "text": [
      "skipping found one\n",
      "skipping found one\n",
      "skipping found one\n",
      "skipping found one\n"
     ]
    }
   ],
   "source": [
    "from itertools import product\n",
    "\n",
    "wtr = range(4, 30)\n",
    "ctempr = range(600, 1000 + 50, 50)\n",
    "tempr = range(250, 350 + 25, 25)\n",
    "dpwt = [\"0.5 wt%\", \"5 wt%\"]\n",
    "dpotanti = [\n",
    "    \"with Co dopant metal\",\n",
    "    \"with Fe dopant metal\",\n",
    "    \"with Cu dopant metal\",\n",
    "    \"with Pt dopant metal\",\n",
    "    \"with Ni dopant metal\",\n",
    "]\n",
    "dopantr = [\"without any dopant metal\"]\n",
    "for w, d in product(dpwt, dpotanti):\n",
    "    dopantr.append(f\"{d} at {w}\")\n",
    "\n",
    "with open(\"paper/data/co_pool.txt\", \"w\") as f:\n",
    "    for wt, ctemp, temp, dopant in product(wtr, ctempr, tempr, dopantr):\n",
    "        prompt = (\n",
    "            f\"A {wt} wt% tungsten carbide catalyst was prepared {dopant} and carburized at {ctemp} °C. \"\n",
    "            f\"The reaction was run at {temp} °C\"\n",
    "        )\n",
    "        if prompt in lab_pool:\n",
    "            print(\"skipping found one\")\n",
    "            continue\n",
    "        f.write(prompt.split(\",\")[0] + \"\\n\")"
   ]
  },
  {
   "cell_type": "markdown",
   "id": "8bc9398b",
   "metadata": {},
   "source": [
    "# Mult Prediction"
   ]
  },
  {
   "cell_type": "code",
   "execution_count": 4,
   "id": "5ea197f2",
   "metadata": {},
   "outputs": [
    {
     "name": "stderr",
     "output_type": "stream",
     "text": [
      "/opt/homebrew/lib/python3.11/site-packages/tqdm/auto.py:21: TqdmWarning: IProgress not found. Please update jupyter and ipywidgets. See https://ipywidgets.readthedocs.io/en/stable/user_install.html\n",
      "  from .autonotebook import tqdm as notebook_tqdm\n"
     ]
    }
   ],
   "source": [
    "import bolift\n",
    "import numpy as np\n",
    "import matplotlib.pyplot as plt\n",
    "import json\n",
    "import pandas as pd\n",
    "from langchain.prompts.prompt import PromptTemplate\n",
    "\n",
    "\n",
    "data_path = \"paper/data/co_train.csv\"\n",
    "np.random.seed(0)"
   ]
  },
  {
   "cell_type": "code",
   "execution_count": 5,
   "id": "166df559",
   "metadata": {},
   "outputs": [
    {
     "data": {
      "text/html": [
       "<div>\n",
       "<style scoped>\n",
       "    .dataframe tbody tr th:only-of-type {\n",
       "        vertical-align: middle;\n",
       "    }\n",
       "\n",
       "    .dataframe tbody tr th {\n",
       "        vertical-align: top;\n",
       "    }\n",
       "\n",
       "    .dataframe thead th {\n",
       "        text-align: right;\n",
       "    }\n",
       "</style>\n",
       "<table border=\"1\" class=\"dataframe\">\n",
       "  <thead>\n",
       "    <tr style=\"text-align: right;\">\n",
       "      <th></th>\n",
       "      <th>conditions</th>\n",
       "      <th>coyield</th>\n",
       "    </tr>\n",
       "  </thead>\n",
       "  <tbody>\n",
       "    <tr>\n",
       "      <th>0</th>\n",
       "      <td>A 15 wt% tungsten carbide catalyst was prepare...</td>\n",
       "      <td>1.66</td>\n",
       "    </tr>\n",
       "    <tr>\n",
       "      <th>1</th>\n",
       "      <td>A 15 wt% tungsten carbide catalyst was prepare...</td>\n",
       "      <td>3.03</td>\n",
       "    </tr>\n",
       "    <tr>\n",
       "      <th>2</th>\n",
       "      <td>A 15 wt% tungsten carbide catalyst was prepare...</td>\n",
       "      <td>1.61</td>\n",
       "    </tr>\n",
       "    <tr>\n",
       "      <th>3</th>\n",
       "      <td>A 15 wt% tungsten carbide catalyst was prepare...</td>\n",
       "      <td>4.12</td>\n",
       "    </tr>\n",
       "    <tr>\n",
       "      <th>4</th>\n",
       "      <td>A 15 wt% tungsten carbide catalyst was prepare...</td>\n",
       "      <td>0.52</td>\n",
       "    </tr>\n",
       "    <tr>\n",
       "      <th>5</th>\n",
       "      <td>A 15 wt% tungsten carbide catalyst was prepare...</td>\n",
       "      <td>3.36</td>\n",
       "    </tr>\n",
       "    <tr>\n",
       "      <th>6</th>\n",
       "      <td>A 15 wt% tungsten carbide catalyst was prepare...</td>\n",
       "      <td>9.80</td>\n",
       "    </tr>\n",
       "    <tr>\n",
       "      <th>7</th>\n",
       "      <td>A 15 wt% tungsten carbide catalyst was prepare...</td>\n",
       "      <td>18.98</td>\n",
       "    </tr>\n",
       "    <tr>\n",
       "      <th>8</th>\n",
       "      <td>A 15 wt% tungsten carbide catalyst was prepare...</td>\n",
       "      <td>6.21</td>\n",
       "    </tr>\n",
       "    <tr>\n",
       "      <th>9</th>\n",
       "      <td>A 15 wt% tungsten carbide catalyst was prepare...</td>\n",
       "      <td>16.35</td>\n",
       "    </tr>\n",
       "    <tr>\n",
       "      <th>10</th>\n",
       "      <td>A 15 wt% tungsten carbide catalyst was prepare...</td>\n",
       "      <td>1.73</td>\n",
       "    </tr>\n",
       "    <tr>\n",
       "      <th>11</th>\n",
       "      <td>A 15 wt% tungsten carbide catalyst was prepare...</td>\n",
       "      <td>2.85</td>\n",
       "    </tr>\n",
       "    <tr>\n",
       "      <th>12</th>\n",
       "      <td>A 4.25 wt% tungsten carbide catalyst was prepa...</td>\n",
       "      <td>2.23</td>\n",
       "    </tr>\n",
       "    <tr>\n",
       "      <th>13</th>\n",
       "      <td>A 4.25 wt% tungsten carbide catalyst was prepa...</td>\n",
       "      <td>5.14</td>\n",
       "    </tr>\n",
       "    <tr>\n",
       "      <th>14</th>\n",
       "      <td>A 4.25 wt% tungsten carbide catalyst was prepa...</td>\n",
       "      <td>4.63</td>\n",
       "    </tr>\n",
       "    <tr>\n",
       "      <th>15</th>\n",
       "      <td>A 15 wt% tungsten carbide catalyst was prepare...</td>\n",
       "      <td>5.72</td>\n",
       "    </tr>\n",
       "    <tr>\n",
       "      <th>16</th>\n",
       "      <td>A 15 wt% tungsten carbide catalyst was prepare...</td>\n",
       "      <td>8.73</td>\n",
       "    </tr>\n",
       "    <tr>\n",
       "      <th>17</th>\n",
       "      <td>A 15 wt% tungsten carbide catalyst was prepare...</td>\n",
       "      <td>5.09</td>\n",
       "    </tr>\n",
       "    <tr>\n",
       "      <th>18</th>\n",
       "      <td>A 15 wt% tungsten carbide catalyst was prepare...</td>\n",
       "      <td>2.32</td>\n",
       "    </tr>\n",
       "    <tr>\n",
       "      <th>19</th>\n",
       "      <td>A 15 wt% tungsten carbide catalyst was prepare...</td>\n",
       "      <td>7.59</td>\n",
       "    </tr>\n",
       "    <tr>\n",
       "      <th>20</th>\n",
       "      <td>A 15 wt% tungsten carbide catalyst was prepare...</td>\n",
       "      <td>2.67</td>\n",
       "    </tr>\n",
       "    <tr>\n",
       "      <th>21</th>\n",
       "      <td>A 15 wt% tungsten carbide catalyst was prepare...</td>\n",
       "      <td>7.85</td>\n",
       "    </tr>\n",
       "    <tr>\n",
       "      <th>22</th>\n",
       "      <td>A 15 wt% tungsten carbide catalyst was prepare...</td>\n",
       "      <td>9.54</td>\n",
       "    </tr>\n",
       "    <tr>\n",
       "      <th>23</th>\n",
       "      <td>A 15 wt% tungsten carbide catalyst was prepare...</td>\n",
       "      <td>4.55</td>\n",
       "    </tr>\n",
       "    <tr>\n",
       "      <th>24</th>\n",
       "      <td>A 15 wt% tungsten carbide catalyst was prepare...</td>\n",
       "      <td>5.66</td>\n",
       "    </tr>\n",
       "    <tr>\n",
       "      <th>25</th>\n",
       "      <td>A 15 wt% tungsten carbide catalyst was prepare...</td>\n",
       "      <td>0.78</td>\n",
       "    </tr>\n",
       "    <tr>\n",
       "      <th>26</th>\n",
       "      <td>A 15 wt% tungsten carbide catalyst was prepare...</td>\n",
       "      <td>1.47</td>\n",
       "    </tr>\n",
       "    <tr>\n",
       "      <th>27</th>\n",
       "      <td>A 15 wt% tungsten carbide catalyst was prepare...</td>\n",
       "      <td>10.43</td>\n",
       "    </tr>\n",
       "    <tr>\n",
       "      <th>28</th>\n",
       "      <td>A 15 wt% tungsten carbide catalyst was prepare...</td>\n",
       "      <td>5.72</td>\n",
       "    </tr>\n",
       "    <tr>\n",
       "      <th>29</th>\n",
       "      <td>A 15 wt% tungsten carbide catalyst was prepare...</td>\n",
       "      <td>8.73</td>\n",
       "    </tr>\n",
       "    <tr>\n",
       "      <th>30</th>\n",
       "      <td>A 15 wt% tungsten carbide catalyst was prepare...</td>\n",
       "      <td>5.09</td>\n",
       "    </tr>\n",
       "    <tr>\n",
       "      <th>31</th>\n",
       "      <td>A 15 wt% tungsten carbide catalyst was prepare...</td>\n",
       "      <td>5.72</td>\n",
       "    </tr>\n",
       "    <tr>\n",
       "      <th>32</th>\n",
       "      <td>A 15 wt% tungsten carbide catalyst was prepare...</td>\n",
       "      <td>6.79</td>\n",
       "    </tr>\n",
       "    <tr>\n",
       "      <th>33</th>\n",
       "      <td>A 15 wt% tungsten carbide catalyst was prepare...</td>\n",
       "      <td>6.87</td>\n",
       "    </tr>\n",
       "    <tr>\n",
       "      <th>34</th>\n",
       "      <td>A 30 wt% tungsten carbide catalyst was prepare...</td>\n",
       "      <td>7.24</td>\n",
       "    </tr>\n",
       "    <tr>\n",
       "      <th>35</th>\n",
       "      <td>A 30 wt% tungsten carbide catalyst was prepare...</td>\n",
       "      <td>10.38</td>\n",
       "    </tr>\n",
       "    <tr>\n",
       "      <th>36</th>\n",
       "      <td>A 30 wt% tungsten carbide catalyst was prepare...</td>\n",
       "      <td>10.89</td>\n",
       "    </tr>\n",
       "  </tbody>\n",
       "</table>\n",
       "</div>"
      ],
      "text/plain": [
       "                                           conditions  coyield\n",
       "0   A 15 wt% tungsten carbide catalyst was prepare...     1.66\n",
       "1   A 15 wt% tungsten carbide catalyst was prepare...     3.03\n",
       "2   A 15 wt% tungsten carbide catalyst was prepare...     1.61\n",
       "3   A 15 wt% tungsten carbide catalyst was prepare...     4.12\n",
       "4   A 15 wt% tungsten carbide catalyst was prepare...     0.52\n",
       "5   A 15 wt% tungsten carbide catalyst was prepare...     3.36\n",
       "6   A 15 wt% tungsten carbide catalyst was prepare...     9.80\n",
       "7   A 15 wt% tungsten carbide catalyst was prepare...    18.98\n",
       "8   A 15 wt% tungsten carbide catalyst was prepare...     6.21\n",
       "9   A 15 wt% tungsten carbide catalyst was prepare...    16.35\n",
       "10  A 15 wt% tungsten carbide catalyst was prepare...     1.73\n",
       "11  A 15 wt% tungsten carbide catalyst was prepare...     2.85\n",
       "12  A 4.25 wt% tungsten carbide catalyst was prepa...     2.23\n",
       "13  A 4.25 wt% tungsten carbide catalyst was prepa...     5.14\n",
       "14  A 4.25 wt% tungsten carbide catalyst was prepa...     4.63\n",
       "15  A 15 wt% tungsten carbide catalyst was prepare...     5.72\n",
       "16  A 15 wt% tungsten carbide catalyst was prepare...     8.73\n",
       "17  A 15 wt% tungsten carbide catalyst was prepare...     5.09\n",
       "18  A 15 wt% tungsten carbide catalyst was prepare...     2.32\n",
       "19  A 15 wt% tungsten carbide catalyst was prepare...     7.59\n",
       "20  A 15 wt% tungsten carbide catalyst was prepare...     2.67\n",
       "21  A 15 wt% tungsten carbide catalyst was prepare...     7.85\n",
       "22  A 15 wt% tungsten carbide catalyst was prepare...     9.54\n",
       "23  A 15 wt% tungsten carbide catalyst was prepare...     4.55\n",
       "24  A 15 wt% tungsten carbide catalyst was prepare...     5.66\n",
       "25  A 15 wt% tungsten carbide catalyst was prepare...     0.78\n",
       "26  A 15 wt% tungsten carbide catalyst was prepare...     1.47\n",
       "27  A 15 wt% tungsten carbide catalyst was prepare...    10.43\n",
       "28  A 15 wt% tungsten carbide catalyst was prepare...     5.72\n",
       "29  A 15 wt% tungsten carbide catalyst was prepare...     8.73\n",
       "30  A 15 wt% tungsten carbide catalyst was prepare...     5.09\n",
       "31  A 15 wt% tungsten carbide catalyst was prepare...     5.72\n",
       "32  A 15 wt% tungsten carbide catalyst was prepare...     6.79\n",
       "33  A 15 wt% tungsten carbide catalyst was prepare...     6.87\n",
       "34  A 30 wt% tungsten carbide catalyst was prepare...     7.24\n",
       "35  A 30 wt% tungsten carbide catalyst was prepare...    10.38\n",
       "36  A 30 wt% tungsten carbide catalyst was prepare...    10.89"
      ]
     },
     "execution_count": 5,
     "metadata": {},
     "output_type": "execute_result"
    }
   ],
   "source": [
    "raw_data = pd.read_csv(data_path)\n",
    "raw_data"
   ]
  },
  {
   "cell_type": "code",
   "execution_count": 6,
   "id": "115f837d",
   "metadata": {},
   "outputs": [
    {
     "name": "stdout",
     "output_type": "stream",
     "text": [
      "                                          conditions  coyield\n",
      "7  A 15 wt% tungsten carbide catalyst was prepare...    18.98\n",
      "['A 15 wt% tungsten carbide catalyst was prepared with Cu dopant metal at 5 wt% and carburized at 835 °C. The reaction was run at 350 °C']\n"
     ]
    }
   ],
   "source": [
    "r = raw_data[raw_data.coyield == raw_data.coyield.max()]\n",
    "print(r)\n",
    "print(r.conditions.values)"
   ]
  },
  {
   "cell_type": "code",
   "execution_count": 7,
   "id": "9cd057fc",
   "metadata": {},
   "outputs": [],
   "source": [
    "asktell = bolift.AskTellFewShotTopk(\n",
    "    x_formatter=lambda x: f'the synthesis procedure:\"{x}\"',\n",
    "    y_name=\"the CO yield\",\n",
    "    y_formatter=lambda y: f\"{y:.2f}%\",\n",
    "    model=\"gpt-4\",\n",
    "    # model=\"text-davinci-003\",\n",
    "    temperature=1,\n",
    "    selector_k=5,\n",
    ")"
   ]
  },
  {
   "cell_type": "code",
   "execution_count": 8,
   "id": "efdc6711",
   "metadata": {},
   "outputs": [],
   "source": [
    "for i, (c, y) in raw_data.iterrows():\n",
    "    if i < len(raw_data) - 1:\n",
    "        asktell.tell(c, y)"
   ]
  },
  {
   "cell_type": "code",
   "execution_count": 9,
   "id": "6159eee1",
   "metadata": {},
   "outputs": [
    {
     "data": {
      "text/plain": [
       "(DiscreteDist([ 8.91  9.65  9.58  8.93 11.29], [0.2 0.2 0.2 0.2 0.2]), 10.89)"
      ]
     },
     "execution_count": 9,
     "metadata": {},
     "output_type": "execute_result"
    }
   ],
   "source": [
    "asktell.predict(c), y"
   ]
  },
  {
   "cell_type": "code",
   "execution_count": 10,
   "id": "057e6d64",
   "metadata": {},
   "outputs": [],
   "source": [
    "# tell the last one\n",
    "asktell.tell(c, y)"
   ]
  },
  {
   "cell_type": "code",
   "execution_count": 15,
   "id": "0a161dcf",
   "metadata": {},
   "outputs": [
    {
     "data": {
      "text/plain": [
       "'the synthesis procedure:\"A 30 wt% tungsten carbide catalyst was prepared with Cu dopant metal at 5 wt% and carburized at 835 °C. The reaction was run at 350 °C\"'"
      ]
     },
     "execution_count": 15,
     "metadata": {},
     "output_type": "execute_result"
    }
   ],
   "source": [
    "s = asktell.inv_predict(20)\n",
    "s"
   ]
  },
  {
   "cell_type": "code",
   "execution_count": 17,
   "id": "ad503a6b",
   "metadata": {},
   "outputs": [
    {
     "name": "stderr",
     "output_type": "stream",
     "text": [
      "Retrying langchain.chat_models.openai.ChatOpenAI.completion_with_retry.<locals>._completion_with_retry in 4.0 seconds as it raised RateLimitError: That model is currently overloaded with other requests. You can retry your request, or contact us through our help center at help.openai.com if the error persists. (Please include the request ID 2e5ebb44c86b547d147c2d619f5c30da in your message.).\n"
     ]
    }
   ],
   "source": [
    "yhats=[]\n",
    "stds=[]\n",
    "\n",
    "for _ in range(50):\n",
    "  inv_dist = asktell.predict(s)\n",
    "  yhats.append(inv_dist.mean())\n",
    "  stds.append(inv_dist.std())\n",
    "  # print(inv_dist, inv_dist.mean(), inv_dist.std())"
   ]
  },
  {
   "cell_type": "code",
   "execution_count": 21,
   "id": "b37677f8",
   "metadata": {},
   "outputs": [
    {
     "data": {
      "text/plain": [
       "<Axes: ylabel='Count'>"
      ]
     },
     "execution_count": 21,
     "metadata": {},
     "output_type": "execute_result"
    },
    {
     "data": {
      "image/png": "[encoded data removed]",
      "text/plain": [
       "<Figure size 350x291.667 with 1 Axes>"
      ]
     },
     "metadata": {},
     "output_type": "display_data"
    }
   ],
   "source": [
    "import seaborn as sns\n",
    "import matplotlib.pyplot as plt\n",
    "import urllib.request\n",
    "import matplotlib.font_manager as font_manager\n",
    "urllib.request.urlretrieve('https://github.com/google/fonts/raw/main/ofl/ibmplexmono/IBMPlexMono-Regular.ttf', 'IBMPlexMono-Regular.ttf')\n",
    "fe = font_manager.FontEntry(\n",
    "    fname='IBMPlexMono-Regular.ttf',\n",
    "    name='plexmono')\n",
    "font_manager.fontManager.ttflist.append(fe)\n",
    "plt.rcParams.update({'axes.facecolor':'#f5f4e9',\n",
    "            'grid.color' : '#AAAAAA',\n",
    "            'axes.edgecolor':'#333333',\n",
    "            'figure.facecolor':'#FFFFFF',\n",
    "            'axes.grid': False,\n",
    "            'axes.prop_cycle':   plt.cycler('color', plt.cm.Dark2.colors),\n",
    "            'font.family': fe.name,\n",
    "            'figure.figsize': (3.5,3.5 / 1.2),\n",
    "            'ytick.left': True,\n",
    "            'xtick.bottom': True\n",
    "           })\n",
    "\n",
    "sns.histplot(yhats, kde=True)"
   ]
  },
  {
   "cell_type": "code",
   "execution_count": null,
   "id": "c02839bf",
   "metadata": {},
   "outputs": [],
   "source": []
  },
  {
   "cell_type": "code",
   "execution_count": 7,
   "id": "5149077e",
   "metadata": {},
   "outputs": [
    {
     "name": "stdout",
     "output_type": "stream",
     "text": [
      "12866\n"
     ]
    }
   ],
   "source": [
    "with open(\"paper/data/co_pool.txt\") as f:\n",
    "    pool = bolift.Pool(list(f.readlines()))\n",
    "print(len(pool))"
   ]
  },
  {
   "cell_type": "code",
   "execution_count": 55,
   "id": "9b9055de",
   "metadata": {},
   "outputs": [],
   "source": [
    "result = asktell.ask(pool, \"greedy\", inv_filter=50)"
   ]
  },
  {
   "cell_type": "code",
   "execution_count": 56,
   "id": "0d80b056",
   "metadata": {},
   "outputs": [
    {
     "name": "stdout",
     "output_type": "stream",
     "text": [
      "A 23 wt% tungsten carbide catalyst was prepared with Pt dopant metal at 5 wt% and carburized at 950 °C. The reaction was run at 300 °C\n",
      "\n"
     ]
    }
   ],
   "source": [
    "x = result[0][0]\n",
    "print(x)"
   ]
  },
  {
   "cell_type": "code",
   "execution_count": 57,
   "id": "d5058b82",
   "metadata": {},
   "outputs": [
    {
     "name": "stdout",
     "output_type": "stream",
     "text": [
      "DiscreteDist([ 8.76  8.15  8.12 10.58  9.14], [0.22358422 0.22371829 0.22313449 0.15054542 0.17901758]) 8.822745105043543 0.833799309165339\n"
     ]
    }
   ],
   "source": [
    "dist = asktell.predict(x)\n",
    "print(dist, dist.mean(), dist.std())"
   ]
  },
  {
   "cell_type": "markdown",
   "id": "e8c49f00",
   "metadata": {},
   "source": [
    "# GPR"
   ]
  },
  {
   "cell_type": "code",
   "execution_count": null,
   "id": "09ae3242",
   "metadata": {},
   "outputs": [],
   "source": [
    "asktell = bolift.AskTellGPR(\n",
    "    x_formatter=lambda x: f'synthesis procedure:\"{x}\"',\n",
    "    y_name=\"CO yield\",\n",
    "    y_formatter=lambda y: f\"{y:.2f}\",\n",
    ")"
   ]
  },
  {
   "cell_type": "code",
   "execution_count": null,
   "id": "08119280",
   "metadata": {},
   "outputs": [],
   "source": [
    "for i, (c, y) in raw_data.iterrows():\n",
    "    if i < len(raw_data) - 1:\n",
    "        asktell.tell(c, y)"
   ]
  },
  {
   "cell_type": "code",
   "execution_count": null,
   "id": "33ad2903",
   "metadata": {},
   "outputs": [],
   "source": [
    "asktell.predict(c), y"
   ]
  },
  {
   "cell_type": "code",
   "execution_count": null,
   "id": "4c7173c6",
   "metadata": {},
   "outputs": [],
   "source": [
    "# tell the last one\n",
    "asktell.tell(c, y)"
   ]
  },
  {
   "cell_type": "code",
   "execution_count": null,
   "id": "8ec0eb45",
   "metadata": {},
   "outputs": [],
   "source": [
    "with open(\"data/co_pool.txt\") as f:\n",
    "    pool = bolift.Pool(list(f.readlines()))"
   ]
  },
  {
   "cell_type": "code",
   "execution_count": null,
   "id": "6a8f6032",
   "metadata": {},
   "outputs": [],
   "source": [
    "result = asktell.ask(pool, \"greedy\")"
   ]
  },
  {
   "cell_type": "code",
   "execution_count": null,
   "id": "32e1e2d2",
   "metadata": {},
   "outputs": [],
   "source": [
    "x = result[0][0]\n",
    "print(x)"
   ]
  },
  {
   "cell_type": "code",
   "execution_count": null,
   "id": "98b40214",
   "metadata": {},
   "outputs": [],
   "source": [
    "dist = asktell.predict(x)\n",
    "print(dist, dist.mean(), dist.std())"
   ]
  },
  {
   "cell_type": "code",
   "execution_count": null,
   "id": "6827dd6e",
   "metadata": {},
   "outputs": [],
   "source": []
  }
 ],
 "metadata": {
  "kernelspec": {
   "display_name": "Python 3 (ipykernel)",
   "language": "python",
   "name": "python3"
  },
  "language_info": {
   "codemirror_mode": {
    "name": "ipython",
    "version": 3
   },
   "file_extension": ".py",
   "mimetype": "text/x-python",
   "name": "python",
   "nbconvert_exporter": "python",
   "pygments_lexer": "ipython3",
   "version": "3.11.2"
  }
 },
 "nbformat": 4,
 "nbformat_minor": 5
}
