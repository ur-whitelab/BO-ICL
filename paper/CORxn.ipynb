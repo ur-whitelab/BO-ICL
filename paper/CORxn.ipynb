{
 "cells": [
  {
   "cell_type": "markdown",
   "id": "3345ef56",
   "metadata": {},
   "source": [
    "# Code to Process Data from Marc"
   ]
  },
  {
   "cell_type": "code",
   "execution_count": 9,
   "id": "481a609b",
   "metadata": {},
   "outputs": [],
   "source": [
    "lab_pool = set()\n",
    "with open(\"paper/data/Tungsten carbide data update.csv\") as f:\n",
    "    with open(\"paper/data/co_train.csv\", \"w\") as g:\n",
    "        for line in f.readlines():\n",
    "            if len(line) < 5:\n",
    "                continue\n",
    "            x = line[1:].split(\",\")[0]\n",
    "            y = line.split(\"of\")[1][:-4]\n",
    "            g.write(f'\"{x}\",{y}\\n')\n",
    "            lab_pool.add(x)"
   ]
  },
  {
   "cell_type": "code",
   "execution_count": 10,
   "id": "f112fe6c",
   "metadata": {},
   "outputs": [],
   "source": [
    "from itertools import product\n",
    "\n",
    "wtr = range(4, 30)\n",
    "ctempr = range(600, 1000 + 50, 50)\n",
    "tempr = range(250, 350 + 25, 25)\n",
    "dpwt = [\"0.5 wt%\", \"5 wt%\"]\n",
    "dpotanti = [\n",
    "    \"with Co dopant metal\",\n",
    "    \"with Fe dopant metal\",\n",
    "    \"with Cu dopant metal\",\n",
    "    \"with Pt dopant metal\",\n",
    "    \"with Ni dopant metal\",\n",
    "]\n",
    "dopantr = [\"without any dopant metal\"]\n",
    "for w, d in product(dpwt, dpotanti):\n",
    "    dopantr.append(f\"{d} at {w}\")\n",
    "\n",
    "with open(\"paper/data/co_pool.txt\", \"w\") as f:\n",
    "    for wt, ctemp, temp, dopant in product(wtr, ctempr, tempr, dopantr):\n",
    "        prompt = (\n",
    "            f\"A {wt} wt% tungsten carbide catalyst was prepared {dopant} and carburized at {ctemp} °C. \"\n",
    "            f\"The reaction was run at {temp} °C\"\n",
    "        )\n",
    "        if prompt in lab_pool:\n",
    "            print(\"skipping found one\")\n",
    "            continue\n",
    "        f.write(prompt.split(\",\")[0] + \"\\n\")"
   ]
  },
  {
   "cell_type": "markdown",
   "id": "8bc9398b",
   "metadata": {},
   "source": [
    "# Mult Prediction"
   ]
  },
  {
   "cell_type": "code",
   "execution_count": 14,
   "id": "5ea197f2",
   "metadata": {},
   "outputs": [],
   "source": [
    "import bolift\n",
    "import numpy as np\n",
    "import matplotlib.pyplot as plt\n",
    "import json\n",
    "import pandas as pd\n",
    "from langchain.prompts.prompt import PromptTemplate\n",
    "\n",
    "\n",
    "data_path = \"paper/data/co_train.csv\"\n",
    "np.random.seed(0)"
   ]
  },
  {
   "cell_type": "code",
   "execution_count": 20,
   "id": "166df559",
   "metadata": {},
   "outputs": [
    {
     "data": {
      "text/html": [
       "<div>\n",
       "<style scoped>\n",
       "    .dataframe tbody tr th:only-of-type {\n",
       "        vertical-align: middle;\n",
       "    }\n",
       "\n",
       "    .dataframe tbody tr th {\n",
       "        vertical-align: top;\n",
       "    }\n",
       "\n",
       "    .dataframe thead th {\n",
       "        text-align: right;\n",
       "    }\n",
       "</style>\n",
       "<table border=\"1\" class=\"dataframe\">\n",
       "  <thead>\n",
       "    <tr style=\"text-align: right;\">\n",
       "      <th></th>\n",
       "      <th>conditions</th>\n",
       "      <th>coyield</th>\n",
       "    </tr>\n",
       "  </thead>\n",
       "  <tbody>\n",
       "    <tr>\n",
       "      <th>0</th>\n",
       "      <td>A 15 wt% tungsten carbide catalyst was prepare...</td>\n",
       "      <td>1.66</td>\n",
       "    </tr>\n",
       "    <tr>\n",
       "      <th>1</th>\n",
       "      <td>A 15 wt% tungsten carbide catalyst was prepare...</td>\n",
       "      <td>3.03</td>\n",
       "    </tr>\n",
       "    <tr>\n",
       "      <th>2</th>\n",
       "      <td>A 15 wt% tungsten carbide catalyst was prepare...</td>\n",
       "      <td>1.61</td>\n",
       "    </tr>\n",
       "    <tr>\n",
       "      <th>3</th>\n",
       "      <td>A 15 wt% tungsten carbide catalyst was prepare...</td>\n",
       "      <td>4.12</td>\n",
       "    </tr>\n",
       "    <tr>\n",
       "      <th>4</th>\n",
       "      <td>A 15 wt% tungsten carbide catalyst was prepare...</td>\n",
       "      <td>0.52</td>\n",
       "    </tr>\n",
       "    <tr>\n",
       "      <th>5</th>\n",
       "      <td>A 15 wt% tungsten carbide catalyst was prepare...</td>\n",
       "      <td>3.36</td>\n",
       "    </tr>\n",
       "    <tr>\n",
       "      <th>6</th>\n",
       "      <td>A 15 wt% tungsten carbide catalyst was prepare...</td>\n",
       "      <td>9.80</td>\n",
       "    </tr>\n",
       "    <tr>\n",
       "      <th>7</th>\n",
       "      <td>A 15 wt% tungsten carbide catalyst was prepare...</td>\n",
       "      <td>18.98</td>\n",
       "    </tr>\n",
       "    <tr>\n",
       "      <th>8</th>\n",
       "      <td>A 15 wt% tungsten carbide catalyst was prepare...</td>\n",
       "      <td>6.21</td>\n",
       "    </tr>\n",
       "    <tr>\n",
       "      <th>9</th>\n",
       "      <td>A 15 wt% tungsten carbide catalyst was prepare...</td>\n",
       "      <td>16.35</td>\n",
       "    </tr>\n",
       "    <tr>\n",
       "      <th>10</th>\n",
       "      <td>A 15 wt% tungsten carbide catalyst was prepare...</td>\n",
       "      <td>1.73</td>\n",
       "    </tr>\n",
       "    <tr>\n",
       "      <th>11</th>\n",
       "      <td>A 15 wt% tungsten carbide catalyst was prepare...</td>\n",
       "      <td>2.85</td>\n",
       "    </tr>\n",
       "    <tr>\n",
       "      <th>12</th>\n",
       "      <td>A 4.25 wt% tungsten carbide catalyst was prepa...</td>\n",
       "      <td>2.23</td>\n",
       "    </tr>\n",
       "    <tr>\n",
       "      <th>13</th>\n",
       "      <td>A 4.25 wt% tungsten carbide catalyst was prepa...</td>\n",
       "      <td>5.14</td>\n",
       "    </tr>\n",
       "    <tr>\n",
       "      <th>14</th>\n",
       "      <td>A 4.25 wt% tungsten carbide catalyst was prepa...</td>\n",
       "      <td>4.63</td>\n",
       "    </tr>\n",
       "    <tr>\n",
       "      <th>15</th>\n",
       "      <td>A 15 wt% tungsten carbide catalyst was prepare...</td>\n",
       "      <td>5.72</td>\n",
       "    </tr>\n",
       "    <tr>\n",
       "      <th>16</th>\n",
       "      <td>A 15 wt% tungsten carbide catalyst was prepare...</td>\n",
       "      <td>8.73</td>\n",
       "    </tr>\n",
       "    <tr>\n",
       "      <th>17</th>\n",
       "      <td>A 15 wt% tungsten carbide catalyst was prepare...</td>\n",
       "      <td>5.09</td>\n",
       "    </tr>\n",
       "    <tr>\n",
       "      <th>18</th>\n",
       "      <td>A 15 wt% tungsten carbide catalyst was prepare...</td>\n",
       "      <td>2.32</td>\n",
       "    </tr>\n",
       "    <tr>\n",
       "      <th>19</th>\n",
       "      <td>A 15 wt% tungsten carbide catalyst was prepare...</td>\n",
       "      <td>7.59</td>\n",
       "    </tr>\n",
       "    <tr>\n",
       "      <th>20</th>\n",
       "      <td>A 15 wt% tungsten carbide catalyst was prepare...</td>\n",
       "      <td>2.67</td>\n",
       "    </tr>\n",
       "    <tr>\n",
       "      <th>21</th>\n",
       "      <td>A 15 wt% tungsten carbide catalyst was prepare...</td>\n",
       "      <td>7.85</td>\n",
       "    </tr>\n",
       "    <tr>\n",
       "      <th>22</th>\n",
       "      <td>A 15 wt% tungsten carbide catalyst was prepare...</td>\n",
       "      <td>9.54</td>\n",
       "    </tr>\n",
       "    <tr>\n",
       "      <th>23</th>\n",
       "      <td>A 15 wt% tungsten carbide catalyst was prepare...</td>\n",
       "      <td>4.55</td>\n",
       "    </tr>\n",
       "    <tr>\n",
       "      <th>24</th>\n",
       "      <td>A 15 wt% tungsten carbide catalyst was prepare...</td>\n",
       "      <td>5.66</td>\n",
       "    </tr>\n",
       "    <tr>\n",
       "      <th>25</th>\n",
       "      <td>A 15 wt% tungsten carbide catalyst was prepare...</td>\n",
       "      <td>0.78</td>\n",
       "    </tr>\n",
       "    <tr>\n",
       "      <th>26</th>\n",
       "      <td>A 15 wt% tungsten carbide catalyst was prepare...</td>\n",
       "      <td>1.47</td>\n",
       "    </tr>\n",
       "    <tr>\n",
       "      <th>27</th>\n",
       "      <td>A 15 wt% tungsten carbide catalyst was prepare...</td>\n",
       "      <td>10.43</td>\n",
       "    </tr>\n",
       "    <tr>\n",
       "      <th>28</th>\n",
       "      <td>A 15 wt% tungsten carbide catalyst was prepare...</td>\n",
       "      <td>5.72</td>\n",
       "    </tr>\n",
       "    <tr>\n",
       "      <th>29</th>\n",
       "      <td>A 15 wt% tungsten carbide catalyst was prepare...</td>\n",
       "      <td>8.73</td>\n",
       "    </tr>\n",
       "    <tr>\n",
       "      <th>30</th>\n",
       "      <td>A 15 wt% tungsten carbide catalyst was prepare...</td>\n",
       "      <td>5.09</td>\n",
       "    </tr>\n",
       "    <tr>\n",
       "      <th>31</th>\n",
       "      <td>A 15 wt% tungsten carbide catalyst was prepare...</td>\n",
       "      <td>5.72</td>\n",
       "    </tr>\n",
       "    <tr>\n",
       "      <th>32</th>\n",
       "      <td>A 15 wt% tungsten carbide catalyst was prepare...</td>\n",
       "      <td>6.79</td>\n",
       "    </tr>\n",
       "    <tr>\n",
       "      <th>33</th>\n",
       "      <td>A 15 wt% tungsten carbide catalyst was prepare...</td>\n",
       "      <td>6.87</td>\n",
       "    </tr>\n",
       "    <tr>\n",
       "      <th>34</th>\n",
       "      <td>A 30 wt% tungsten carbide catalyst was prepare...</td>\n",
       "      <td>7.24</td>\n",
       "    </tr>\n",
       "    <tr>\n",
       "      <th>35</th>\n",
       "      <td>A 30 wt% tungsten carbide catalyst was prepare...</td>\n",
       "      <td>10.38</td>\n",
       "    </tr>\n",
       "    <tr>\n",
       "      <th>36</th>\n",
       "      <td>A 30 wt% tungsten carbide catalyst was prepare...</td>\n",
       "      <td>10.89</td>\n",
       "    </tr>\n",
       "  </tbody>\n",
       "</table>\n",
       "</div>"
      ],
      "text/plain": [
       "                                           conditions  coyield\n",
       "0   A 15 wt% tungsten carbide catalyst was prepare...     1.66\n",
       "1   A 15 wt% tungsten carbide catalyst was prepare...     3.03\n",
       "2   A 15 wt% tungsten carbide catalyst was prepare...     1.61\n",
       "3   A 15 wt% tungsten carbide catalyst was prepare...     4.12\n",
       "4   A 15 wt% tungsten carbide catalyst was prepare...     0.52\n",
       "5   A 15 wt% tungsten carbide catalyst was prepare...     3.36\n",
       "6   A 15 wt% tungsten carbide catalyst was prepare...     9.80\n",
       "7   A 15 wt% tungsten carbide catalyst was prepare...    18.98\n",
       "8   A 15 wt% tungsten carbide catalyst was prepare...     6.21\n",
       "9   A 15 wt% tungsten carbide catalyst was prepare...    16.35\n",
       "10  A 15 wt% tungsten carbide catalyst was prepare...     1.73\n",
       "11  A 15 wt% tungsten carbide catalyst was prepare...     2.85\n",
       "12  A 4.25 wt% tungsten carbide catalyst was prepa...     2.23\n",
       "13  A 4.25 wt% tungsten carbide catalyst was prepa...     5.14\n",
       "14  A 4.25 wt% tungsten carbide catalyst was prepa...     4.63\n",
       "15  A 15 wt% tungsten carbide catalyst was prepare...     5.72\n",
       "16  A 15 wt% tungsten carbide catalyst was prepare...     8.73\n",
       "17  A 15 wt% tungsten carbide catalyst was prepare...     5.09\n",
       "18  A 15 wt% tungsten carbide catalyst was prepare...     2.32\n",
       "19  A 15 wt% tungsten carbide catalyst was prepare...     7.59\n",
       "20  A 15 wt% tungsten carbide catalyst was prepare...     2.67\n",
       "21  A 15 wt% tungsten carbide catalyst was prepare...     7.85\n",
       "22  A 15 wt% tungsten carbide catalyst was prepare...     9.54\n",
       "23  A 15 wt% tungsten carbide catalyst was prepare...     4.55\n",
       "24  A 15 wt% tungsten carbide catalyst was prepare...     5.66\n",
       "25  A 15 wt% tungsten carbide catalyst was prepare...     0.78\n",
       "26  A 15 wt% tungsten carbide catalyst was prepare...     1.47\n",
       "27  A 15 wt% tungsten carbide catalyst was prepare...    10.43\n",
       "28  A 15 wt% tungsten carbide catalyst was prepare...     5.72\n",
       "29  A 15 wt% tungsten carbide catalyst was prepare...     8.73\n",
       "30  A 15 wt% tungsten carbide catalyst was prepare...     5.09\n",
       "31  A 15 wt% tungsten carbide catalyst was prepare...     5.72\n",
       "32  A 15 wt% tungsten carbide catalyst was prepare...     6.79\n",
       "33  A 15 wt% tungsten carbide catalyst was prepare...     6.87\n",
       "34  A 30 wt% tungsten carbide catalyst was prepare...     7.24\n",
       "35  A 30 wt% tungsten carbide catalyst was prepare...    10.38\n",
       "36  A 30 wt% tungsten carbide catalyst was prepare...    10.89"
      ]
     },
     "execution_count": 20,
     "metadata": {},
     "output_type": "execute_result"
    }
   ],
   "source": [
    "raw_data = pd.read_csv(data_path)\n",
    "raw_data"
   ]
  },
  {
   "cell_type": "code",
   "execution_count": 21,
   "id": "115f837d",
   "metadata": {},
   "outputs": [
    {
     "name": "stdout",
     "output_type": "stream",
     "text": [
      "                                          conditions  coyield\n",
      "7  A 15 wt% tungsten carbide catalyst was prepare...    18.98\n",
      "['A 15 wt% tungsten carbide catalyst was prepared with Cu dopant metal at 5 wt% and carburized at 835 °C. The reaction was run at 350 °C']\n"
     ]
    }
   ],
   "source": [
    "r = raw_data[raw_data.coyield == raw_data.coyield.max()]\n",
    "print(r)\n",
    "print(r.conditions.values)"
   ]
  },
  {
   "cell_type": "code",
   "execution_count": 22,
   "id": "9cd057fc",
   "metadata": {},
   "outputs": [],
   "source": [
    "asktell = bolift.AskTellFewShotTopk(\n",
    "    x_formatter=lambda x: f'the synthesis procedure:\"{x}\"',\n",
    "    y_name=\"the CO yield\",\n",
    "    y_formatter=lambda y: f\"{y:.2f}%\",\n",
    "    model=\"gpt-4\",\n",
    "    temperature=1,\n",
    "    selector_k=5,\n",
    ")"
   ]
  },
  {
   "cell_type": "code",
   "execution_count": 23,
   "id": "efdc6711",
   "metadata": {},
   "outputs": [
    {
     "ename": "ValidationError",
     "evalue": "1 validation error for OpenAIEmbeddings\n__root__\n  Did not find openai_api_key, please add an environment variable `OPENAI_API_KEY` which contains it, or pass  `openai_api_key` as a named parameter. (type=value_error)",
     "output_type": "error",
     "traceback": [
      "\u001b[1;31m---------------------------------------------------------------------------\u001b[0m",
      "\u001b[1;31mValidationError\u001b[0m                           Traceback (most recent call last)",
      "Cell \u001b[1;32mIn[23], line 3\u001b[0m\n\u001b[0;32m      1\u001b[0m \u001b[39mfor\u001b[39;00m i, (c, y) \u001b[39min\u001b[39;00m raw_data\u001b[39m.\u001b[39miterrows():\n\u001b[0;32m      2\u001b[0m     \u001b[39mif\u001b[39;00m i \u001b[39m<\u001b[39m \u001b[39mlen\u001b[39m(raw_data) \u001b[39m-\u001b[39m \u001b[39m1\u001b[39m:\n\u001b[1;32m----> 3\u001b[0m         asktell\u001b[39m.\u001b[39;49mtell(c, y)\n",
      "File \u001b[1;32m\\\\wsl$\\Ubuntu-20.04\\home\\maykcaldas\\Documents\\WhiteLab\\BO-LIFT\\bolift\\asktell.py:233\u001b[0m, in \u001b[0;36mAskTellFewShotMulti.tell\u001b[1;34m(self, x, y, alt_ys)\u001b[0m\n\u001b[0;32m    230\u001b[0m \u001b[39m# we want to have example\u001b[39;00m\n\u001b[0;32m    231\u001b[0m \u001b[39m# to initialize prompts, so send it\u001b[39;00m\n\u001b[0;32m    232\u001b[0m \u001b[39mif\u001b[39;00m \u001b[39mnot\u001b[39;00m \u001b[39mself\u001b[39m\u001b[39m.\u001b[39m_ready:\n\u001b[1;32m--> 233\u001b[0m     \u001b[39mself\u001b[39m\u001b[39m.\u001b[39mprompt \u001b[39m=\u001b[39m \u001b[39mself\u001b[39;49m\u001b[39m.\u001b[39;49m_setup_prompt(\n\u001b[0;32m    234\u001b[0m         example_dict, \u001b[39mself\u001b[39;49m\u001b[39m.\u001b[39;49m_prompt_template, \u001b[39mself\u001b[39;49m\u001b[39m.\u001b[39;49m_suffix, \u001b[39mself\u001b[39;49m\u001b[39m.\u001b[39;49m_prefix\n\u001b[0;32m    235\u001b[0m     )\n\u001b[0;32m    236\u001b[0m     \u001b[39mself\u001b[39m\u001b[39m.\u001b[39minv_prompt \u001b[39m=\u001b[39m \u001b[39mself\u001b[39m\u001b[39m.\u001b[39m_setup_inverse_prompt(inv_example)\n\u001b[0;32m    237\u001b[0m     \u001b[39mself\u001b[39m\u001b[39m.\u001b[39mllm \u001b[39m=\u001b[39m \u001b[39mself\u001b[39m\u001b[39m.\u001b[39m_setup_llm(\u001b[39mself\u001b[39m\u001b[39m.\u001b[39m_model, \u001b[39mself\u001b[39m\u001b[39m.\u001b[39m_temperature)\n",
      "File \u001b[1;32m\\\\wsl$\\Ubuntu-20.04\\home\\maykcaldas\\Documents\\WhiteLab\\BO-LIFT\\bolift\\asktell.py:456\u001b[0m, in \u001b[0;36mAskTellFewShotTopk._setup_prompt\u001b[1;34m(self, example, prompt_template, suffix, prefix)\u001b[0m\n\u001b[0;32m    450\u001b[0m     \u001b[39mif\u001b[39;00m \u001b[39mlen\u001b[39m(examples) \u001b[39m==\u001b[39m \u001b[39m0\u001b[39m:\n\u001b[0;32m    451\u001b[0m         \u001b[39mraise\u001b[39;00m \u001b[39mValueError\u001b[39;00m(\u001b[39m\"\u001b[39m\u001b[39mCannot do zero-shot with selector\u001b[39m\u001b[39m\"\u001b[39m)\n\u001b[0;32m    452\u001b[0m     example_selector \u001b[39m=\u001b[39m (\n\u001b[0;32m    453\u001b[0m         example_selector\n\u001b[0;32m    454\u001b[0m     ) \u001b[39m=\u001b[39m MaxMarginalRelevanceExampleSelector\u001b[39m.\u001b[39mfrom_examples(\n\u001b[0;32m    455\u001b[0m         [example],\n\u001b[1;32m--> 456\u001b[0m         OpenAIEmbeddings(),\n\u001b[0;32m    457\u001b[0m         FAISS,\n\u001b[0;32m    458\u001b[0m         k\u001b[39m=\u001b[39m\u001b[39mself\u001b[39m\u001b[39m.\u001b[39m_selector_k,\n\u001b[0;32m    459\u001b[0m     )\n\u001b[0;32m    460\u001b[0m \u001b[39mreturn\u001b[39;00m FewShotPromptTemplate(\n\u001b[0;32m    461\u001b[0m     examples\u001b[39m=\u001b[39mexamples \u001b[39mif\u001b[39;00m example_selector \u001b[39mis\u001b[39;00m \u001b[39mNone\u001b[39;00m \u001b[39melse\u001b[39;00m \u001b[39mNone\u001b[39;00m,\n\u001b[0;32m    462\u001b[0m     example_prompt\u001b[39m=\u001b[39mprompt_template,\n\u001b[1;32m   (...)\u001b[0m\n\u001b[0;32m    466\u001b[0m     input_variables\u001b[39m=\u001b[39m[\u001b[39m\"\u001b[39m\u001b[39mx\u001b[39m\u001b[39m\"\u001b[39m, \u001b[39m\"\u001b[39m\u001b[39my_name\u001b[39m\u001b[39m\"\u001b[39m],\n\u001b[0;32m    467\u001b[0m )\n",
      "File \u001b[1;32m~\\AppData\\Local\\Packages\\PythonSoftwareFoundation.Python.3.11_qbz5n2kfra8p0\\LocalCache\\local-packages\\Python311\\site-packages\\pydantic\\main.py:342\u001b[0m, in \u001b[0;36mpydantic.main.BaseModel.__init__\u001b[1;34m()\u001b[0m\n",
      "\u001b[1;31mValidationError\u001b[0m: 1 validation error for OpenAIEmbeddings\n__root__\n  Did not find openai_api_key, please add an environment variable `OPENAI_API_KEY` which contains it, or pass  `openai_api_key` as a named parameter. (type=value_error)"
     ]
    }
   ],
   "source": [
    "for i, (c, y) in raw_data.iterrows():\n",
    "    if i < len(raw_data) - 1:\n",
    "        asktell.tell(c, y)"
   ]
  },
  {
   "cell_type": "code",
   "execution_count": null,
   "id": "6159eee1",
   "metadata": {},
   "outputs": [],
   "source": [
    "asktell.predict(c), y"
   ]
  },
  {
   "cell_type": "code",
   "execution_count": null,
   "id": "057e6d64",
   "metadata": {},
   "outputs": [],
   "source": [
    "# tell the last one\n",
    "asktell.tell(c, y)"
   ]
  },
  {
   "cell_type": "code",
   "execution_count": null,
   "id": "0a161dcf",
   "metadata": {},
   "outputs": [],
   "source": [
    "s = asktell.inv_predict(20)\n",
    "s"
   ]
  },
  {
   "cell_type": "code",
   "execution_count": null,
   "id": "5149077e",
   "metadata": {},
   "outputs": [],
   "source": [
    "with open(\"data/co_pool.txt\") as f:\n",
    "    pool = bolift.Pool(list(f.readlines()))\n",
    "print(len(pool))"
   ]
  },
  {
   "cell_type": "code",
   "execution_count": null,
   "id": "9b9055de",
   "metadata": {},
   "outputs": [],
   "source": [
    "result = asktell.ask(pool, \"greedy\", inv_filter=50)"
   ]
  },
  {
   "cell_type": "code",
   "execution_count": null,
   "id": "0d80b056",
   "metadata": {},
   "outputs": [],
   "source": [
    "x = result[0][0]\n",
    "print(x)"
   ]
  },
  {
   "cell_type": "code",
   "execution_count": null,
   "id": "d5058b82",
   "metadata": {},
   "outputs": [],
   "source": [
    "dist = asktell.predict(x)\n",
    "print(dist, dist.mean(), dist.std())"
   ]
  },
  {
   "cell_type": "markdown",
   "id": "e8c49f00",
   "metadata": {},
   "source": [
    "# GPR"
   ]
  },
  {
   "cell_type": "code",
   "execution_count": null,
   "id": "09ae3242",
   "metadata": {},
   "outputs": [],
   "source": [
    "asktell = bolift.AskTellGPR(\n",
    "    x_formatter=lambda x: f'synthesis procedure:\"{x}\"',\n",
    "    y_name=\"CO yield\",\n",
    "    y_formatter=lambda y: f\"{y:.2f}\",\n",
    ")"
   ]
  },
  {
   "cell_type": "code",
   "execution_count": null,
   "id": "08119280",
   "metadata": {},
   "outputs": [],
   "source": [
    "for i, (c, y) in raw_data.iterrows():\n",
    "    if i < len(raw_data) - 1:\n",
    "        asktell.tell(c, y)"
   ]
  },
  {
   "cell_type": "code",
   "execution_count": null,
   "id": "33ad2903",
   "metadata": {},
   "outputs": [],
   "source": [
    "asktell.predict(c), y"
   ]
  },
  {
   "cell_type": "code",
   "execution_count": null,
   "id": "4c7173c6",
   "metadata": {},
   "outputs": [],
   "source": [
    "# tell the last one\n",
    "asktell.tell(c, y)"
   ]
  },
  {
   "cell_type": "code",
   "execution_count": null,
   "id": "8ec0eb45",
   "metadata": {},
   "outputs": [],
   "source": [
    "with open(\"data/co_pool.txt\") as f:\n",
    "    pool = bolift.Pool(list(f.readlines()))"
   ]
  },
  {
   "cell_type": "code",
   "execution_count": null,
   "id": "6a8f6032",
   "metadata": {},
   "outputs": [],
   "source": [
    "result = asktell.ask(pool, \"greedy\")"
   ]
  },
  {
   "cell_type": "code",
   "execution_count": null,
   "id": "32e1e2d2",
   "metadata": {},
   "outputs": [],
   "source": [
    "x = result[0][0]\n",
    "print(x)"
   ]
  },
  {
   "cell_type": "code",
   "execution_count": null,
   "id": "98b40214",
   "metadata": {},
   "outputs": [],
   "source": [
    "dist = asktell.predict(x)\n",
    "print(dist, dist.mean(), dist.std())"
   ]
  },
  {
   "cell_type": "code",
   "execution_count": null,
   "id": "6827dd6e",
   "metadata": {},
   "outputs": [],
   "source": []
  }
 ],
 "metadata": {
  "kernelspec": {
   "display_name": "Python 3 (ipykernel)",
   "language": "python",
   "name": "python3"
  },
  "language_info": {
   "codemirror_mode": {
    "name": "ipython",
    "version": 3
   },
   "file_extension": ".py",
   "mimetype": "text/x-python",
   "name": "python",
   "nbconvert_exporter": "python",
   "pygments_lexer": "ipython3",
   "version": "3.11.2"
  }
 },
 "nbformat": 4,
 "nbformat_minor": 5
}
