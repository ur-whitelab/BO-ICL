{
 "cells": [
  {
   "cell_type": "markdown",
   "id": "3345ef56",
   "metadata": {},
   "source": [
    "# Code to Process Data from Marc"
   ]
  },
  {
   "cell_type": "code",
   "execution_count": null,
   "id": "481a609b",
   "metadata": {},
   "outputs": [],
   "source": [
    "lab_pool = set()\n",
    "with open(\"data/Tungsten carbide data update.csv\") as f:\n",
    "    with open(\"co_train.csv\", \"w\") as g:\n",
    "        for line in f.readlines():\n",
    "            if len(line) < 5:\n",
    "                continue\n",
    "            x = line[1:].split(\",\")[0]\n",
    "            y = line.split(\"of\")[1][:-4]\n",
    "            g.write(f'\"{x}\",{y}\\n')\n",
    "            lab_pool.add(x)"
   ]
  },
  {
   "cell_type": "code",
   "execution_count": null,
   "id": "f112fe6c",
   "metadata": {},
   "outputs": [],
   "source": [
    "from itertools import product\n",
    "\n",
    "wtr = range(4, 30)\n",
    "ctempr = range(600, 1000 + 50, 50)\n",
    "tempr = range(250, 350 + 25, 25)\n",
    "dpwt = [\"0.5 wt%\", \"5 wt%\"]\n",
    "dpotanti = [\n",
    "    \"with Co dopant metal\",\n",
    "    \"with Fe dopant metal\",\n",
    "    \"with Cu dopant metal\",\n",
    "    \"with Pt dopant metal\",\n",
    "    \"with Ni dopant metal\",\n",
    "]\n",
    "dopantr = [\"without any dopant metal\"]\n",
    "for w, d in product(dpwt, dpotanti):\n",
    "    dopantr.append(f\"{d} at {w}\")\n",
    "\n",
    "with open(\"co_pool.txt\", \"w\") as f:\n",
    "    for wt, ctemp, temp, dopant in product(wtr, ctempr, tempr, dopantr):\n",
    "        prompt = (\n",
    "            f\"A {wt} wt% tungsten carbide catalyst was prepared {dopant} and carburized at {ctemp} °C. \"\n",
    "            f\"The reaction was run at {temp} °C\"\n",
    "        )\n",
    "        if prompt in lab_pool:\n",
    "            print(\"skipping found one\")\n",
    "            continue\n",
    "        f.write(prompt.split(\",\")[0] + \"\\n\")"
   ]
  },
  {
   "cell_type": "markdown",
   "id": "8bc9398b",
   "metadata": {},
   "source": [
    "# Mult Prediction"
   ]
  },
  {
   "cell_type": "code",
   "execution_count": null,
   "id": "5ea197f2",
   "metadata": {},
   "outputs": [],
   "source": [
    "import bolift\n",
    "import numpy as np\n",
    "import matplotlib.pyplot as plt\n",
    "import json\n",
    "import pandas as pd\n",
    "from langchain.prompts.prompt import PromptTemplate\n",
    "\n",
    "\n",
    "data_path = \"data/co_train.csv\"\n",
    "np.random.seed(0)"
   ]
  },
  {
   "cell_type": "code",
   "execution_count": null,
   "id": "166df559",
   "metadata": {},
   "outputs": [],
   "source": [
    "raw_data = pd.read_csv(data_path)\n",
    "raw_data"
   ]
  },
  {
   "cell_type": "code",
   "execution_count": null,
   "id": "115f837d",
   "metadata": {},
   "outputs": [],
   "source": [
    "r = raw_data[raw_data.coyield == raw_data.coyield.max()]\n",
    "print(r)\n",
    "print(r.conditions.values)"
   ]
  },
  {
   "cell_type": "code",
   "execution_count": null,
   "id": "9cd057fc",
   "metadata": {},
   "outputs": [],
   "source": [
    "asktell = bolift.AskTellFewShotTopk(\n",
    "    x_formatter=lambda x: f'the synthesis procedure:\"{x}\"',\n",
    "    y_name=\"the CO yield\",\n",
    "    y_formatter=lambda y: f\"{y:.2f}%\",\n",
    "    model=\"gpt-4\",\n",
    "    temperature=1,\n",
    "    selector_k=5,\n",
    ")"
   ]
  },
  {
   "cell_type": "code",
   "execution_count": null,
   "id": "efdc6711",
   "metadata": {},
   "outputs": [],
   "source": [
    "for i, (c, y) in raw_data.iterrows():\n",
    "    if i < len(raw_data) - 1:\n",
    "        asktell.tell(c, y)"
   ]
  },
  {
   "cell_type": "code",
   "execution_count": null,
   "id": "6159eee1",
   "metadata": {},
   "outputs": [],
   "source": [
    "asktell.predict(c), y"
   ]
  },
  {
   "cell_type": "code",
   "execution_count": null,
   "id": "057e6d64",
   "metadata": {},
   "outputs": [],
   "source": [
    "# tell the last one\n",
    "asktell.tell(c, y)"
   ]
  },
  {
   "cell_type": "code",
   "execution_count": null,
   "id": "0a161dcf",
   "metadata": {},
   "outputs": [],
   "source": [
    "s = asktell.inv_predict(20)\n",
    "s"
   ]
  },
  {
   "cell_type": "code",
   "execution_count": null,
   "id": "5149077e",
   "metadata": {},
   "outputs": [],
   "source": [
    "with open(\"data/co_pool.txt\") as f:\n",
    "    pool = bolift.Pool(list(f.readlines()))\n",
    "print(len(pool))"
   ]
  },
  {
   "cell_type": "code",
   "execution_count": null,
   "id": "9b9055de",
   "metadata": {},
   "outputs": [],
   "source": [
    "result = asktell.ask(pool, \"greedy\", inv_filter=50)"
   ]
  },
  {
   "cell_type": "code",
   "execution_count": null,
   "id": "0d80b056",
   "metadata": {},
   "outputs": [],
   "source": [
    "x = result[0][0]\n",
    "print(x)"
   ]
  },
  {
   "cell_type": "code",
   "execution_count": null,
   "id": "d5058b82",
   "metadata": {},
   "outputs": [],
   "source": [
    "dist = asktell.predict(x)\n",
    "print(dist, dist.mean(), dist.std())"
   ]
  },
  {
   "cell_type": "markdown",
   "id": "e8c49f00",
   "metadata": {},
   "source": [
    "# GPR"
   ]
  },
  {
   "cell_type": "code",
   "execution_count": null,
   "id": "09ae3242",
   "metadata": {},
   "outputs": [],
   "source": [
    "asktell = bolift.AskTellGPR(\n",
    "    x_formatter=lambda x: f'synthesis procedure:\"{x}\"',\n",
    "    y_name=\"CO yield\",\n",
    "    y_formatter=lambda y: f\"{y:.2f}\",\n",
    ")"
   ]
  },
  {
   "cell_type": "code",
   "execution_count": null,
   "id": "08119280",
   "metadata": {},
   "outputs": [],
   "source": [
    "for i, (c, y) in raw_data.iterrows():\n",
    "    if i < len(raw_data) - 1:\n",
    "        asktell.tell(c, y)"
   ]
  },
  {
   "cell_type": "code",
   "execution_count": null,
   "id": "33ad2903",
   "metadata": {},
   "outputs": [],
   "source": [
    "asktell.predict(c), y"
   ]
  },
  {
   "cell_type": "code",
   "execution_count": null,
   "id": "4c7173c6",
   "metadata": {},
   "outputs": [],
   "source": [
    "# tell the last one\n",
    "asktell.tell(c, y)"
   ]
  },
  {
   "cell_type": "code",
   "execution_count": null,
   "id": "8ec0eb45",
   "metadata": {},
   "outputs": [],
   "source": [
    "with open(\"data/co_pool.txt\") as f:\n",
    "    pool = bolift.Pool(list(f.readlines()))"
   ]
  },
  {
   "cell_type": "code",
   "execution_count": null,
   "id": "6a8f6032",
   "metadata": {},
   "outputs": [],
   "source": [
    "result = asktell.ask(pool, \"greedy\")"
   ]
  },
  {
   "cell_type": "code",
   "execution_count": null,
   "id": "32e1e2d2",
   "metadata": {},
   "outputs": [],
   "source": [
    "x = result[0][0]\n",
    "print(x)"
   ]
  },
  {
   "cell_type": "code",
   "execution_count": null,
   "id": "98b40214",
   "metadata": {},
   "outputs": [],
   "source": [
    "dist = asktell.predict(x)\n",
    "print(dist, dist.mean(), dist.std())"
   ]
  },
  {
   "cell_type": "code",
   "execution_count": null,
   "id": "6827dd6e",
   "metadata": {},
   "outputs": [],
   "source": []
  }
 ],
 "metadata": {
  "kernelspec": {
   "display_name": "Python 3 (ipykernel)",
   "language": "python",
   "name": "python3"
  },
  "language_info": {
   "codemirror_mode": {
    "name": "ipython",
    "version": 3
   },
   "file_extension": ".py",
   "mimetype": "text/x-python",
   "name": "python",
   "nbconvert_exporter": "python",
   "pygments_lexer": "ipython3",
   "version": "3.10.4"
  }
 },
 "nbformat": 4,
 "nbformat_minor": 5
}
