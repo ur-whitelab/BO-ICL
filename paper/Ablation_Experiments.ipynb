{
 "cells": [
  {
   "cell_type": "code",
   "execution_count": 1,
   "metadata": {},
   "outputs": [],
   "source": [
    "import bolift\n",
    "import numpy as np\n",
    "import json\n",
    "import pandas as pd\n",
    "from langchain.prompts.prompt import PromptTemplate\n",
    "import itertools\n",
    "import os\n",
    "import openai\n",
    "\n",
    "np.random.seed(0)"
   ]
  },
  {
   "attachments": {},
   "cell_type": "markdown",
   "metadata": {},
   "source": [
    "# Ablation experiments"
   ]
  },
  {
   "cell_type": "code",
   "execution_count": 2,
   "metadata": {},
   "outputs": [],
   "source": [
    "from tenacity import (\n",
    "    retry,\n",
    "    stop_after_attempt,\n",
    "    wait_random_exponential,\n",
    ")\n",
    "@retry(wait=wait_random_exponential(min=1, max=60), stop=stop_after_attempt(6))\n",
    "def run_ablation_experiment(asktell, train_data, test_data):\n",
    "    for i in range(len(train_data)):\n",
    "        asktell.tell(train_data.iloc[i, 0], float(train_data.iloc[i, 1]))\n",
    "    x    = []\n",
    "    y    = []\n",
    "    yhat = []\n",
    "    for j in range(len(test_data)):\n",
    "        x.append(test_data.iloc[j, 0])\n",
    "        y.append(float(test_data.iloc[j, 1]))\n",
    "        yhat.append(asktell.predict(test_data.iloc[j, 0]))\n",
    "\n",
    "    # We should count how many x's have no yhat\n",
    "    x_filter = [xi for xi, yhi in zip(x, yhat) if len(yhi.values) > 0]\n",
    "    y_filter = [yi for yi, yhi in zip(y, yhat) if len(yhi.values) > 0]\n",
    "    yhat_filter = [yhi for yi, yhi in zip(y, yhat) if len(yhi.values) > 0]\n",
    "    return x_filter, y_filter, yhat_filter\n",
    "    \n",
    "def save_csv(filename, x, y, yhat, data, model, T, k, N, model_class, tokens):\n",
    "    if not os.path.exists(filename):\n",
    "        f = open(filename, \"w\")\n",
    "        f.write(\"y;yhat;yprobs;data;model;Temperature;k_selected;N_train;model_class;n_tokens;x\\n\")\n",
    "    else:\n",
    "        f = open(filename, \"a\")\n",
    "    for xi, yi, yhi in zip(x, y, yhat):\n",
    "        for v,p in zip(yhi.values, yhi.probs):\n",
    "            f.write(f\"{yi};{v};{p:.4f};{data};{model};{T};{k};{N};{model_class};{tokens};{xi}\\n\")\n",
    "    f.close()\n",
    "\n",
    "T_list = [0.05, 0.5, 1.0, 1.5]\n",
    "k_list = [0, 5, 10]\n",
    "N_list = [1,2,3,4,5,10,25,50,100,200] # depends on each dataset\n",
    "models_list = [\"text-curie-001\"]\n",
    "out_csv_file = \"ablation_results.csv\""
   ]
  },
  {
   "cell_type": "code",
   "execution_count": 3,
   "metadata": {},
   "outputs": [],
   "source": [
    "# def parity_plot(y, yhat):\n",
    "#     modes = [yhat[i].mode() for i in range(len(yhat))]\n",
    "#     std = [yhat[i].std() for i in range(len(yhat))]\n",
    "#     plt.errorbar(y, modes, yerr=std, fmt=\"o\")\n",
    "#     plt.plot(y, y)\n",
    "#     plt.xlabel(\"Actual Yield\")\n",
    "#     plt.ylabel(\"Predicted Yield\")\n",
    "#     plt.show()"
   ]
  },
  {
   "attachments": {},
   "cell_type": "markdown",
   "metadata": {},
   "source": [
    "## C2 yield"
   ]
  },
  {
   "cell_type": "code",
   "execution_count": 18,
   "metadata": {},
   "outputs": [
    {
     "name": "stdout",
     "output_type": "stream",
     "text": [
      "12708 1016 254\n"
     ]
    }
   ],
   "source": [
    "data_path = \"paper/data/C2_yield_meth_oxy_short.csv\"\n",
    "raw_data = pd.read_csv(data_path)\n",
    "\n",
    "np.random.seed(0)\n",
    "\n",
    "N = raw_data.shape[0]\n",
    "train = np.random.choice(raw_data.shape[0], int(N * 0.8), replace=False)\n",
    "test = np.setdiff1d(np.arange(raw_data.shape[0]), train)\n",
    "np.random.shuffle(test)\n",
    "\n",
    "train_data = raw_data.iloc[train, :].reset_index(drop=True)[:int(0.1*len(train))]\n",
    "# train_data[\"prompt\"] = train_data[\"prompt\"].map(lambda x: x.replace(\",\", \";\"))\n",
    "test_data = raw_data.iloc[test, :].reset_index(drop=True)[:int(0.1*len(test))]\n",
    "# test_data[\"prompt\"] = test_data[\"prompt\"].map(lambda x: x.replace(\",\", \";\"))\n",
    "print(N, len(train_data), len(test_data))"
   ]
  },
  {
   "cell_type": "code",
   "execution_count": 5,
   "metadata": {},
   "outputs": [
    {
     "name": "stdout",
     "output_type": "stream",
     "text": [
      " 5.92\n",
      " 5.92\n",
      " 5.92\n",
      " 5.92\n",
      " 5.92\n"
     ]
    },
    {
     "data": {
      "text/plain": [
       "DiscreteDist([5.92 5.92 5.92 5.92 5.92], [0.2 0.2 0.2 0.2 0.2])"
      ]
     },
     "execution_count": 5,
     "metadata": {},
     "output_type": "execute_result"
    }
   ],
   "source": [
    "asktell = bolift.AskTellFewShotTopk(\n",
    "    x_formatter=lambda x: f\"experimental procedure: {x}\",\n",
    "    y_name=\"C2 yield\",\n",
    "    y_formatter=lambda y: f\"{y:.2f}\",\n",
    "    model='text-curie-001',\n",
    "    selector_k=1,\n",
    "    temperature=0.05,\n",
    "    verbose=False,\n",
    ")\n",
    "\n",
    "for i in range(25):\n",
    "    asktell.tell(train_data.iloc[i, 0], float(train_data.iloc[i, 1]))\n",
    "# test_data.iloc[j, 0]\n",
    "# float(test_data.iloc[j, 1])\n",
    "p = \" To synthesize Mn-Na2WO4/Al2O3 , Al2O3 (1.0 g) was impregnated with 4.5 mL of an aqueous solution consiting of Mn ( 0.37 mol) , Na ( 0.37 mol) , W ( 0.185 mol) , at 50 �C for 6 h. Once activated the reaction is ran at 750 �C. The total flow rate was 15 mL/min (Ar: 6.0 mL/min, CH4: 6.8 mL/min, O2: 2.3 mL/min), leading to a contact time of 0.5 s.\"\n",
    "asktell.predict(p)"
   ]
  },
  {
   "attachments": {},
   "cell_type": "markdown",
   "metadata": {},
   "source": [
    "### multi"
   ]
  },
  {
   "cell_type": "code",
   "execution_count": 19,
   "metadata": {},
   "outputs": [],
   "source": [
    "def run_C2_multi_ablation(train_data, test_data, model=\"text-curie-001\", T=0.05, N=50, k=10):\n",
    "    asktell = bolift.AskTellFewShotMulti(\n",
    "        x_formatter=lambda x: f\"experimental procedure: {x}\",\n",
    "        y_name=\"C2 yield\",\n",
    "        y_formatter=lambda y: f\"{y:.2f}\",\n",
    "        model=model,\n",
    "        selector_k=k,\n",
    "        temperature=T\n",
    "    )\n",
    "    exp_train_data = train_data[:N]\n",
    "    x, y, yhat =  run_ablation_experiment(asktell, exp_train_data, test_data)\n",
    "\n",
    "    data=\"C2\"\n",
    "    model_class=\"multi\"\n",
    "    save_csv(out_csv_file, x, y, yhat, data, model, T, k, N, model_class, asktell.tokens_used)\n",
    "\n",
    "    return y, yhat"
   ]
  },
  {
   "cell_type": "code",
   "execution_count": 20,
   "metadata": {},
   "outputs": [
    {
     "name": "stdout",
     "output_type": "stream",
     "text": [
      "Running C2 multi ablation with T=0.05, k=5, N=1000, model=text-davinci-001  --> done\n"
     ]
    }
   ],
   "source": [
    "\n",
    "T_list = [0.05]\n",
    "k_list = [5]\n",
    "N_list = [1000]\n",
    "models_list = [\"text-davinci-001\"]\n",
    "for T, k, N, model in itertools.product(T_list, k_list, N_list, models_list):\n",
    "  print(f\"Running C2 multi ablation with T={T}, k={k}, N={N}, model={model}\", end=\" \")\n",
    "  y, yhat = run_C2_multi_ablation(train_data, test_data, model=model, T=T, N=N, k=k)\n",
    "  print(\" --> done\")\n"
   ]
  },
  {
   "attachments": {},
   "cell_type": "markdown",
   "metadata": {},
   "source": [
    "### topk"
   ]
  },
  {
   "cell_type": "code",
   "execution_count": 21,
   "metadata": {},
   "outputs": [],
   "source": [
    "def run_C2_topk_ablation(train_data, test_data, model=\"text-curie-001\", T=0.05, N=50, k=10):\n",
    "    asktell = bolift.AskTellFewShotTopk(\n",
    "        x_formatter=lambda x: f\"experimental procedure: {x}\",\n",
    "        y_name=\"C2 yield\",\n",
    "        y_formatter=lambda y: f\"{y:.2f}\",\n",
    "        model=model,\n",
    "        selector_k=k,\n",
    "        temperature=T\n",
    "    )\n",
    "    exp_train_data = train_data[:N]\n",
    "    x, y, yhat =  run_ablation_experiment(asktell, exp_train_data, test_data)\n",
    "\n",
    "    data=\"C2\"\n",
    "    model_class=\"topk\"\n",
    "    save_csv(out_csv_file, x, y, yhat, data, model, T, k, N, model_class, asktell.tokens_used)\n",
    "\n",
    "    return y, yhat"
   ]
  },
  {
   "cell_type": "code",
   "execution_count": 22,
   "metadata": {},
   "outputs": [
    {
     "name": "stdout",
     "output_type": "stream",
     "text": [
      "Running C2 topk ablation with T=0.05, k=5, N=1000, model=text-davinci-001  --> done\n"
     ]
    }
   ],
   "source": [
    "\n",
    "T_list = [0.05]\n",
    "k_list = [5]\n",
    "N_list = [1000]\n",
    "models_list = [\"text-davinci-001\"]\n",
    "for T, k, N, model in itertools.product(T_list, k_list, N_list, models_list):\n",
    "  print(f\"Running C2 topk ablation with T={T}, k={k}, N={N}, model={model}\", end=\" \")\n",
    "  y, yhat = run_C2_topk_ablation(train_data, test_data, model=model, T=T, N=N, k=k)\n",
    "  print(\" --> done\")\n"
   ]
  },
  {
   "attachments": {},
   "cell_type": "markdown",
   "metadata": {},
   "source": [
    "### Finetune"
   ]
  },
  {
   "cell_type": "code",
   "execution_count": 108,
   "metadata": {},
   "outputs": [],
   "source": [
    "def run_C2_finetune(train_data, model=\"text-ada-001\", N=50):\n",
    "    asktell = bolift.AskTellFinetuning(\n",
    "        prefix=\"\",\n",
    "        prompt_template=PromptTemplate(\n",
    "            input_variables=[\"x\", \"y\", \"y_name\"],\n",
    "            template=\"Q: What is the {y_name} of {x}?@@@\\nA: {y}###\",\n",
    "        ),\n",
    "        suffix=\"What is the {y_name} of {x}?@@@\\nA:\",\n",
    "        x_formatter=lambda x: f\"experimental procedure: {x}\",\n",
    "        y_name=\"C2 yield\",\n",
    "        y_formatter=lambda y: f\"{y:.2f}\",\n",
    "        model=model,\n",
    "        n_epochs=8,\n",
    "        learning_rate_multiplier=0.05,\n",
    "    )\n",
    "    # Tell one example so the moduel build the prompt\n",
    "    asktell.tell(train_data.iloc[0, 0], train_data.iloc[0, 1])\n",
    "    exp_train_data = train_data.iloc[:N]\n",
    "\n",
    "    prompts=[]\n",
    "    completions=[]\n",
    "    for i in range(len(exp_train_data)):\n",
    "        prompts.append(f\"What is the yield strength of {exp_train_data.iloc[i, 0]}?@@@\\\\nA: \")\n",
    "        completions.append(f\"{float(exp_train_data.iloc[i, 1])}###\")\n",
    "    asktell.prepare_data(prompts, completions, f'./paper/out/data_C2_{N}.dat')\n",
    "    asktell.fine_tune(prompts, completions, out_path='./paper/out', out_file=f'FT_C2_{N}')\n",
    "    print(asktell.get_model_name())\n",
    "\n",
    "def run_C2_FT_ablation(train_data, test_data, model=\"text-ada-001\", T=0.05, N=10, k=0):\n",
    "    with open(f'./paper/out/FT_C2_{N}.dat', 'r') as f:\n",
    "        response = json.load(f)\n",
    "    \n",
    "    asktell = bolift.AskTellFinetuning(\n",
    "        prefix=\"\",\n",
    "        prompt_template=PromptTemplate(\n",
    "            input_variables=[\"x\", \"y\", \"y_name\"],\n",
    "            template=\"Q: What is the {y_name} of {x}?@@@\\nA: {y}###\",\n",
    "        ),\n",
    "        suffix=\"What is the {y_name} of {x}?@@@\\nA:\",\n",
    "        # x_formatter=lambda x: f\"alloy composition: {x}\",\n",
    "        y_name=\"C2 yield\",\n",
    "        y_formatter=lambda y: f\"{y:.2f}\",\n",
    "        model=model,\n",
    "        id=response['id'],\n",
    "        selector_k=0,\n",
    "        n_epochs=8,\n",
    "        learning_rate_multiplier=0.05,\n",
    "    )\n",
    "    asktell.tell(train_data.iloc[0, 0], train_data.iloc[0, 1])\n",
    "    exp_train_data = train_data.iloc[:1]\n",
    "    x, y, yhat =  run_ablation_experiment(asktell, exp_train_data, test_data)\n",
    "\n",
    "    data=\"C2\"\n",
    "    model_class=\"finetune\"\n",
    "    save_csv(out_csv_file, x, y, yhat, data, asktell.get_model_name(), T, k, N, model_class, asktell.tokens_used)\n",
    "\n",
    "    return y, yhat"
   ]
  },
  {
   "cell_type": "code",
   "execution_count": 109,
   "metadata": {},
   "outputs": [
    {
     "name": "stdout",
     "output_type": "stream",
     "text": [
      "Running C2 FT with N=500\n",
      "text-ada-001\n",
      "running.   Fine-tune succeeded                                                                \n",
      "\n",
      "ada:ft-white-research-laboratory-2023-02-28-03-16-06\n",
      " --> done\n"
     ]
    }
   ],
   "source": [
    "N_list=[500]\n",
    "for N in N_list: \n",
    "  print(f\"Running C2 FT with N={N}\")\n",
    "  run_C2_finetune(train_data, model=\"text-ada-001\", N=N)\n",
    "  print(\" --> done\")"
   ]
  },
  {
   "cell_type": "code",
   "execution_count": 110,
   "metadata": {},
   "outputs": [
    {
     "name": "stdout",
     "output_type": "stream",
     "text": [
      "Running C2 finetune ablation with T=0.05, k=0, N=500, model=text-ada-001 text-ada-001\n",
      "ada:ft-white-research-laboratory-2023-02-28-03-16-06\n",
      " --> done\n"
     ]
    }
   ],
   "source": [
    "T_list = [0.05]\n",
    "k_list = [0]\n",
    "N_list = [500]\n",
    "models_list = [\"text-ada-001\"]\n",
    "for T, k, N, model in itertools.product(T_list, k_list, N_list, models_list):\n",
    "  print(f\"Running C2 finetune ablation with T={T}, k={k}, N={N}, model={model}\", end=\" \")\n",
    "  y, yhat = run_C2_FT_ablation(train_data, test_data, model=\"text-ada-001\", T=T, N=N, k=k)\n",
    "  print(\" --> done\")\n"
   ]
  },
  {
   "attachments": {},
   "cell_type": "markdown",
   "metadata": {},
   "source": [
    "## Iupac-solubility"
   ]
  },
  {
   "cell_type": "code",
   "execution_count": 9,
   "metadata": {},
   "outputs": [],
   "source": [
    "import requests\n",
    "data_path = \"paper/data/esol_iupac.csv\"\n",
    "raw_data = pd.read_csv(data_path)\n",
    "\n",
    "def query2IUPAC(text):\n",
    "  try:\n",
    "    '''This function queries the one given molecule name and returns a SMILES string from the record'''\n",
    "    #query the PubChem database\n",
    "    r = requests.get('https://pubchem.ncbi.nlm.nih.gov/rest/pug/compound/smiles/' + text + '/property/IUPACName/JSON')\n",
    "    data = r.json()\n",
    "    smi = data[\"PropertyTable\"][\"Properties\"][0][\"IUPACName\"]\n",
    "    return smi\n",
    "  except:\n",
    "    return None\n",
    "\n",
    "# raw_data[\"IUPAC\"] = raw_data[\"SMILES\"].map(lambda sml: query2IUPAC(sml))\n",
    "raw_data = raw_data[[\"IUPAC\", \"measured log(solubility:mol/L)\"]]\n",
    "raw_data = raw_data.dropna()"
   ]
  },
  {
   "cell_type": "code",
   "execution_count": 10,
   "metadata": {},
   "outputs": [
    {
     "name": "stdout",
     "output_type": "stream",
     "text": [
      "882 705 177\n"
     ]
    }
   ],
   "source": [
    "np.random.seed(0)\n",
    "\n",
    "N = raw_data.shape[0]\n",
    "train = np.random.choice(raw_data.shape[0], int(N * 0.8), replace=False)\n",
    "test = np.setdiff1d(np.arange(raw_data.shape[0]), train)\n",
    "np.random.shuffle(test)\n",
    "\n",
    "train_data = raw_data.iloc[train, :].reset_index(drop=True)\n",
    "test_data = raw_data.iloc[test, :].reset_index(drop=True)\n",
    "print(N, len(train_data), len(test_data))"
   ]
  },
  {
   "attachments": {},
   "cell_type": "markdown",
   "metadata": {},
   "source": [
    "### multi"
   ]
  },
  {
   "cell_type": "code",
   "execution_count": 99,
   "metadata": {},
   "outputs": [],
   "source": [
    "def run_iupac_sol_multi_ablation(train_data, test_data, model=\"text-curie-001\", T=0.05, N=50, k=10):\n",
    "    asktell = bolift.AskTellFewShotMulti(\n",
    "        x_formatter=lambda x: f\"iupac name {x}\",\n",
    "        y_name=\"measured log solubility in mols per litre\",\n",
    "        y_formatter=lambda y: f\"{y:.2f}\",\n",
    "        model=model,\n",
    "        selector_k=k,\n",
    "        temperature=T\n",
    ")\n",
    "    exp_train_data = train_data[:N]\n",
    "    x, y, yhat =  run_ablation_experiment(asktell, exp_train_data, test_data)\n",
    "\n",
    "    data=\"iupac-sol\"\n",
    "    model_class=\"multi\"\n",
    "    save_csv(out_csv_file, x, y, yhat, data, model, T, k, N, model_class, asktell.tokens_used)\n",
    "\n",
    "    return y, yhat"
   ]
  },
  {
   "cell_type": "code",
   "execution_count": 101,
   "metadata": {},
   "outputs": [
    {
     "name": "stdout",
     "output_type": "stream",
     "text": [
      "Running iupac-solv multi ablation with T=0.05, k=5, N=250, model=text-curie-001  --> done\n"
     ]
    }
   ],
   "source": [
    "\n",
    "T_list = [0.05]\n",
    "k_list = [5]\n",
    "N_list = [250]\n",
    "for T, k, N, model in itertools.product(T_list, k_list, N_list, models_list):\n",
    "  print(f\"Running iupac-solv multi ablation with T={T}, k={k}, N={N}, model={model}\", end=\" \")\n",
    "  y, yhat = run_iupac_sol_multi_ablation(train_data, test_data, model=\"text-curie-001\", T=T, N=N, k=k)\n",
    "  print(\" --> done\")"
   ]
  },
  {
   "attachments": {},
   "cell_type": "markdown",
   "metadata": {},
   "source": [
    "### topk"
   ]
  },
  {
   "cell_type": "code",
   "execution_count": 9,
   "metadata": {},
   "outputs": [],
   "source": [
    "def run_iupac_sol_topk_ablation(train_data, test_data, model=\"text-curie-001\", T=0.05, N=50, k=10):\n",
    "    asktell = bolift.AskTellFewShotTopk(\n",
    "        x_formatter=lambda x: f\"iupac name {x}\",\n",
    "        y_name=\"measured log solubility in mols per litre\",\n",
    "        y_formatter=lambda y: f\"{y:.2f}\",\n",
    "        model=model,\n",
    "        selector_k=k,\n",
    "        temperature=T\n",
    "    )\n",
    "    x, y, yhat =  run_ablation_experiment(asktell, train_data, test_data)\n",
    "\n",
    "    N=len(train_data)\n",
    "    data=\"iupac-sol\"\n",
    "    model_class=\"topk\"\n",
    "    save_csv(out_csv_file, x, y, yhat, data, model, T, k, N, model_class)\n",
    "\n",
    "    return y, yhat"
   ]
  },
  {
   "cell_type": "code",
   "execution_count": 10,
   "metadata": {},
   "outputs": [
    {
     "name": "stdout",
     "output_type": "stream",
     "text": [
      "Running iupac-solv multi ablation with T=0.05, k=5, N=5, model=text-curie-001 "
     ]
    },
    {
     "ename": "RetryError",
     "evalue": "RetryError[<Future at 0x16d1db2b0 state=finished raised ValidationError>]",
     "output_type": "error",
     "traceback": [
      "\u001b[0;31m---------------------------------------------------------------------------\u001b[0m",
      "\u001b[0;31mValidationError\u001b[0m                           Traceback (most recent call last)",
      "File \u001b[0;32m/opt/homebrew/lib/python3.10/site-packages/tenacity/__init__.py:382\u001b[0m, in \u001b[0;36mRetrying.__call__\u001b[0;34m(self, fn, *args, **kwargs)\u001b[0m\n\u001b[1;32m    381\u001b[0m \u001b[39mtry\u001b[39;00m:\n\u001b[0;32m--> 382\u001b[0m     result \u001b[39m=\u001b[39m fn(\u001b[39m*\u001b[39;49margs, \u001b[39m*\u001b[39;49m\u001b[39m*\u001b[39;49mkwargs)\n\u001b[1;32m    383\u001b[0m \u001b[39mexcept\u001b[39;00m \u001b[39mBaseException\u001b[39;00m:  \u001b[39m# noqa: B902\u001b[39;00m\n",
      "Cell \u001b[0;32mIn [2], line 9\u001b[0m, in \u001b[0;36mrun_ablation_experiment\u001b[0;34m(asktell, train_data, test_data)\u001b[0m\n\u001b[1;32m      8\u001b[0m \u001b[39mfor\u001b[39;00m i \u001b[39min\u001b[39;00m \u001b[39mrange\u001b[39m(\u001b[39mlen\u001b[39m(train_data)):\n\u001b[0;32m----> 9\u001b[0m     asktell\u001b[39m.\u001b[39;49mtell(train_data\u001b[39m.\u001b[39;49miloc[i, \u001b[39m0\u001b[39;49m], \u001b[39mfloat\u001b[39;49m(train_data\u001b[39m.\u001b[39;49miloc[i, \u001b[39m1\u001b[39;49m]))\n\u001b[1;32m     10\u001b[0m x    \u001b[39m=\u001b[39m []\n",
      "File \u001b[0;32m~/Documents/WhiteLab/BO-LIFT/bolift/asktell.py:205\u001b[0m, in \u001b[0;36mAskTellFewShotMulti.tell\u001b[0;34m(self, x, y, alt_ys)\u001b[0m\n\u001b[1;32m    204\u001b[0m \u001b[39mif\u001b[39;00m \u001b[39mnot\u001b[39;00m \u001b[39mself\u001b[39m\u001b[39m.\u001b[39m_ready:\n\u001b[0;32m--> 205\u001b[0m     \u001b[39mself\u001b[39m\u001b[39m.\u001b[39mprompt \u001b[39m=\u001b[39m \u001b[39mself\u001b[39;49m\u001b[39m.\u001b[39;49m_setup_prompt(\n\u001b[1;32m    206\u001b[0m         example_dict, \u001b[39mself\u001b[39;49m\u001b[39m.\u001b[39;49m_prompt_template, \u001b[39mself\u001b[39;49m\u001b[39m.\u001b[39;49m_suffix, \u001b[39mself\u001b[39;49m\u001b[39m.\u001b[39;49m_prefix\n\u001b[1;32m    207\u001b[0m     )\n\u001b[1;32m    208\u001b[0m     \u001b[39mself\u001b[39m\u001b[39m.\u001b[39minv_prompt \u001b[39m=\u001b[39m \u001b[39mself\u001b[39m\u001b[39m.\u001b[39m_setup_inverse_prompt(inv_example)\n",
      "File \u001b[0;32m~/Documents/WhiteLab/BO-LIFT/bolift/asktell.py:424\u001b[0m, in \u001b[0;36mAskTellFewShotTopk._setup_prompt\u001b[0;34m(self, example, prompt_template, suffix, prefix)\u001b[0m\n\u001b[1;32m    419\u001b[0m         \u001b[39mraise\u001b[39;00m \u001b[39mValueError\u001b[39;00m(\u001b[39m\"\u001b[39m\u001b[39mCannot do zero-shot with selector\u001b[39m\u001b[39m\"\u001b[39m)\n\u001b[1;32m    420\u001b[0m     example_selector \u001b[39m=\u001b[39m (\n\u001b[1;32m    421\u001b[0m         example_selector\n\u001b[1;32m    422\u001b[0m     ) \u001b[39m=\u001b[39m MaxMarginalRelevanceExampleSelector\u001b[39m.\u001b[39mfrom_examples(\n\u001b[1;32m    423\u001b[0m         [example],\n\u001b[0;32m--> 424\u001b[0m         OpenAIEmbeddings(),\n\u001b[1;32m    425\u001b[0m         FAISS,\n\u001b[1;32m    426\u001b[0m         k\u001b[39m=\u001b[39m\u001b[39mself\u001b[39m\u001b[39m.\u001b[39m_selector_k,\n\u001b[1;32m    427\u001b[0m     )\n\u001b[1;32m    428\u001b[0m \u001b[39mreturn\u001b[39;00m FewShotPromptTemplate(\n\u001b[1;32m    429\u001b[0m     examples\u001b[39m=\u001b[39mexamples \u001b[39mif\u001b[39;00m example_selector \u001b[39mis\u001b[39;00m \u001b[39mNone\u001b[39;00m \u001b[39melse\u001b[39;00m \u001b[39mNone\u001b[39;00m,\n\u001b[1;32m    430\u001b[0m     example_prompt\u001b[39m=\u001b[39mprompt_template,\n\u001b[0;32m   (...)\u001b[0m\n\u001b[1;32m    434\u001b[0m     input_variables\u001b[39m=\u001b[39m[\u001b[39m\"\u001b[39m\u001b[39mx\u001b[39m\u001b[39m\"\u001b[39m, \u001b[39m\"\u001b[39m\u001b[39my_name\u001b[39m\u001b[39m\"\u001b[39m],\n\u001b[1;32m    435\u001b[0m )\n",
      "File \u001b[0;32m/opt/homebrew/lib/python3.10/site-packages/pydantic/main.py:342\u001b[0m, in \u001b[0;36mpydantic.main.BaseModel.__init__\u001b[0;34m()\u001b[0m\n",
      "\u001b[0;31mValidationError\u001b[0m: 1 validation error for OpenAIEmbeddings\n__root__\n  Did not find openai_api_key, please add an environment variable `OPENAI_API_KEY` which contains it, or pass  `openai_api_key` as a named parameter. (type=value_error)",
      "\nThe above exception was the direct cause of the following exception:\n",
      "\u001b[0;31mRetryError\u001b[0m                                Traceback (most recent call last)",
      "Cell \u001b[0;32mIn [10], line 6\u001b[0m\n\u001b[1;32m      4\u001b[0m \u001b[39mfor\u001b[39;00m T, k, N, model \u001b[39min\u001b[39;00m itertools\u001b[39m.\u001b[39mproduct(T_list, k_list, N_list, models_list):\n\u001b[1;32m      5\u001b[0m   \u001b[39mprint\u001b[39m(\u001b[39mf\u001b[39m\u001b[39m\"\u001b[39m\u001b[39mRunning iupac-solv multi ablation with T=\u001b[39m\u001b[39m{\u001b[39;00mT\u001b[39m}\u001b[39;00m\u001b[39m, k=\u001b[39m\u001b[39m{\u001b[39;00mk\u001b[39m}\u001b[39;00m\u001b[39m, N=\u001b[39m\u001b[39m{\u001b[39;00mN\u001b[39m}\u001b[39;00m\u001b[39m, model=\u001b[39m\u001b[39m{\u001b[39;00mmodel\u001b[39m}\u001b[39;00m\u001b[39m\"\u001b[39m, end\u001b[39m=\u001b[39m\u001b[39m\"\u001b[39m\u001b[39m \u001b[39m\u001b[39m\"\u001b[39m)\n\u001b[0;32m----> 6\u001b[0m   y, yhat \u001b[39m=\u001b[39m run_iupac_sol_topk_ablation(train_data, test_data, model\u001b[39m=\u001b[39;49m\u001b[39m\"\u001b[39;49m\u001b[39mtext-curie-001\u001b[39;49m\u001b[39m\"\u001b[39;49m, T\u001b[39m=\u001b[39;49mT, N\u001b[39m=\u001b[39;49mN, k\u001b[39m=\u001b[39;49mk)\n\u001b[1;32m      7\u001b[0m   \u001b[39mprint\u001b[39m(\u001b[39m\"\u001b[39m\u001b[39m --> done\u001b[39m\u001b[39m\"\u001b[39m)\n",
      "Cell \u001b[0;32mIn [9], line 10\u001b[0m, in \u001b[0;36mrun_iupac_sol_topk_ablation\u001b[0;34m(train_data, test_data, model, T, N, k)\u001b[0m\n\u001b[1;32m      1\u001b[0m \u001b[39mdef\u001b[39;00m \u001b[39mrun_iupac_sol_topk_ablation\u001b[39m(train_data, test_data, model\u001b[39m=\u001b[39m\u001b[39m\"\u001b[39m\u001b[39mtext-curie-001\u001b[39m\u001b[39m\"\u001b[39m, T\u001b[39m=\u001b[39m\u001b[39m0.05\u001b[39m, N\u001b[39m=\u001b[39m\u001b[39m50\u001b[39m, k\u001b[39m=\u001b[39m\u001b[39m10\u001b[39m):\n\u001b[1;32m      2\u001b[0m     asktell \u001b[39m=\u001b[39m bolift\u001b[39m.\u001b[39mAskTellFewShotTopk(\n\u001b[1;32m      3\u001b[0m         x_formatter\u001b[39m=\u001b[39m\u001b[39mlambda\u001b[39;00m x: \u001b[39mf\u001b[39m\u001b[39m\"\u001b[39m\u001b[39miupac name \u001b[39m\u001b[39m{\u001b[39;00mx\u001b[39m}\u001b[39;00m\u001b[39m\"\u001b[39m,\n\u001b[1;32m      4\u001b[0m         y_name\u001b[39m=\u001b[39m\u001b[39m\"\u001b[39m\u001b[39mmeasured log solubility in mols per litre\u001b[39m\u001b[39m\"\u001b[39m,\n\u001b[0;32m   (...)\u001b[0m\n\u001b[1;32m      8\u001b[0m         temperature\u001b[39m=\u001b[39mT\n\u001b[1;32m      9\u001b[0m     )\n\u001b[0;32m---> 10\u001b[0m     x, y, yhat \u001b[39m=\u001b[39m  run_ablation_experiment(asktell, train_data, test_data)\n\u001b[1;32m     12\u001b[0m     N\u001b[39m=\u001b[39m\u001b[39mlen\u001b[39m(train_data)\n\u001b[1;32m     13\u001b[0m     data\u001b[39m=\u001b[39m\u001b[39m\"\u001b[39m\u001b[39miupac-sol\u001b[39m\u001b[39m\"\u001b[39m\n",
      "File \u001b[0;32m/opt/homebrew/lib/python3.10/site-packages/tenacity/__init__.py:289\u001b[0m, in \u001b[0;36mBaseRetrying.wraps.<locals>.wrapped_f\u001b[0;34m(*args, **kw)\u001b[0m\n\u001b[1;32m    287\u001b[0m \u001b[39m@functools\u001b[39m\u001b[39m.\u001b[39mwraps(f)\n\u001b[1;32m    288\u001b[0m \u001b[39mdef\u001b[39;00m \u001b[39mwrapped_f\u001b[39m(\u001b[39m*\u001b[39margs: t\u001b[39m.\u001b[39mAny, \u001b[39m*\u001b[39m\u001b[39m*\u001b[39mkw: t\u001b[39m.\u001b[39mAny) \u001b[39m-\u001b[39m\u001b[39m>\u001b[39m t\u001b[39m.\u001b[39mAny:\n\u001b[0;32m--> 289\u001b[0m     \u001b[39mreturn\u001b[39;00m \u001b[39mself\u001b[39;49m(f, \u001b[39m*\u001b[39;49margs, \u001b[39m*\u001b[39;49m\u001b[39m*\u001b[39;49mkw)\n",
      "File \u001b[0;32m/opt/homebrew/lib/python3.10/site-packages/tenacity/__init__.py:379\u001b[0m, in \u001b[0;36mRetrying.__call__\u001b[0;34m(self, fn, *args, **kwargs)\u001b[0m\n\u001b[1;32m    377\u001b[0m retry_state \u001b[39m=\u001b[39m RetryCallState(retry_object\u001b[39m=\u001b[39m\u001b[39mself\u001b[39m, fn\u001b[39m=\u001b[39mfn, args\u001b[39m=\u001b[39margs, kwargs\u001b[39m=\u001b[39mkwargs)\n\u001b[1;32m    378\u001b[0m \u001b[39mwhile\u001b[39;00m \u001b[39mTrue\u001b[39;00m:\n\u001b[0;32m--> 379\u001b[0m     do \u001b[39m=\u001b[39m \u001b[39mself\u001b[39;49m\u001b[39m.\u001b[39;49miter(retry_state\u001b[39m=\u001b[39;49mretry_state)\n\u001b[1;32m    380\u001b[0m     \u001b[39mif\u001b[39;00m \u001b[39misinstance\u001b[39m(do, DoAttempt):\n\u001b[1;32m    381\u001b[0m         \u001b[39mtry\u001b[39;00m:\n",
      "File \u001b[0;32m/opt/homebrew/lib/python3.10/site-packages/tenacity/__init__.py:326\u001b[0m, in \u001b[0;36mBaseRetrying.iter\u001b[0;34m(self, retry_state)\u001b[0m\n\u001b[1;32m    324\u001b[0m     \u001b[39mif\u001b[39;00m \u001b[39mself\u001b[39m\u001b[39m.\u001b[39mreraise:\n\u001b[1;32m    325\u001b[0m         \u001b[39mraise\u001b[39;00m retry_exc\u001b[39m.\u001b[39mreraise()\n\u001b[0;32m--> 326\u001b[0m     \u001b[39mraise\u001b[39;00m retry_exc \u001b[39mfrom\u001b[39;00m \u001b[39mfut\u001b[39;00m\u001b[39m.\u001b[39;00m\u001b[39mexception\u001b[39;00m()\n\u001b[1;32m    328\u001b[0m \u001b[39mif\u001b[39;00m \u001b[39mself\u001b[39m\u001b[39m.\u001b[39mwait:\n\u001b[1;32m    329\u001b[0m     sleep \u001b[39m=\u001b[39m \u001b[39mself\u001b[39m\u001b[39m.\u001b[39mwait(retry_state)\n",
      "\u001b[0;31mRetryError\u001b[0m: RetryError[<Future at 0x16d1db2b0 state=finished raised ValidationError>]"
     ]
    }
   ],
   "source": [
    "T_list = [0.05]\n",
    "k_list = [5]\n",
    "N_list = [5]\n",
    "for T, k, N, model in itertools.product(T_list, k_list, N_list, models_list):\n",
    "  print(f\"Running iupac-solv multi ablation with T={T}, k={k}, N={N}, model={model}\", end=\" \")\n",
    "  y, yhat = run_iupac_sol_topk_ablation(train_data, test_data, model=\"text-curie-001\", T=T, N=N, k=k)\n",
    "  print(\" --> done\")"
   ]
  },
  {
   "attachments": {},
   "cell_type": "markdown",
   "metadata": {},
   "source": [
    "### Finetune"
   ]
  },
  {
   "cell_type": "code",
   "execution_count": 10,
   "metadata": {},
   "outputs": [],
   "source": [
    "def run_iupac_sol_finetune(train_data, model=\"text-ada-001\", N=50):\n",
    "    asktell = bolift.AskTellFinetuning(\n",
    "        prefix=\"\",\n",
    "        prompt_template=PromptTemplate(\n",
    "            input_variables=[\"x\", \"y\", \"y_name\"],\n",
    "            template=\"Q: What is the {y_name} of {x}?@@@\\nA: {y}###\",\n",
    "        ),\n",
    "        suffix=\"What is the {y_name} of {x}?@@@\\nA:\",\n",
    "        # x_formatter=lambda x: f\"iupac name {x}\",\n",
    "        y_name=\"measured log solubility in mols per litre\",\n",
    "        y_formatter=lambda y: f\"{y:.2f}\",\n",
    "        model=model,\n",
    "        n_epochs=8,\n",
    "        learning_rate_multiplier=0.02,\n",
    "    )\n",
    "    asktell.tell(train_data.iloc[0, 0], train_data.iloc[0, 1])\n",
    "    exp_train_data = train_data.iloc[:N]\n",
    "\n",
    "    prompts=[]\n",
    "    completions=[]\n",
    "    for i in range(len(train_data[:N])):\n",
    "        prompts.append(f\"What is the measured log solubility in mols per litre of {exp_train_data.iloc[i, 0]}?@@@\\\\nA: \")\n",
    "        completions.append(f\"{float(exp_train_data.iloc[i, 1])}###\")\n",
    "        asktell.prepare_data(prompts, completions, f'./paper/out/data_solv_{N}.dat')\n",
    "    asktell.fine_tune(prompts, completions, out_path='./paper/out', out_file=f'FT_solv_{N}')\n",
    "    print(asktell.get_model_name())\n",
    "\n",
    "def run_iupac_sol_FT_ablation(train_data, test_data, model=\"text-ada-001\", T=0.05, N=50, k=0):\n",
    "    with open(f'./paper/out/FT_solv_{N}.dat', 'r') as f:\n",
    "        response = json.load(f)\n",
    "    \n",
    "    asktell = bolift.AskTellFinetuning(\n",
    "        prefix=\"\",\n",
    "        prompt_template=PromptTemplate(\n",
    "            input_variables=[\"x\", \"y\", \"y_name\"],\n",
    "            template=\"Q: What is the {y_name} of {x}?@@@\\nA: {y}###\",\n",
    "        ),\n",
    "        suffix=\"What is the {y_name} of {x}?@@@\\nA:\",\n",
    "        # x_formatter=lambda x: f\"iupac name {x}\",\n",
    "        y_name=\"measured log solubility in mols per litre\",\n",
    "        y_formatter=lambda y: f\"{y:.2f}\",\n",
    "        model=model,\n",
    "        id=response['id'],\n",
    "        selector_k=0,\n",
    "        n_epochs=8,\n",
    "        learning_rate_multiplier=0.02,\n",
    "    )\n",
    "    asktell.tell(train_data.iloc[0, 0], train_data.iloc[0, 1])\n",
    "    exp_train_data = train_data.iloc[:N]\n",
    "    x, y, yhat =  run_ablation_experiment(asktell, exp_train_data, test_data)\n",
    "\n",
    "    data=\"iupac-sol\"\n",
    "    model_class=\"finetune\"\n",
    "    save_csv(out_csv_file, x, y, yhat, data, asktell.get_model_name(), T, k, N, model_class, asktell.tokens_used)\n",
    "\n",
    "    return y, yhat"
   ]
  },
  {
   "cell_type": "code",
   "execution_count": 11,
   "metadata": {},
   "outputs": [
    {
     "name": "stdout",
     "output_type": "stream",
     "text": [
      "Running iupac-sol FT with N=50\n",
      "running..  Fine-tune succeeded                                                                \n",
      "\n",
      "ada:ft-white-research-laboratory-2023-02-28-19-10-21\n",
      " --> done\n",
      "Running iupac-sol FT with N=100\n",
      "running... Fine-tune succeeded                                     -28-19-20-28                                     \n",
      "\n",
      "ada:ft-white-research-laboratory-2023-02-28-19-20-28\n",
      " --> done\n",
      "Running iupac-sol FT with N=250\n",
      "running... Fine-tune succeeded                                     -28-19-56-24                                     \n",
      "\n",
      "ada:ft-white-research-laboratory-2023-02-28-19-56-24\n",
      " --> done\n",
      "Running iupac-sol FT with N=500\n",
      "running..  Fine-tune succeeded                                                                \n",
      "\n",
      "ada:ft-white-research-laboratory-2023-02-28-20-41-11\n",
      " --> done\n",
      "Running iupac-sol FT with N=700\n",
      "running.   Fine-tune succeeded                                     -28-21-30-29                                     \n",
      "\n",
      "ada:ft-white-research-laboratory-2023-02-28-21-30-29\n",
      " --> done\n"
     ]
    }
   ],
   "source": [
    "N_list=[50,100,250,500,700]\n",
    "for N in N_list:\n",
    "  print(f\"Running iupac-sol FT with N={N}\")\n",
    "  run_iupac_sol_finetune(train_data, model=\"text-ada-001\", N=N)\n",
    "  print(\" --> done\")"
   ]
  },
  {
   "cell_type": "code",
   "execution_count": 14,
   "metadata": {},
   "outputs": [
    {
     "name": "stdout",
     "output_type": "stream",
     "text": [
      "Running iupac-sol finetune ablation with T=0.05, k=0, N=50, model=text-ada-001  --> done\n",
      "Running iupac-sol finetune ablation with T=0.05, k=0, N=100, model=text-ada-001  --> done\n",
      "Running iupac-sol finetune ablation with T=0.05, k=0, N=250, model=text-ada-001  --> done\n",
      "Running iupac-sol finetune ablation with T=0.05, k=0, N=500, model=text-ada-001  --> done\n",
      "Running iupac-sol finetune ablation with T=0.05, k=0, N=700, model=text-ada-001  --> done\n"
     ]
    }
   ],
   "source": [
    "T_list = [0.05]\n",
    "k_list = [0]\n",
    "N_list=[50,100,250,500,700]\n",
    "models_list = [\"text-ada-001\"]\n",
    "for T, k, N, model in itertools.product(T_list, k_list, N_list, models_list):\n",
    "  print(f\"Running iupac-sol finetune ablation with T={T}, k={k}, N={N}, model={model}\", end=\" \")\n",
    "  y, yhat = run_iupac_sol_FT_ablation(train_data, test_data, model=\"text-ada-001\", T=T, N=N, k=k)\n",
    "  print(\" --> done\")\n"
   ]
  },
  {
   "attachments": {},
   "cell_type": "markdown",
   "metadata": {},
   "source": [
    "## Steel alloy"
   ]
  },
  {
   "cell_type": "code",
   "execution_count": 34,
   "metadata": {},
   "outputs": [
    {
     "name": "stdout",
     "output_type": "stream",
     "text": [
      "312 249 63\n"
     ]
    }
   ],
   "source": [
    "np.random.seed(8)\n",
    "\n",
    "data_path = \"paper/data/yield_strength.csv\"\n",
    "raw_data = pd.read_csv(data_path)\n",
    "\n",
    "N = raw_data.shape[0]\n",
    "train = np.random.choice(raw_data.shape[0], int(N * 0.8), replace=False)\n",
    "test = np.setdiff1d(np.arange(raw_data.shape[0]), train)\n",
    "np.random.shuffle(test)\n",
    "\n",
    "train_data = raw_data.iloc[train, :].reset_index(drop=True)\n",
    "test_data = raw_data.iloc[test, :].reset_index(drop=True)\n",
    "print(N, len(train_data), len(test_data))"
   ]
  },
  {
   "attachments": {},
   "cell_type": "markdown",
   "metadata": {},
   "source": [
    "### multi"
   ]
  },
  {
   "cell_type": "code",
   "execution_count": 56,
   "metadata": {},
   "outputs": [],
   "source": [
    "def run_alloy_multi_ablation(train_data, test_data, model=\"text-curie-001\", T=0.05, N=50, k=10):\n",
    "    asktell = bolift.AskTellFewShotMulti(\n",
    "        x_formatter=lambda x: f\"alloy composition of {x}\",\n",
    "        y_name=\"yield strength\",\n",
    "        y_formatter=lambda y: f\"{y:.2f}\",\n",
    "        model=model,\n",
    "        selector_k=k,\n",
    "        temperature=T\n",
    "    )\n",
    "    exp_train_data = train_data[:N]\n",
    "    x, y, yhat =  run_ablation_experiment(asktell, exp_train_data, test_data)\n",
    "\n",
    "    data=\"alloy\"\n",
    "    model_class=\"multi\"\n",
    "    save_csv(out_csv_file, x, y, yhat, data, model, T, k, N, model_class, asktell.tokens_used)\n",
    "\n",
    "    return y, yhat\n"
   ]
  },
  {
   "cell_type": "code",
   "execution_count": 57,
   "metadata": {},
   "outputs": [
    {
     "name": "stdout",
     "output_type": "stream",
     "text": [
      "Running alloy multi ablation with T=0.05, k=1, N=249, model=text-curie-001  --> done\n",
      "Running alloy multi ablation with T=0.05, k=2, N=249, model=text-curie-001  --> done\n",
      "Running alloy multi ablation with T=0.05, k=3, N=249, model=text-curie-001  --> done\n",
      "Running alloy multi ablation with T=0.05, k=4, N=249, model=text-curie-001  --> done\n"
     ]
    }
   ],
   "source": [
    "\n",
    "T_list = [0.05]\n",
    "k_list = [1,2,3,4]\n",
    "N_list = [249]\n",
    "for T, k, N, model in itertools.product(T_list, k_list, N_list, models_list):\n",
    "  print(f\"Running alloy multi ablation with T={T}, k={k}, N={N}, model={model}\", end=\" \")\n",
    "  y, yhat = run_alloy_multi_ablation(train_data, test_data, model=model, T=T, N=N, k=k)\n",
    "  print(\" --> done\")"
   ]
  },
  {
   "attachments": {},
   "cell_type": "markdown",
   "metadata": {},
   "source": [
    "### topk"
   ]
  },
  {
   "cell_type": "code",
   "execution_count": 11,
   "metadata": {},
   "outputs": [],
   "source": [
    "def run_alloy_topk_ablation(train_data, test_data, model=\"text-curie-001\", T=0.05, N=50, k=10):\n",
    "    from openai import PromptTemplate\n",
    "    \n",
    "    asktell = bolift.AskTellFewShotTopk(\n",
    "        x_formatter=lambda x: f\"alloy composition of {x}\",\n",
    "        y_name=\"yield strength\",\n",
    "        y_formatter=lambda y: f\"{y:.2f}\",\n",
    "        model=model,\n",
    "        selector_k=k,\n",
    "        temperature=T\n",
    "    )\n",
    "    exp_train_data = train_data[:N]\n",
    "    x, y, yhat =  run_ablation_experiment(asktell, exp_train_data, test_data)\n",
    "    data=\"alloy\"\n",
    "    model_class=\"topk\"\n",
    "    save_csv(out_csv_file, x, y, yhat, data, model, T, k, N, model_class, asktell.tokens_used)\n",
    "\n",
    "    return y, yhat\n"
   ]
  },
  {
   "cell_type": "code",
   "execution_count": null,
   "metadata": {},
   "outputs": [],
   "source": [
    "T_list = [0.05]\n",
    "k_list = [5]\n",
    "N_list = [50] #[3,4,5,10,25,50,100,200]\n",
    "for T, k, N, model in itertools.product(T_list, k_list, N_list, models_list):\n",
    "  print(f\"Running alloy topk ablation with T={T}, k={k}, N={N}, model={model}\", end=\" \")\n",
    "  y, yhat = run_alloy_topk_ablation(train_data, test_data, model=model, T=T, N=N, k=k)\n",
    "  print(\" --> done\")"
   ]
  },
  {
   "attachments": {},
   "cell_type": "markdown",
   "metadata": {},
   "source": [
    "### Finetune"
   ]
  },
  {
   "cell_type": "code",
   "execution_count": 40,
   "metadata": {},
   "outputs": [],
   "source": [
    "def run_alloy_finetune(train_data, model=\"text-ada-001\", N=50):\n",
    "    asktell = bolift.AskTellFinetuning(\n",
    "        prefix=\"\",\n",
    "        prompt_template=PromptTemplate(\n",
    "            input_variables=[\"x\", \"y\", \"y_name\"],\n",
    "            template=\"Q: What is the {y_name} of {x}?@@@\\nA: {y}###\",\n",
    "        ),\n",
    "        suffix=\"What is the {y_name} of {x}?@@@\\nA:\",\n",
    "        # x_formatter=lambda x: f\"alloy composition: {x}\",\n",
    "        y_name=\"yield strength\",\n",
    "        y_formatter=lambda y: f\"{y:.2f}\",\n",
    "        model=model,\n",
    "        n_epochs=8,\n",
    "        learning_rate_multiplier=0.02,\n",
    "    )\n",
    "    # Tell one example so the moduel build the prompt\n",
    "    asktell.tell(train_data.iloc[0, 0], train_data.iloc[0, 1])\n",
    "    exp_train_data = train_data.iloc[:N]\n",
    "\n",
    "    prompts=[]\n",
    "    completions=[]\n",
    "    for i in range(len(exp_train_data)):\n",
    "        prompts.append(f\"What is the yield strength of {exp_train_data.iloc[i, 0]}?@@@\\\\nA: \")\n",
    "        completions.append(f\"{float(exp_train_data.iloc[i, 1])}###\")\n",
    "    asktell.prepare_data(prompts, completions, f'./paper/out/data_alloy_{N}.dat')\n",
    "    asktell.fine_tune(prompts, completions, out_path='./paper/out', out_file=f'FT_alloy_{N}')\n",
    "    print(asktell.get_model_name())\n",
    "\n",
    "def run_alloy_FT_ablation(train_data, test_data, model=\"text-ada-001\", T=0.05, N=50, k=0):\n",
    "    with open(f'./paper/out/FT_alloy_{N}.dat', 'r') as f:\n",
    "        response = json.load(f)\n",
    "    \n",
    "    asktell = bolift.AskTellFinetuning(\n",
    "        prefix=\"\",\n",
    "        prompt_template=PromptTemplate(\n",
    "            input_variables=[\"x\", \"y\", \"y_name\"],\n",
    "            template=\"Q: What is the {y_name} of {x}?@@@\\nA: {y}###\",\n",
    "        ),\n",
    "        suffix=\"What is the {y_name} of {x}?@@@\\nA:\",\n",
    "        # x_formatter=lambda x: f\"alloy composition: {x}\",\n",
    "        y_name=\"yield strength\",\n",
    "        y_formatter=lambda y: f\"{y:.2f}\",\n",
    "        model=model,\n",
    "        id=response['id'],\n",
    "        selector_k=0,\n",
    "        n_epochs=8,\n",
    "        learning_rate_multiplier=0.02,\n",
    "    )\n",
    "    asktell.tell(train_data.iloc[0, 0], train_data.iloc[0, 1])\n",
    "    exp_train_data = train_data.iloc[:N]\n",
    "    x, y, yhat =  run_ablation_experiment(asktell, exp_train_data, test_data)\n",
    "\n",
    "    data=\"alloy\"\n",
    "    model_class=\"finetune\"\n",
    "    save_csv(out_csv_file, x, y, yhat, data, asktell.get_model_name(), T, k, N, model_class, asktell.tokens_used)\n",
    "\n",
    "    return y, yhat"
   ]
  },
  {
   "cell_type": "code",
   "execution_count": 41,
   "metadata": {},
   "outputs": [
    {
     "name": "stdout",
     "output_type": "stream",
     "text": [
      "Running alloy FT with N=249\n",
      "text-ada-001\n",
      "running.   Fine-tune succeeded                                                                \n",
      "\n",
      "ada:ft-white-research-laboratory-2023-02-27-21-12-15\n",
      " --> done\n"
     ]
    }
   ],
   "source": [
    "N_list=[249]\n",
    "for N in N_list:\n",
    "  print(f\"Running alloy FT with N={N}\")\n",
    "  run_alloy_finetune(train_data, model=\"text-ada-001\", N=N)\n",
    "  print(\" --> done\")"
   ]
  },
  {
   "cell_type": "code",
   "execution_count": 43,
   "metadata": {},
   "outputs": [
    {
     "name": "stdout",
     "output_type": "stream",
     "text": [
      "Running alloy finetune ablation with T=0.05, k=0, N=249, model=text-ada-001 text-ada-001\n",
      "ada:ft-white-research-laboratory-2023-02-27-21-12-15\n",
      " --> done\n"
     ]
    }
   ],
   "source": [
    "T_list = [0.05]\n",
    "k_list = [0]\n",
    "N_list = [249]\n",
    "models_list = [\"text-ada-001\"]\n",
    "for T, k, N, model in itertools.product(T_list, k_list, N_list, models_list):\n",
    "  print(f\"Running alloy finetune ablation with T={T}, k={k}, N={N}, model={model}\", end=\" \")\n",
    "  y, yhat = run_alloy_FT_ablation(train_data, test_data, model=\"text-ada-001\", T=T, N=N, k=k)\n",
    "  print(\" --> done\")\n"
   ]
  }
 ],
 "metadata": {
  "kernelspec": {
   "display_name": "Python 3",
   "language": "python",
   "name": "python3"
  },
  "language_info": {
   "codemirror_mode": {
    "name": "ipython",
    "version": 3
   },
   "file_extension": ".py",
   "mimetype": "text/x-python",
   "name": "python",
   "nbconvert_exporter": "python",
   "pygments_lexer": "ipython3",
   "version": "3.10.8"
  },
  "orig_nbformat": 4,
  "vscode": {
   "interpreter": {
    "hash": "b0fa6594d8f4cbf19f97940f81e996739fb7646882a419484c72d19e05852a7e"
   }
  }
 },
 "nbformat": 4,
 "nbformat_minor": 2
}
