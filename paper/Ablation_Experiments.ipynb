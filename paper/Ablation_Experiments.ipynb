{
 "cells": [
  {
   "cell_type": "code",
   "execution_count": 1,
   "metadata": {},
   "outputs": [],
   "source": [
    "import bolift\n",
    "from bolift.llm_model import GaussDist, DiscreteDist\n",
    "import numpy as np\n",
    "import json\n",
    "import pandas as pd\n",
    "from langchain.prompts.prompt import PromptTemplate\n",
    "import itertools\n",
    "import os\n",
    "import openai\n",
    "\n",
    "np.random.seed(0)"
   ]
  },
  {
   "cell_type": "code",
   "execution_count": null,
   "metadata": {},
   "outputs": [],
   "source": []
  },
  {
   "attachments": {},
   "cell_type": "markdown",
   "metadata": {},
   "source": [
    "# Ablation experiments"
   ]
  },
  {
   "cell_type": "code",
   "execution_count": 2,
   "metadata": {},
   "outputs": [],
   "source": [
    "from tenacity import (\n",
    "    retry,\n",
    "    stop_after_attempt,\n",
    "    wait_random_exponential,\n",
    ")\n",
    "@retry(wait=wait_random_exponential(min=1, max=60), stop=stop_after_attempt(6))\n",
    "def run_ablation_experiment(asktell, train_data, test_data):\n",
    "    for i in range(len(train_data)):\n",
    "        asktell.tell(train_data.iloc[i, 0], float(train_data.iloc[i, 1]))\n",
    "    x    = []\n",
    "    y    = []\n",
    "    yhat = []\n",
    "    for j in range(len(test_data)):\n",
    "        x.append(test_data.iloc[j, 0])\n",
    "        y.append(float(test_data.iloc[j, 1]))\n",
    "        yhat.append(asktell.predict(test_data.iloc[j, 0]))\n",
    "\n",
    "    # We should count how many x's have no yhat\n",
    "    x_filter = [xi for xi, yhi in zip(x, yhat)]# if len(yhi.values) > 0]\n",
    "    y_filter = [yi for yi, yhi in zip(y, yhat)]# if len(yhi.values) > 0]\n",
    "    yhat_filter = [yhi for yi, yhi in zip(y, yhat)]# if len(yhi.values) > 0]\n",
    "    return x_filter, y_filter, yhat_filter\n",
    "\n",
    "def save_csv(filename, x, y, yhat, data, model, T, k, N, model_class, tokens):\n",
    "    if not os.path.exists(filename):\n",
    "        f = open(filename, \"w\")\n",
    "        f.write(\"y;yhat;yprobs;data;model;Temperature;k_selected;N_train;model_class;n_tokens;x\\n\")\n",
    "    else:\n",
    "        f = open(filename, \"a\")\n",
    "    for xi, yi, yhi in zip(x, y, yhat):\n",
    "        if isinstance(yhi, DiscreteDist):\n",
    "            if len(yhi.values) > 0:\n",
    "                for v,p in zip(yhi.values, yhi.probs):\n",
    "                    f.write(f\"{yi};{v};{p:.4f};{data};{model};{T};{k};{N};{model_class};{tokens};{xi}\\n\")\n",
    "        if isinstance(yhi, GaussDist):\n",
    "            f.write(f\"{yi};{yhi.mean()};{yhi.std():.4f};{data};{model};{T};{k};{N};{model_class};{tokens};{xi}\\n\")\n",
    "    f.close()\n",
    "\n",
    "T_list = [0.05, 0.5, 1.0, 1.5]\n",
    "k_list = [0, 5, 10]\n",
    "N_list = [1,2,3,4,5,10,25,50,100,200] # depends on each dataset\n",
    "models_list = [\"text-curie-001\"]\n",
    "out_csv_file = \"ablation_results.csv\""
   ]
  },
  {
   "cell_type": "code",
   "execution_count": 3,
   "metadata": {},
   "outputs": [],
   "source": [
    "# def parity_plot(y, yhat):\n",
    "#     modes = [yhat[i].mode() for i in range(len(yhat))]\n",
    "#     std = [yhat[i].std() for i in range(len(yhat))]\n",
    "#     plt.errorbar(y, modes, yerr=std, fmt=\"o\")\n",
    "#     plt.plot(y, y)\n",
    "#     plt.xlabel(\"Actual Yield\")\n",
    "#     plt.ylabel(\"Predicted Yield\")\n",
    "#     plt.show()"
   ]
  },
  {
   "attachments": {},
   "cell_type": "markdown",
   "metadata": {},
   "source": [
    "## C2 yield"
   ]
  },
  {
   "cell_type": "code",
   "execution_count": 4,
   "metadata": {},
   "outputs": [
    {
     "name": "stdout",
     "output_type": "stream",
     "text": [
      "12708 1016 254\n"
     ]
    }
   ],
   "source": [
    "data_path = \"paper/data/C2_yield_meth_oxy_short.csv\"\n",
    "raw_data = pd.read_csv(data_path)\n",
    "\n",
    "np.random.seed(0)\n",
    "\n",
    "N = raw_data.shape[0]\n",
    "train = np.random.choice(raw_data.shape[0], int(N * 0.8), replace=False)\n",
    "test = np.setdiff1d(np.arange(raw_data.shape[0]), train)\n",
    "np.random.shuffle(test)\n",
    "\n",
    "train_data = raw_data.iloc[train, :].reset_index(drop=True)[:int(0.1*len(train))]\n",
    "# train_data[\"prompt\"] = train_data[\"prompt\"].map(lambda x: x.replace(\",\", \";\"))\n",
    "test_data = raw_data.iloc[test, :].reset_index(drop=True)[:int(0.1*len(test))]\n",
    "# test_data[\"prompt\"] = test_data[\"prompt\"].map(lambda x: x.replace(\",\", \";\"))\n",
    "print(N, len(train_data), len(test_data))"
   ]
  },
  {
   "attachments": {},
   "cell_type": "markdown",
   "metadata": {},
   "source": [
    "### multi"
   ]
  },
  {
   "cell_type": "code",
   "execution_count": null,
   "metadata": {},
   "outputs": [],
   "source": [
    "def run_C2_multi_ablation(train_data, test_data, model=\"text-curie-001\", T=0.05, N=50, k=10):\n",
    "    asktell = bolift.AskTellFewShotMulti(\n",
    "        x_formatter=lambda x: f\"experimental procedure: {x}\",\n",
    "        y_name=\"C2 yield\",\n",
    "        y_formatter=lambda y: f\"{y:.2f}\",\n",
    "        model=model,\n",
    "        selector_k=k,\n",
    "        temperature=T\n",
    "    )\n",
    "    exp_train_data = train_data[:N]\n",
    "    x, y, yhat =  run_ablation_experiment(asktell, exp_train_data, test_data)\n",
    "\n",
    "    data=\"C2\"\n",
    "    model_class=\"multi\"\n",
    "    save_csv(out_csv_file, x, y, yhat, data, model, T, k, N, model_class, asktell.tokens_used)\n",
    "\n",
    "    return y, yhat"
   ]
  },
  {
   "cell_type": "code",
   "execution_count": null,
   "metadata": {},
   "outputs": [
    {
     "name": "stdout",
     "output_type": "stream",
     "text": [
      "Running C2 multi ablation with T=0.05, k=5, N=1, model=text-curie-001 "
     ]
    },
    {
     "ename": "KeyboardInterrupt",
     "evalue": "",
     "output_type": "error",
     "traceback": [
      "\u001b[1;31m---------------------------------------------------------------------------\u001b[0m",
      "\u001b[1;31mKeyboardInterrupt\u001b[0m                         Traceback (most recent call last)",
      "Cell \u001b[1;32mIn[14], line 7\u001b[0m\n\u001b[0;32m      5\u001b[0m \u001b[39mfor\u001b[39;00m T, k, N, model \u001b[39min\u001b[39;00m itertools\u001b[39m.\u001b[39mproduct(T_list, k_list, N_list, models_list):\n\u001b[0;32m      6\u001b[0m   \u001b[39mprint\u001b[39m(\u001b[39mf\u001b[39m\u001b[39m\"\u001b[39m\u001b[39mRunning C2 multi ablation with T=\u001b[39m\u001b[39m{\u001b[39;00mT\u001b[39m}\u001b[39;00m\u001b[39m, k=\u001b[39m\u001b[39m{\u001b[39;00mk\u001b[39m}\u001b[39;00m\u001b[39m, N=\u001b[39m\u001b[39m{\u001b[39;00mN\u001b[39m}\u001b[39;00m\u001b[39m, model=\u001b[39m\u001b[39m{\u001b[39;00mmodel\u001b[39m}\u001b[39;00m\u001b[39m\"\u001b[39m, end\u001b[39m=\u001b[39m\u001b[39m\"\u001b[39m\u001b[39m \u001b[39m\u001b[39m\"\u001b[39m)\n\u001b[1;32m----> 7\u001b[0m   y, yhat \u001b[39m=\u001b[39m run_C2_multi_ablation(train_data, test_data, model\u001b[39m=\u001b[39;49mmodel, T\u001b[39m=\u001b[39;49mT, N\u001b[39m=\u001b[39;49mN, k\u001b[39m=\u001b[39;49mk)\n\u001b[0;32m      8\u001b[0m   \u001b[39mprint\u001b[39m(\u001b[39m\"\u001b[39m\u001b[39m --> done\u001b[39m\u001b[39m\"\u001b[39m)\n",
      "Cell \u001b[1;32mIn[13], line 11\u001b[0m, in \u001b[0;36mrun_C2_multi_ablation\u001b[1;34m(train_data, test_data, model, T, N, k)\u001b[0m\n\u001b[0;32m      2\u001b[0m asktell \u001b[39m=\u001b[39m bolift\u001b[39m.\u001b[39mAskTellFewShotMulti(\n\u001b[0;32m      3\u001b[0m     x_formatter\u001b[39m=\u001b[39m\u001b[39mlambda\u001b[39;00m x: \u001b[39mf\u001b[39m\u001b[39m\"\u001b[39m\u001b[39mexperimental procedure: \u001b[39m\u001b[39m{\u001b[39;00mx\u001b[39m}\u001b[39;00m\u001b[39m\"\u001b[39m,\n\u001b[0;32m      4\u001b[0m     y_name\u001b[39m=\u001b[39m\u001b[39m\"\u001b[39m\u001b[39mC2 yield\u001b[39m\u001b[39m\"\u001b[39m,\n\u001b[1;32m   (...)\u001b[0m\n\u001b[0;32m      8\u001b[0m     temperature\u001b[39m=\u001b[39mT\n\u001b[0;32m      9\u001b[0m )\n\u001b[0;32m     10\u001b[0m exp_train_data \u001b[39m=\u001b[39m train_data[:N]\n\u001b[1;32m---> 11\u001b[0m x, y, yhat \u001b[39m=\u001b[39m  run_ablation_experiment(asktell, exp_train_data, test_data)\n\u001b[0;32m     13\u001b[0m data\u001b[39m=\u001b[39m\u001b[39m\"\u001b[39m\u001b[39mC2\u001b[39m\u001b[39m\"\u001b[39m\n\u001b[0;32m     14\u001b[0m model_class\u001b[39m=\u001b[39m\u001b[39m\"\u001b[39m\u001b[39mmulti\u001b[39m\u001b[39m\"\u001b[39m\n",
      "File \u001b[1;32m~\\AppData\\Local\\Packages\\PythonSoftwareFoundation.Python.3.11_qbz5n2kfra8p0\\LocalCache\\local-packages\\Python311\\site-packages\\tenacity\\__init__.py:289\u001b[0m, in \u001b[0;36mBaseRetrying.wraps.<locals>.wrapped_f\u001b[1;34m(*args, **kw)\u001b[0m\n\u001b[0;32m    287\u001b[0m \u001b[39m@functools\u001b[39m\u001b[39m.\u001b[39mwraps(f)\n\u001b[0;32m    288\u001b[0m \u001b[39mdef\u001b[39;00m \u001b[39mwrapped_f\u001b[39m(\u001b[39m*\u001b[39margs: t\u001b[39m.\u001b[39mAny, \u001b[39m*\u001b[39m\u001b[39m*\u001b[39mkw: t\u001b[39m.\u001b[39mAny) \u001b[39m-\u001b[39m\u001b[39m>\u001b[39m t\u001b[39m.\u001b[39mAny:\n\u001b[1;32m--> 289\u001b[0m     \u001b[39mreturn\u001b[39;00m \u001b[39mself\u001b[39;49m(f, \u001b[39m*\u001b[39;49margs, \u001b[39m*\u001b[39;49m\u001b[39m*\u001b[39;49mkw)\n",
      "File \u001b[1;32m~\\AppData\\Local\\Packages\\PythonSoftwareFoundation.Python.3.11_qbz5n2kfra8p0\\LocalCache\\local-packages\\Python311\\site-packages\\tenacity\\__init__.py:379\u001b[0m, in \u001b[0;36mRetrying.__call__\u001b[1;34m(self, fn, *args, **kwargs)\u001b[0m\n\u001b[0;32m    377\u001b[0m retry_state \u001b[39m=\u001b[39m RetryCallState(retry_object\u001b[39m=\u001b[39m\u001b[39mself\u001b[39m, fn\u001b[39m=\u001b[39mfn, args\u001b[39m=\u001b[39margs, kwargs\u001b[39m=\u001b[39mkwargs)\n\u001b[0;32m    378\u001b[0m \u001b[39mwhile\u001b[39;00m \u001b[39mTrue\u001b[39;00m:\n\u001b[1;32m--> 379\u001b[0m     do \u001b[39m=\u001b[39m \u001b[39mself\u001b[39;49m\u001b[39m.\u001b[39;49miter(retry_state\u001b[39m=\u001b[39;49mretry_state)\n\u001b[0;32m    380\u001b[0m     \u001b[39mif\u001b[39;00m \u001b[39misinstance\u001b[39m(do, DoAttempt):\n\u001b[0;32m    381\u001b[0m         \u001b[39mtry\u001b[39;00m:\n",
      "File \u001b[1;32m~\\AppData\\Local\\Packages\\PythonSoftwareFoundation.Python.3.11_qbz5n2kfra8p0\\LocalCache\\local-packages\\Python311\\site-packages\\tenacity\\__init__.py:314\u001b[0m, in \u001b[0;36mBaseRetrying.iter\u001b[1;34m(self, retry_state)\u001b[0m\n\u001b[0;32m    312\u001b[0m is_explicit_retry \u001b[39m=\u001b[39m fut\u001b[39m.\u001b[39mfailed \u001b[39mand\u001b[39;00m \u001b[39misinstance\u001b[39m(fut\u001b[39m.\u001b[39mexception(), TryAgain)\n\u001b[0;32m    313\u001b[0m \u001b[39mif\u001b[39;00m \u001b[39mnot\u001b[39;00m (is_explicit_retry \u001b[39mor\u001b[39;00m \u001b[39mself\u001b[39m\u001b[39m.\u001b[39mretry(retry_state)):\n\u001b[1;32m--> 314\u001b[0m     \u001b[39mreturn\u001b[39;00m fut\u001b[39m.\u001b[39;49mresult()\n\u001b[0;32m    316\u001b[0m \u001b[39mif\u001b[39;00m \u001b[39mself\u001b[39m\u001b[39m.\u001b[39mafter \u001b[39mis\u001b[39;00m \u001b[39mnot\u001b[39;00m \u001b[39mNone\u001b[39;00m:\n\u001b[0;32m    317\u001b[0m     \u001b[39mself\u001b[39m\u001b[39m.\u001b[39mafter(retry_state)\n",
      "File \u001b[1;32mC:\\Program Files\\WindowsApps\\PythonSoftwareFoundation.Python.3.11_3.11.752.0_x64__qbz5n2kfra8p0\\Lib\\concurrent\\futures\\_base.py:449\u001b[0m, in \u001b[0;36mFuture.result\u001b[1;34m(self, timeout)\u001b[0m\n\u001b[0;32m    447\u001b[0m     \u001b[39mraise\u001b[39;00m CancelledError()\n\u001b[0;32m    448\u001b[0m \u001b[39melif\u001b[39;00m \u001b[39mself\u001b[39m\u001b[39m.\u001b[39m_state \u001b[39m==\u001b[39m FINISHED:\n\u001b[1;32m--> 449\u001b[0m     \u001b[39mreturn\u001b[39;00m \u001b[39mself\u001b[39;49m\u001b[39m.\u001b[39;49m__get_result()\n\u001b[0;32m    451\u001b[0m \u001b[39mself\u001b[39m\u001b[39m.\u001b[39m_condition\u001b[39m.\u001b[39mwait(timeout)\n\u001b[0;32m    453\u001b[0m \u001b[39mif\u001b[39;00m \u001b[39mself\u001b[39m\u001b[39m.\u001b[39m_state \u001b[39min\u001b[39;00m [CANCELLED, CANCELLED_AND_NOTIFIED]:\n",
      "File \u001b[1;32mC:\\Program Files\\WindowsApps\\PythonSoftwareFoundation.Python.3.11_3.11.752.0_x64__qbz5n2kfra8p0\\Lib\\concurrent\\futures\\_base.py:401\u001b[0m, in \u001b[0;36mFuture.__get_result\u001b[1;34m(self)\u001b[0m\n\u001b[0;32m    399\u001b[0m \u001b[39mif\u001b[39;00m \u001b[39mself\u001b[39m\u001b[39m.\u001b[39m_exception:\n\u001b[0;32m    400\u001b[0m     \u001b[39mtry\u001b[39;00m:\n\u001b[1;32m--> 401\u001b[0m         \u001b[39mraise\u001b[39;00m \u001b[39mself\u001b[39m\u001b[39m.\u001b[39m_exception\n\u001b[0;32m    402\u001b[0m     \u001b[39mfinally\u001b[39;00m:\n\u001b[0;32m    403\u001b[0m         \u001b[39m# Break a reference cycle with the exception in self._exception\u001b[39;00m\n\u001b[0;32m    404\u001b[0m         \u001b[39mself\u001b[39m \u001b[39m=\u001b[39m \u001b[39mNone\u001b[39;00m\n",
      "File \u001b[1;32m~\\AppData\\Local\\Packages\\PythonSoftwareFoundation.Python.3.11_qbz5n2kfra8p0\\LocalCache\\local-packages\\Python311\\site-packages\\tenacity\\__init__.py:382\u001b[0m, in \u001b[0;36mRetrying.__call__\u001b[1;34m(self, fn, *args, **kwargs)\u001b[0m\n\u001b[0;32m    380\u001b[0m \u001b[39mif\u001b[39;00m \u001b[39misinstance\u001b[39m(do, DoAttempt):\n\u001b[0;32m    381\u001b[0m     \u001b[39mtry\u001b[39;00m:\n\u001b[1;32m--> 382\u001b[0m         result \u001b[39m=\u001b[39m fn(\u001b[39m*\u001b[39;49margs, \u001b[39m*\u001b[39;49m\u001b[39m*\u001b[39;49mkwargs)\n\u001b[0;32m    383\u001b[0m     \u001b[39mexcept\u001b[39;00m \u001b[39mBaseException\u001b[39;00m:  \u001b[39m# noqa: B902\u001b[39;00m\n\u001b[0;32m    384\u001b[0m         retry_state\u001b[39m.\u001b[39mset_exception(sys\u001b[39m.\u001b[39mexc_info())  \u001b[39m# type: ignore[arg-type]\u001b[39;00m\n",
      "Cell \u001b[1;32mIn[2], line 16\u001b[0m, in \u001b[0;36mrun_ablation_experiment\u001b[1;34m(asktell, train_data, test_data)\u001b[0m\n\u001b[0;32m     14\u001b[0m     x\u001b[39m.\u001b[39mappend(test_data\u001b[39m.\u001b[39miloc[j, \u001b[39m0\u001b[39m])\n\u001b[0;32m     15\u001b[0m     y\u001b[39m.\u001b[39mappend(\u001b[39mfloat\u001b[39m(test_data\u001b[39m.\u001b[39miloc[j, \u001b[39m1\u001b[39m]))\n\u001b[1;32m---> 16\u001b[0m     yhat\u001b[39m.\u001b[39mappend(asktell\u001b[39m.\u001b[39;49mpredict(test_data\u001b[39m.\u001b[39;49miloc[j, \u001b[39m0\u001b[39;49m]))\n\u001b[0;32m     18\u001b[0m \u001b[39m# We should count how many x's have no yhat\u001b[39;00m\n\u001b[0;32m     19\u001b[0m x_filter \u001b[39m=\u001b[39m [xi \u001b[39mfor\u001b[39;00m xi, yhi \u001b[39min\u001b[39;00m \u001b[39mzip\u001b[39m(x, yhat)]\u001b[39m# if len(yhi.values) > 0]\u001b[39;00m\n",
      "File \u001b[1;32m\\\\wsl$\\Ubuntu-20.04\\home\\maykcaldas\\Documents\\WhiteLab\\BO-LIFT\\bolift\\asktell.py:264\u001b[0m, in \u001b[0;36mAskTellFewShotMulti.predict\u001b[1;34m(self, x)\u001b[0m\n\u001b[0;32m    255\u001b[0m     \u001b[39mself\u001b[39m\u001b[39m.\u001b[39mprompt\u001b[39m.\u001b[39mexample_selector\u001b[39m.\u001b[39mk \u001b[39m=\u001b[39m \u001b[39mmin\u001b[39m(\u001b[39mself\u001b[39m\u001b[39m.\u001b[39m_example_count, \u001b[39mself\u001b[39m\u001b[39m.\u001b[39m_selector_k)\n\u001b[0;32m    257\u001b[0m queries \u001b[39m=\u001b[39m [\n\u001b[0;32m    258\u001b[0m     \u001b[39mself\u001b[39m\u001b[39m.\u001b[39mprompt\u001b[39m.\u001b[39mformat(\n\u001b[0;32m    259\u001b[0m         x\u001b[39m=\u001b[39m\u001b[39mself\u001b[39m\u001b[39m.\u001b[39mformat_x(x_i),\n\u001b[1;32m   (...)\u001b[0m\n\u001b[0;32m    262\u001b[0m     \u001b[39mfor\u001b[39;00m x_i \u001b[39min\u001b[39;00m x\n\u001b[0;32m    263\u001b[0m ]\n\u001b[1;32m--> 264\u001b[0m results, tokens \u001b[39m=\u001b[39m \u001b[39mself\u001b[39;49m\u001b[39m.\u001b[39;49m_predict(queries)\n\u001b[0;32m    265\u001b[0m \u001b[39mself\u001b[39m\u001b[39m.\u001b[39mtokens_used \u001b[39m+\u001b[39m\u001b[39m=\u001b[39m tokens\n\u001b[0;32m    267\u001b[0m \u001b[39m# need to replace any GaussDist with pop std\u001b[39;00m\n",
      "File \u001b[1;32m\\\\wsl$\\Ubuntu-20.04\\home\\maykcaldas\\Documents\\WhiteLab\\BO-LIFT\\bolift\\asktell.py:222\u001b[0m, in \u001b[0;36mAskTellFewShotMulti._predict\u001b[1;34m(self, queries)\u001b[0m\n\u001b[0;32m    221\u001b[0m \u001b[39mdef\u001b[39;00m \u001b[39m_predict\u001b[39m(\u001b[39mself\u001b[39m, queries: List[\u001b[39mstr\u001b[39m]) \u001b[39m-\u001b[39m\u001b[39m>\u001b[39m List[DiscreteDist]:\n\u001b[1;32m--> 222\u001b[0m     \u001b[39mreturn\u001b[39;00m openai_choice_predict(queries, \u001b[39mself\u001b[39;49m\u001b[39m.\u001b[39;49mllm, \u001b[39mself\u001b[39;49m\u001b[39m.\u001b[39;49m_verbose)\n",
      "File \u001b[1;32m\\\\wsl$\\Ubuntu-20.04\\home\\maykcaldas\\Documents\\WhiteLab\\BO-LIFT\\bolift\\llm_model.py:188\u001b[0m, in \u001b[0;36mopenai_choice_predict\u001b[1;34m(query_list, llm, verbose, *args, **kwargs)\u001b[0m\n\u001b[0;32m    186\u001b[0m \u001b[39m\u001b[39m\u001b[39m\"\"\"Predict the output numbers for a given list of queries\"\"\"\u001b[39;00m\n\u001b[0;32m    187\u001b[0m \u001b[39mwith\u001b[39;00m get_openai_callback() \u001b[39mas\u001b[39;00m cb:\n\u001b[1;32m--> 188\u001b[0m     completion_response \u001b[39m=\u001b[39m llm\u001b[39m.\u001b[39;49mgenerate(query_list, \u001b[39m*\u001b[39;49margs, \u001b[39m*\u001b[39;49m\u001b[39m*\u001b[39;49mkwargs)\n\u001b[0;32m    189\u001b[0m     token_usage \u001b[39m=\u001b[39m cb\u001b[39m.\u001b[39mtotal_tokens\n\u001b[0;32m    190\u001b[0m \u001b[39mif\u001b[39;00m verbose:\n",
      "File \u001b[1;32m~\\AppData\\Local\\Packages\\PythonSoftwareFoundation.Python.3.11_qbz5n2kfra8p0\\LocalCache\\local-packages\\Python311\\site-packages\\langchain\\llms\\base.py:147\u001b[0m, in \u001b[0;36mBaseLLM.generate\u001b[1;34m(self, prompts, stop)\u001b[0m\n\u001b[0;32m    145\u001b[0m \u001b[39mexcept\u001b[39;00m (\u001b[39mKeyboardInterrupt\u001b[39;00m, \u001b[39mException\u001b[39;00m) \u001b[39mas\u001b[39;00m e:\n\u001b[0;32m    146\u001b[0m     \u001b[39mself\u001b[39m\u001b[39m.\u001b[39mcallback_manager\u001b[39m.\u001b[39mon_llm_error(e, verbose\u001b[39m=\u001b[39m\u001b[39mself\u001b[39m\u001b[39m.\u001b[39mverbose)\n\u001b[1;32m--> 147\u001b[0m     \u001b[39mraise\u001b[39;00m e\n\u001b[0;32m    148\u001b[0m \u001b[39mself\u001b[39m\u001b[39m.\u001b[39mcallback_manager\u001b[39m.\u001b[39mon_llm_end(new_results, verbose\u001b[39m=\u001b[39m\u001b[39mself\u001b[39m\u001b[39m.\u001b[39mverbose)\n\u001b[0;32m    149\u001b[0m llm_output \u001b[39m=\u001b[39m update_cache(\n\u001b[0;32m    150\u001b[0m     existing_prompts, llm_string, missing_prompt_idxs, new_results, prompts\n\u001b[0;32m    151\u001b[0m )\n",
      "File \u001b[1;32m~\\AppData\\Local\\Packages\\PythonSoftwareFoundation.Python.3.11_qbz5n2kfra8p0\\LocalCache\\local-packages\\Python311\\site-packages\\langchain\\llms\\base.py:144\u001b[0m, in \u001b[0;36mBaseLLM.generate\u001b[1;34m(self, prompts, stop)\u001b[0m\n\u001b[0;32m    140\u001b[0m \u001b[39mself\u001b[39m\u001b[39m.\u001b[39mcallback_manager\u001b[39m.\u001b[39mon_llm_start(\n\u001b[0;32m    141\u001b[0m     {\u001b[39m\"\u001b[39m\u001b[39mname\u001b[39m\u001b[39m\"\u001b[39m: \u001b[39mself\u001b[39m\u001b[39m.\u001b[39m\u001b[39m__class__\u001b[39m\u001b[39m.\u001b[39m\u001b[39m__name__\u001b[39m}, missing_prompts, verbose\u001b[39m=\u001b[39m\u001b[39mself\u001b[39m\u001b[39m.\u001b[39mverbose\n\u001b[0;32m    142\u001b[0m )\n\u001b[0;32m    143\u001b[0m \u001b[39mtry\u001b[39;00m:\n\u001b[1;32m--> 144\u001b[0m     new_results \u001b[39m=\u001b[39m \u001b[39mself\u001b[39;49m\u001b[39m.\u001b[39;49m_generate(missing_prompts, stop\u001b[39m=\u001b[39;49mstop)\n\u001b[0;32m    145\u001b[0m \u001b[39mexcept\u001b[39;00m (\u001b[39mKeyboardInterrupt\u001b[39;00m, \u001b[39mException\u001b[39;00m) \u001b[39mas\u001b[39;00m e:\n\u001b[0;32m    146\u001b[0m     \u001b[39mself\u001b[39m\u001b[39m.\u001b[39mcallback_manager\u001b[39m.\u001b[39mon_llm_error(e, verbose\u001b[39m=\u001b[39m\u001b[39mself\u001b[39m\u001b[39m.\u001b[39mverbose)\n",
      "File \u001b[1;32m~\\AppData\\Local\\Packages\\PythonSoftwareFoundation.Python.3.11_qbz5n2kfra8p0\\LocalCache\\local-packages\\Python311\\site-packages\\langchain\\llms\\openai.py:259\u001b[0m, in \u001b[0;36mBaseOpenAI._generate\u001b[1;34m(self, prompts, stop)\u001b[0m\n\u001b[0;32m    257\u001b[0m     choices\u001b[39m.\u001b[39mextend(response[\u001b[39m\"\u001b[39m\u001b[39mchoices\u001b[39m\u001b[39m\"\u001b[39m])\n\u001b[0;32m    258\u001b[0m \u001b[39melse\u001b[39;00m:\n\u001b[1;32m--> 259\u001b[0m     response \u001b[39m=\u001b[39m \u001b[39mself\u001b[39;49m\u001b[39m.\u001b[39;49mcompletion_with_retry(prompt\u001b[39m=\u001b[39;49m_prompts, \u001b[39m*\u001b[39;49m\u001b[39m*\u001b[39;49mparams)\n\u001b[0;32m    260\u001b[0m     choices\u001b[39m.\u001b[39mextend(response[\u001b[39m\"\u001b[39m\u001b[39mchoices\u001b[39m\u001b[39m\"\u001b[39m])\n\u001b[0;32m    261\u001b[0m \u001b[39mif\u001b[39;00m \u001b[39mnot\u001b[39;00m \u001b[39mself\u001b[39m\u001b[39m.\u001b[39mstreaming:\n\u001b[0;32m    262\u001b[0m     \u001b[39m# Can't update token usage if streaming\u001b[39;00m\n",
      "File \u001b[1;32m~\\AppData\\Local\\Packages\\PythonSoftwareFoundation.Python.3.11_qbz5n2kfra8p0\\LocalCache\\local-packages\\Python311\\site-packages\\langchain\\llms\\openai.py:206\u001b[0m, in \u001b[0;36mBaseOpenAI.completion_with_retry\u001b[1;34m(self, **kwargs)\u001b[0m\n\u001b[0;32m    202\u001b[0m \u001b[39m@retry_decorator\u001b[39m\n\u001b[0;32m    203\u001b[0m \u001b[39mdef\u001b[39;00m \u001b[39m_completion_with_retry\u001b[39m(\u001b[39m*\u001b[39m\u001b[39m*\u001b[39mkwargs: Any) \u001b[39m-\u001b[39m\u001b[39m>\u001b[39m Any:\n\u001b[0;32m    204\u001b[0m     \u001b[39mreturn\u001b[39;00m \u001b[39mself\u001b[39m\u001b[39m.\u001b[39mclient\u001b[39m.\u001b[39mcreate(\u001b[39m*\u001b[39m\u001b[39m*\u001b[39mkwargs)\n\u001b[1;32m--> 206\u001b[0m \u001b[39mreturn\u001b[39;00m _completion_with_retry(\u001b[39m*\u001b[39;49m\u001b[39m*\u001b[39;49mkwargs)\n",
      "File \u001b[1;32m~\\AppData\\Local\\Packages\\PythonSoftwareFoundation.Python.3.11_qbz5n2kfra8p0\\LocalCache\\local-packages\\Python311\\site-packages\\tenacity\\__init__.py:289\u001b[0m, in \u001b[0;36mBaseRetrying.wraps.<locals>.wrapped_f\u001b[1;34m(*args, **kw)\u001b[0m\n\u001b[0;32m    287\u001b[0m \u001b[39m@functools\u001b[39m\u001b[39m.\u001b[39mwraps(f)\n\u001b[0;32m    288\u001b[0m \u001b[39mdef\u001b[39;00m \u001b[39mwrapped_f\u001b[39m(\u001b[39m*\u001b[39margs: t\u001b[39m.\u001b[39mAny, \u001b[39m*\u001b[39m\u001b[39m*\u001b[39mkw: t\u001b[39m.\u001b[39mAny) \u001b[39m-\u001b[39m\u001b[39m>\u001b[39m t\u001b[39m.\u001b[39mAny:\n\u001b[1;32m--> 289\u001b[0m     \u001b[39mreturn\u001b[39;00m \u001b[39mself\u001b[39;49m(f, \u001b[39m*\u001b[39;49margs, \u001b[39m*\u001b[39;49m\u001b[39m*\u001b[39;49mkw)\n",
      "File \u001b[1;32m~\\AppData\\Local\\Packages\\PythonSoftwareFoundation.Python.3.11_qbz5n2kfra8p0\\LocalCache\\local-packages\\Python311\\site-packages\\tenacity\\__init__.py:379\u001b[0m, in \u001b[0;36mRetrying.__call__\u001b[1;34m(self, fn, *args, **kwargs)\u001b[0m\n\u001b[0;32m    377\u001b[0m retry_state \u001b[39m=\u001b[39m RetryCallState(retry_object\u001b[39m=\u001b[39m\u001b[39mself\u001b[39m, fn\u001b[39m=\u001b[39mfn, args\u001b[39m=\u001b[39margs, kwargs\u001b[39m=\u001b[39mkwargs)\n\u001b[0;32m    378\u001b[0m \u001b[39mwhile\u001b[39;00m \u001b[39mTrue\u001b[39;00m:\n\u001b[1;32m--> 379\u001b[0m     do \u001b[39m=\u001b[39m \u001b[39mself\u001b[39;49m\u001b[39m.\u001b[39;49miter(retry_state\u001b[39m=\u001b[39;49mretry_state)\n\u001b[0;32m    380\u001b[0m     \u001b[39mif\u001b[39;00m \u001b[39misinstance\u001b[39m(do, DoAttempt):\n\u001b[0;32m    381\u001b[0m         \u001b[39mtry\u001b[39;00m:\n",
      "File \u001b[1;32m~\\AppData\\Local\\Packages\\PythonSoftwareFoundation.Python.3.11_qbz5n2kfra8p0\\LocalCache\\local-packages\\Python311\\site-packages\\tenacity\\__init__.py:314\u001b[0m, in \u001b[0;36mBaseRetrying.iter\u001b[1;34m(self, retry_state)\u001b[0m\n\u001b[0;32m    312\u001b[0m is_explicit_retry \u001b[39m=\u001b[39m fut\u001b[39m.\u001b[39mfailed \u001b[39mand\u001b[39;00m \u001b[39misinstance\u001b[39m(fut\u001b[39m.\u001b[39mexception(), TryAgain)\n\u001b[0;32m    313\u001b[0m \u001b[39mif\u001b[39;00m \u001b[39mnot\u001b[39;00m (is_explicit_retry \u001b[39mor\u001b[39;00m \u001b[39mself\u001b[39m\u001b[39m.\u001b[39mretry(retry_state)):\n\u001b[1;32m--> 314\u001b[0m     \u001b[39mreturn\u001b[39;00m fut\u001b[39m.\u001b[39;49mresult()\n\u001b[0;32m    316\u001b[0m \u001b[39mif\u001b[39;00m \u001b[39mself\u001b[39m\u001b[39m.\u001b[39mafter \u001b[39mis\u001b[39;00m \u001b[39mnot\u001b[39;00m \u001b[39mNone\u001b[39;00m:\n\u001b[0;32m    317\u001b[0m     \u001b[39mself\u001b[39m\u001b[39m.\u001b[39mafter(retry_state)\n",
      "File \u001b[1;32mC:\\Program Files\\WindowsApps\\PythonSoftwareFoundation.Python.3.11_3.11.752.0_x64__qbz5n2kfra8p0\\Lib\\concurrent\\futures\\_base.py:449\u001b[0m, in \u001b[0;36mFuture.result\u001b[1;34m(self, timeout)\u001b[0m\n\u001b[0;32m    447\u001b[0m     \u001b[39mraise\u001b[39;00m CancelledError()\n\u001b[0;32m    448\u001b[0m \u001b[39melif\u001b[39;00m \u001b[39mself\u001b[39m\u001b[39m.\u001b[39m_state \u001b[39m==\u001b[39m FINISHED:\n\u001b[1;32m--> 449\u001b[0m     \u001b[39mreturn\u001b[39;00m \u001b[39mself\u001b[39;49m\u001b[39m.\u001b[39;49m__get_result()\n\u001b[0;32m    451\u001b[0m \u001b[39mself\u001b[39m\u001b[39m.\u001b[39m_condition\u001b[39m.\u001b[39mwait(timeout)\n\u001b[0;32m    453\u001b[0m \u001b[39mif\u001b[39;00m \u001b[39mself\u001b[39m\u001b[39m.\u001b[39m_state \u001b[39min\u001b[39;00m [CANCELLED, CANCELLED_AND_NOTIFIED]:\n",
      "File \u001b[1;32mC:\\Program Files\\WindowsApps\\PythonSoftwareFoundation.Python.3.11_3.11.752.0_x64__qbz5n2kfra8p0\\Lib\\concurrent\\futures\\_base.py:401\u001b[0m, in \u001b[0;36mFuture.__get_result\u001b[1;34m(self)\u001b[0m\n\u001b[0;32m    399\u001b[0m \u001b[39mif\u001b[39;00m \u001b[39mself\u001b[39m\u001b[39m.\u001b[39m_exception:\n\u001b[0;32m    400\u001b[0m     \u001b[39mtry\u001b[39;00m:\n\u001b[1;32m--> 401\u001b[0m         \u001b[39mraise\u001b[39;00m \u001b[39mself\u001b[39m\u001b[39m.\u001b[39m_exception\n\u001b[0;32m    402\u001b[0m     \u001b[39mfinally\u001b[39;00m:\n\u001b[0;32m    403\u001b[0m         \u001b[39m# Break a reference cycle with the exception in self._exception\u001b[39;00m\n\u001b[0;32m    404\u001b[0m         \u001b[39mself\u001b[39m \u001b[39m=\u001b[39m \u001b[39mNone\u001b[39;00m\n",
      "File \u001b[1;32m~\\AppData\\Local\\Packages\\PythonSoftwareFoundation.Python.3.11_qbz5n2kfra8p0\\LocalCache\\local-packages\\Python311\\site-packages\\tenacity\\__init__.py:382\u001b[0m, in \u001b[0;36mRetrying.__call__\u001b[1;34m(self, fn, *args, **kwargs)\u001b[0m\n\u001b[0;32m    380\u001b[0m \u001b[39mif\u001b[39;00m \u001b[39misinstance\u001b[39m(do, DoAttempt):\n\u001b[0;32m    381\u001b[0m     \u001b[39mtry\u001b[39;00m:\n\u001b[1;32m--> 382\u001b[0m         result \u001b[39m=\u001b[39m fn(\u001b[39m*\u001b[39;49margs, \u001b[39m*\u001b[39;49m\u001b[39m*\u001b[39;49mkwargs)\n\u001b[0;32m    383\u001b[0m     \u001b[39mexcept\u001b[39;00m \u001b[39mBaseException\u001b[39;00m:  \u001b[39m# noqa: B902\u001b[39;00m\n\u001b[0;32m    384\u001b[0m         retry_state\u001b[39m.\u001b[39mset_exception(sys\u001b[39m.\u001b[39mexc_info())  \u001b[39m# type: ignore[arg-type]\u001b[39;00m\n",
      "File \u001b[1;32m~\\AppData\\Local\\Packages\\PythonSoftwareFoundation.Python.3.11_qbz5n2kfra8p0\\LocalCache\\local-packages\\Python311\\site-packages\\langchain\\llms\\openai.py:204\u001b[0m, in \u001b[0;36mBaseOpenAI.completion_with_retry.<locals>._completion_with_retry\u001b[1;34m(**kwargs)\u001b[0m\n\u001b[0;32m    202\u001b[0m \u001b[39m@retry_decorator\u001b[39m\n\u001b[0;32m    203\u001b[0m \u001b[39mdef\u001b[39;00m \u001b[39m_completion_with_retry\u001b[39m(\u001b[39m*\u001b[39m\u001b[39m*\u001b[39mkwargs: Any) \u001b[39m-\u001b[39m\u001b[39m>\u001b[39m Any:\n\u001b[1;32m--> 204\u001b[0m     \u001b[39mreturn\u001b[39;00m \u001b[39mself\u001b[39;49m\u001b[39m.\u001b[39;49mclient\u001b[39m.\u001b[39;49mcreate(\u001b[39m*\u001b[39;49m\u001b[39m*\u001b[39;49mkwargs)\n",
      "File \u001b[1;32m~\\AppData\\Local\\Packages\\PythonSoftwareFoundation.Python.3.11_qbz5n2kfra8p0\\LocalCache\\local-packages\\Python311\\site-packages\\openai\\api_resources\\completion.py:25\u001b[0m, in \u001b[0;36mCompletion.create\u001b[1;34m(cls, *args, **kwargs)\u001b[0m\n\u001b[0;32m     23\u001b[0m \u001b[39mwhile\u001b[39;00m \u001b[39mTrue\u001b[39;00m:\n\u001b[0;32m     24\u001b[0m     \u001b[39mtry\u001b[39;00m:\n\u001b[1;32m---> 25\u001b[0m         \u001b[39mreturn\u001b[39;00m \u001b[39msuper\u001b[39;49m()\u001b[39m.\u001b[39;49mcreate(\u001b[39m*\u001b[39;49margs, \u001b[39m*\u001b[39;49m\u001b[39m*\u001b[39;49mkwargs)\n\u001b[0;32m     26\u001b[0m     \u001b[39mexcept\u001b[39;00m TryAgain \u001b[39mas\u001b[39;00m e:\n\u001b[0;32m     27\u001b[0m         \u001b[39mif\u001b[39;00m timeout \u001b[39mis\u001b[39;00m \u001b[39mnot\u001b[39;00m \u001b[39mNone\u001b[39;00m \u001b[39mand\u001b[39;00m time\u001b[39m.\u001b[39mtime() \u001b[39m>\u001b[39m start \u001b[39m+\u001b[39m timeout:\n",
      "File \u001b[1;32m~\\AppData\\Local\\Packages\\PythonSoftwareFoundation.Python.3.11_qbz5n2kfra8p0\\LocalCache\\local-packages\\Python311\\site-packages\\openai\\api_resources\\abstract\\engine_api_resource.py:153\u001b[0m, in \u001b[0;36mEngineAPIResource.create\u001b[1;34m(cls, api_key, api_base, api_type, request_id, api_version, organization, **params)\u001b[0m\n\u001b[0;32m    127\u001b[0m \u001b[39m@classmethod\u001b[39m\n\u001b[0;32m    128\u001b[0m \u001b[39mdef\u001b[39;00m \u001b[39mcreate\u001b[39m(\n\u001b[0;32m    129\u001b[0m     \u001b[39mcls\u001b[39m,\n\u001b[1;32m   (...)\u001b[0m\n\u001b[0;32m    136\u001b[0m     \u001b[39m*\u001b[39m\u001b[39m*\u001b[39mparams,\n\u001b[0;32m    137\u001b[0m ):\n\u001b[0;32m    138\u001b[0m     (\n\u001b[0;32m    139\u001b[0m         deployment_id,\n\u001b[0;32m    140\u001b[0m         engine,\n\u001b[1;32m   (...)\u001b[0m\n\u001b[0;32m    150\u001b[0m         api_key, api_base, api_type, api_version, organization, \u001b[39m*\u001b[39m\u001b[39m*\u001b[39mparams\n\u001b[0;32m    151\u001b[0m     )\n\u001b[1;32m--> 153\u001b[0m     response, _, api_key \u001b[39m=\u001b[39m requestor\u001b[39m.\u001b[39;49mrequest(\n\u001b[0;32m    154\u001b[0m         \u001b[39m\"\u001b[39;49m\u001b[39mpost\u001b[39;49m\u001b[39m\"\u001b[39;49m,\n\u001b[0;32m    155\u001b[0m         url,\n\u001b[0;32m    156\u001b[0m         params\u001b[39m=\u001b[39;49mparams,\n\u001b[0;32m    157\u001b[0m         headers\u001b[39m=\u001b[39;49mheaders,\n\u001b[0;32m    158\u001b[0m         stream\u001b[39m=\u001b[39;49mstream,\n\u001b[0;32m    159\u001b[0m         request_id\u001b[39m=\u001b[39;49mrequest_id,\n\u001b[0;32m    160\u001b[0m         request_timeout\u001b[39m=\u001b[39;49mrequest_timeout,\n\u001b[0;32m    161\u001b[0m     )\n\u001b[0;32m    163\u001b[0m     \u001b[39mif\u001b[39;00m stream:\n\u001b[0;32m    164\u001b[0m         \u001b[39m# must be an iterator\u001b[39;00m\n\u001b[0;32m    165\u001b[0m         \u001b[39massert\u001b[39;00m \u001b[39mnot\u001b[39;00m \u001b[39misinstance\u001b[39m(response, OpenAIResponse)\n",
      "File \u001b[1;32m~\\AppData\\Local\\Packages\\PythonSoftwareFoundation.Python.3.11_qbz5n2kfra8p0\\LocalCache\\local-packages\\Python311\\site-packages\\openai\\api_requestor.py:216\u001b[0m, in \u001b[0;36mAPIRequestor.request\u001b[1;34m(self, method, url, params, headers, files, stream, request_id, request_timeout)\u001b[0m\n\u001b[0;32m    205\u001b[0m \u001b[39mdef\u001b[39;00m \u001b[39mrequest\u001b[39m(\n\u001b[0;32m    206\u001b[0m     \u001b[39mself\u001b[39m,\n\u001b[0;32m    207\u001b[0m     method,\n\u001b[1;32m   (...)\u001b[0m\n\u001b[0;32m    214\u001b[0m     request_timeout: Optional[Union[\u001b[39mfloat\u001b[39m, Tuple[\u001b[39mfloat\u001b[39m, \u001b[39mfloat\u001b[39m]]] \u001b[39m=\u001b[39m \u001b[39mNone\u001b[39;00m,\n\u001b[0;32m    215\u001b[0m ) \u001b[39m-\u001b[39m\u001b[39m>\u001b[39m Tuple[Union[OpenAIResponse, Iterator[OpenAIResponse]], \u001b[39mbool\u001b[39m, \u001b[39mstr\u001b[39m]:\n\u001b[1;32m--> 216\u001b[0m     result \u001b[39m=\u001b[39m \u001b[39mself\u001b[39;49m\u001b[39m.\u001b[39;49mrequest_raw(\n\u001b[0;32m    217\u001b[0m         method\u001b[39m.\u001b[39;49mlower(),\n\u001b[0;32m    218\u001b[0m         url,\n\u001b[0;32m    219\u001b[0m         params\u001b[39m=\u001b[39;49mparams,\n\u001b[0;32m    220\u001b[0m         supplied_headers\u001b[39m=\u001b[39;49mheaders,\n\u001b[0;32m    221\u001b[0m         files\u001b[39m=\u001b[39;49mfiles,\n\u001b[0;32m    222\u001b[0m         stream\u001b[39m=\u001b[39;49mstream,\n\u001b[0;32m    223\u001b[0m         request_id\u001b[39m=\u001b[39;49mrequest_id,\n\u001b[0;32m    224\u001b[0m         request_timeout\u001b[39m=\u001b[39;49mrequest_timeout,\n\u001b[0;32m    225\u001b[0m     )\n\u001b[0;32m    226\u001b[0m     resp, got_stream \u001b[39m=\u001b[39m \u001b[39mself\u001b[39m\u001b[39m.\u001b[39m_interpret_response(result, stream)\n\u001b[0;32m    227\u001b[0m     \u001b[39mreturn\u001b[39;00m resp, got_stream, \u001b[39mself\u001b[39m\u001b[39m.\u001b[39mapi_key\n",
      "File \u001b[1;32m~\\AppData\\Local\\Packages\\PythonSoftwareFoundation.Python.3.11_qbz5n2kfra8p0\\LocalCache\\local-packages\\Python311\\site-packages\\openai\\api_requestor.py:516\u001b[0m, in \u001b[0;36mAPIRequestor.request_raw\u001b[1;34m(self, method, url, params, supplied_headers, files, stream, request_id, request_timeout)\u001b[0m\n\u001b[0;32m    514\u001b[0m     _thread_context\u001b[39m.\u001b[39msession \u001b[39m=\u001b[39m _make_session()\n\u001b[0;32m    515\u001b[0m \u001b[39mtry\u001b[39;00m:\n\u001b[1;32m--> 516\u001b[0m     result \u001b[39m=\u001b[39m _thread_context\u001b[39m.\u001b[39;49msession\u001b[39m.\u001b[39;49mrequest(\n\u001b[0;32m    517\u001b[0m         method,\n\u001b[0;32m    518\u001b[0m         abs_url,\n\u001b[0;32m    519\u001b[0m         headers\u001b[39m=\u001b[39;49mheaders,\n\u001b[0;32m    520\u001b[0m         data\u001b[39m=\u001b[39;49mdata,\n\u001b[0;32m    521\u001b[0m         files\u001b[39m=\u001b[39;49mfiles,\n\u001b[0;32m    522\u001b[0m         stream\u001b[39m=\u001b[39;49mstream,\n\u001b[0;32m    523\u001b[0m         timeout\u001b[39m=\u001b[39;49mrequest_timeout \u001b[39mif\u001b[39;49;00m request_timeout \u001b[39melse\u001b[39;49;00m TIMEOUT_SECS,\n\u001b[0;32m    524\u001b[0m     )\n\u001b[0;32m    525\u001b[0m \u001b[39mexcept\u001b[39;00m requests\u001b[39m.\u001b[39mexceptions\u001b[39m.\u001b[39mTimeout \u001b[39mas\u001b[39;00m e:\n\u001b[0;32m    526\u001b[0m     \u001b[39mraise\u001b[39;00m error\u001b[39m.\u001b[39mTimeout(\u001b[39m\"\u001b[39m\u001b[39mRequest timed out: \u001b[39m\u001b[39m{}\u001b[39;00m\u001b[39m\"\u001b[39m\u001b[39m.\u001b[39mformat(e)) \u001b[39mfrom\u001b[39;00m \u001b[39me\u001b[39;00m\n",
      "File \u001b[1;32m~\\AppData\\Local\\Packages\\PythonSoftwareFoundation.Python.3.11_qbz5n2kfra8p0\\LocalCache\\local-packages\\Python311\\site-packages\\requests\\sessions.py:587\u001b[0m, in \u001b[0;36mSession.request\u001b[1;34m(self, method, url, params, data, headers, cookies, files, auth, timeout, allow_redirects, proxies, hooks, stream, verify, cert, json)\u001b[0m\n\u001b[0;32m    582\u001b[0m send_kwargs \u001b[39m=\u001b[39m {\n\u001b[0;32m    583\u001b[0m     \u001b[39m\"\u001b[39m\u001b[39mtimeout\u001b[39m\u001b[39m\"\u001b[39m: timeout,\n\u001b[0;32m    584\u001b[0m     \u001b[39m\"\u001b[39m\u001b[39mallow_redirects\u001b[39m\u001b[39m\"\u001b[39m: allow_redirects,\n\u001b[0;32m    585\u001b[0m }\n\u001b[0;32m    586\u001b[0m send_kwargs\u001b[39m.\u001b[39mupdate(settings)\n\u001b[1;32m--> 587\u001b[0m resp \u001b[39m=\u001b[39m \u001b[39mself\u001b[39;49m\u001b[39m.\u001b[39;49msend(prep, \u001b[39m*\u001b[39;49m\u001b[39m*\u001b[39;49msend_kwargs)\n\u001b[0;32m    589\u001b[0m \u001b[39mreturn\u001b[39;00m resp\n",
      "File \u001b[1;32m~\\AppData\\Local\\Packages\\PythonSoftwareFoundation.Python.3.11_qbz5n2kfra8p0\\LocalCache\\local-packages\\Python311\\site-packages\\requests\\sessions.py:701\u001b[0m, in \u001b[0;36mSession.send\u001b[1;34m(self, request, **kwargs)\u001b[0m\n\u001b[0;32m    698\u001b[0m start \u001b[39m=\u001b[39m preferred_clock()\n\u001b[0;32m    700\u001b[0m \u001b[39m# Send the request\u001b[39;00m\n\u001b[1;32m--> 701\u001b[0m r \u001b[39m=\u001b[39m adapter\u001b[39m.\u001b[39;49msend(request, \u001b[39m*\u001b[39;49m\u001b[39m*\u001b[39;49mkwargs)\n\u001b[0;32m    703\u001b[0m \u001b[39m# Total elapsed time of the request (approximately)\u001b[39;00m\n\u001b[0;32m    704\u001b[0m elapsed \u001b[39m=\u001b[39m preferred_clock() \u001b[39m-\u001b[39m start\n",
      "File \u001b[1;32m~\\AppData\\Local\\Packages\\PythonSoftwareFoundation.Python.3.11_qbz5n2kfra8p0\\LocalCache\\local-packages\\Python311\\site-packages\\requests\\adapters.py:489\u001b[0m, in \u001b[0;36mHTTPAdapter.send\u001b[1;34m(self, request, stream, timeout, verify, cert, proxies)\u001b[0m\n\u001b[0;32m    487\u001b[0m \u001b[39mtry\u001b[39;00m:\n\u001b[0;32m    488\u001b[0m     \u001b[39mif\u001b[39;00m \u001b[39mnot\u001b[39;00m chunked:\n\u001b[1;32m--> 489\u001b[0m         resp \u001b[39m=\u001b[39m conn\u001b[39m.\u001b[39;49murlopen(\n\u001b[0;32m    490\u001b[0m             method\u001b[39m=\u001b[39;49mrequest\u001b[39m.\u001b[39;49mmethod,\n\u001b[0;32m    491\u001b[0m             url\u001b[39m=\u001b[39;49murl,\n\u001b[0;32m    492\u001b[0m             body\u001b[39m=\u001b[39;49mrequest\u001b[39m.\u001b[39;49mbody,\n\u001b[0;32m    493\u001b[0m             headers\u001b[39m=\u001b[39;49mrequest\u001b[39m.\u001b[39;49mheaders,\n\u001b[0;32m    494\u001b[0m             redirect\u001b[39m=\u001b[39;49m\u001b[39mFalse\u001b[39;49;00m,\n\u001b[0;32m    495\u001b[0m             assert_same_host\u001b[39m=\u001b[39;49m\u001b[39mFalse\u001b[39;49;00m,\n\u001b[0;32m    496\u001b[0m             preload_content\u001b[39m=\u001b[39;49m\u001b[39mFalse\u001b[39;49;00m,\n\u001b[0;32m    497\u001b[0m             decode_content\u001b[39m=\u001b[39;49m\u001b[39mFalse\u001b[39;49;00m,\n\u001b[0;32m    498\u001b[0m             retries\u001b[39m=\u001b[39;49m\u001b[39mself\u001b[39;49m\u001b[39m.\u001b[39;49mmax_retries,\n\u001b[0;32m    499\u001b[0m             timeout\u001b[39m=\u001b[39;49mtimeout,\n\u001b[0;32m    500\u001b[0m         )\n\u001b[0;32m    502\u001b[0m     \u001b[39m# Send the request.\u001b[39;00m\n\u001b[0;32m    503\u001b[0m     \u001b[39melse\u001b[39;00m:\n\u001b[0;32m    504\u001b[0m         \u001b[39mif\u001b[39;00m \u001b[39mhasattr\u001b[39m(conn, \u001b[39m\"\u001b[39m\u001b[39mproxy_pool\u001b[39m\u001b[39m\"\u001b[39m):\n",
      "File \u001b[1;32m~\\AppData\\Local\\Packages\\PythonSoftwareFoundation.Python.3.11_qbz5n2kfra8p0\\LocalCache\\local-packages\\Python311\\site-packages\\urllib3\\connectionpool.py:703\u001b[0m, in \u001b[0;36mHTTPConnectionPool.urlopen\u001b[1;34m(self, method, url, body, headers, retries, redirect, assert_same_host, timeout, pool_timeout, release_conn, chunked, body_pos, **response_kw)\u001b[0m\n\u001b[0;32m    700\u001b[0m     \u001b[39mself\u001b[39m\u001b[39m.\u001b[39m_prepare_proxy(conn)\n\u001b[0;32m    702\u001b[0m \u001b[39m# Make the request on the httplib connection object.\u001b[39;00m\n\u001b[1;32m--> 703\u001b[0m httplib_response \u001b[39m=\u001b[39m \u001b[39mself\u001b[39;49m\u001b[39m.\u001b[39;49m_make_request(\n\u001b[0;32m    704\u001b[0m     conn,\n\u001b[0;32m    705\u001b[0m     method,\n\u001b[0;32m    706\u001b[0m     url,\n\u001b[0;32m    707\u001b[0m     timeout\u001b[39m=\u001b[39;49mtimeout_obj,\n\u001b[0;32m    708\u001b[0m     body\u001b[39m=\u001b[39;49mbody,\n\u001b[0;32m    709\u001b[0m     headers\u001b[39m=\u001b[39;49mheaders,\n\u001b[0;32m    710\u001b[0m     chunked\u001b[39m=\u001b[39;49mchunked,\n\u001b[0;32m    711\u001b[0m )\n\u001b[0;32m    713\u001b[0m \u001b[39m# If we're going to release the connection in ``finally:``, then\u001b[39;00m\n\u001b[0;32m    714\u001b[0m \u001b[39m# the response doesn't need to know about the connection. Otherwise\u001b[39;00m\n\u001b[0;32m    715\u001b[0m \u001b[39m# it will also try to release it and we'll have a double-release\u001b[39;00m\n\u001b[0;32m    716\u001b[0m \u001b[39m# mess.\u001b[39;00m\n\u001b[0;32m    717\u001b[0m response_conn \u001b[39m=\u001b[39m conn \u001b[39mif\u001b[39;00m \u001b[39mnot\u001b[39;00m release_conn \u001b[39melse\u001b[39;00m \u001b[39mNone\u001b[39;00m\n",
      "File \u001b[1;32m~\\AppData\\Local\\Packages\\PythonSoftwareFoundation.Python.3.11_qbz5n2kfra8p0\\LocalCache\\local-packages\\Python311\\site-packages\\urllib3\\connectionpool.py:449\u001b[0m, in \u001b[0;36mHTTPConnectionPool._make_request\u001b[1;34m(self, conn, method, url, timeout, chunked, **httplib_request_kw)\u001b[0m\n\u001b[0;32m    444\u001b[0m             httplib_response \u001b[39m=\u001b[39m conn\u001b[39m.\u001b[39mgetresponse()\n\u001b[0;32m    445\u001b[0m         \u001b[39mexcept\u001b[39;00m \u001b[39mBaseException\u001b[39;00m \u001b[39mas\u001b[39;00m e:\n\u001b[0;32m    446\u001b[0m             \u001b[39m# Remove the TypeError from the exception chain in\u001b[39;00m\n\u001b[0;32m    447\u001b[0m             \u001b[39m# Python 3 (including for exceptions like SystemExit).\u001b[39;00m\n\u001b[0;32m    448\u001b[0m             \u001b[39m# Otherwise it looks like a bug in the code.\u001b[39;00m\n\u001b[1;32m--> 449\u001b[0m             six\u001b[39m.\u001b[39;49mraise_from(e, \u001b[39mNone\u001b[39;49;00m)\n\u001b[0;32m    450\u001b[0m \u001b[39mexcept\u001b[39;00m (SocketTimeout, BaseSSLError, SocketError) \u001b[39mas\u001b[39;00m e:\n\u001b[0;32m    451\u001b[0m     \u001b[39mself\u001b[39m\u001b[39m.\u001b[39m_raise_timeout(err\u001b[39m=\u001b[39me, url\u001b[39m=\u001b[39murl, timeout_value\u001b[39m=\u001b[39mread_timeout)\n",
      "File \u001b[1;32m<string>:3\u001b[0m, in \u001b[0;36mraise_from\u001b[1;34m(value, from_value)\u001b[0m\n",
      "File \u001b[1;32m~\\AppData\\Local\\Packages\\PythonSoftwareFoundation.Python.3.11_qbz5n2kfra8p0\\LocalCache\\local-packages\\Python311\\site-packages\\urllib3\\connectionpool.py:444\u001b[0m, in \u001b[0;36mHTTPConnectionPool._make_request\u001b[1;34m(self, conn, method, url, timeout, chunked, **httplib_request_kw)\u001b[0m\n\u001b[0;32m    441\u001b[0m \u001b[39mexcept\u001b[39;00m \u001b[39mTypeError\u001b[39;00m:\n\u001b[0;32m    442\u001b[0m     \u001b[39m# Python 3\u001b[39;00m\n\u001b[0;32m    443\u001b[0m     \u001b[39mtry\u001b[39;00m:\n\u001b[1;32m--> 444\u001b[0m         httplib_response \u001b[39m=\u001b[39m conn\u001b[39m.\u001b[39;49mgetresponse()\n\u001b[0;32m    445\u001b[0m     \u001b[39mexcept\u001b[39;00m \u001b[39mBaseException\u001b[39;00m \u001b[39mas\u001b[39;00m e:\n\u001b[0;32m    446\u001b[0m         \u001b[39m# Remove the TypeError from the exception chain in\u001b[39;00m\n\u001b[0;32m    447\u001b[0m         \u001b[39m# Python 3 (including for exceptions like SystemExit).\u001b[39;00m\n\u001b[0;32m    448\u001b[0m         \u001b[39m# Otherwise it looks like a bug in the code.\u001b[39;00m\n\u001b[0;32m    449\u001b[0m         six\u001b[39m.\u001b[39mraise_from(e, \u001b[39mNone\u001b[39;00m)\n",
      "File \u001b[1;32mC:\\Program Files\\WindowsApps\\PythonSoftwareFoundation.Python.3.11_3.11.752.0_x64__qbz5n2kfra8p0\\Lib\\http\\client.py:1374\u001b[0m, in \u001b[0;36mHTTPConnection.getresponse\u001b[1;34m(self)\u001b[0m\n\u001b[0;32m   1372\u001b[0m \u001b[39mtry\u001b[39;00m:\n\u001b[0;32m   1373\u001b[0m     \u001b[39mtry\u001b[39;00m:\n\u001b[1;32m-> 1374\u001b[0m         response\u001b[39m.\u001b[39;49mbegin()\n\u001b[0;32m   1375\u001b[0m     \u001b[39mexcept\u001b[39;00m \u001b[39mConnectionError\u001b[39;00m:\n\u001b[0;32m   1376\u001b[0m         \u001b[39mself\u001b[39m\u001b[39m.\u001b[39mclose()\n",
      "File \u001b[1;32mC:\\Program Files\\WindowsApps\\PythonSoftwareFoundation.Python.3.11_3.11.752.0_x64__qbz5n2kfra8p0\\Lib\\http\\client.py:318\u001b[0m, in \u001b[0;36mHTTPResponse.begin\u001b[1;34m(self)\u001b[0m\n\u001b[0;32m    316\u001b[0m \u001b[39m# read until we get a non-100 response\u001b[39;00m\n\u001b[0;32m    317\u001b[0m \u001b[39mwhile\u001b[39;00m \u001b[39mTrue\u001b[39;00m:\n\u001b[1;32m--> 318\u001b[0m     version, status, reason \u001b[39m=\u001b[39m \u001b[39mself\u001b[39;49m\u001b[39m.\u001b[39;49m_read_status()\n\u001b[0;32m    319\u001b[0m     \u001b[39mif\u001b[39;00m status \u001b[39m!=\u001b[39m CONTINUE:\n\u001b[0;32m    320\u001b[0m         \u001b[39mbreak\u001b[39;00m\n",
      "File \u001b[1;32mC:\\Program Files\\WindowsApps\\PythonSoftwareFoundation.Python.3.11_3.11.752.0_x64__qbz5n2kfra8p0\\Lib\\http\\client.py:279\u001b[0m, in \u001b[0;36mHTTPResponse._read_status\u001b[1;34m(self)\u001b[0m\n\u001b[0;32m    278\u001b[0m \u001b[39mdef\u001b[39;00m \u001b[39m_read_status\u001b[39m(\u001b[39mself\u001b[39m):\n\u001b[1;32m--> 279\u001b[0m     line \u001b[39m=\u001b[39m \u001b[39mstr\u001b[39m(\u001b[39mself\u001b[39m\u001b[39m.\u001b[39mfp\u001b[39m.\u001b[39mreadline(_MAXLINE \u001b[39m+\u001b[39m \u001b[39m1\u001b[39m), \u001b[39m\"\u001b[39m\u001b[39miso-8859-1\u001b[39m\u001b[39m\"\u001b[39m)\n\u001b[0;32m    280\u001b[0m     \u001b[39mif\u001b[39;00m \u001b[39mlen\u001b[39m(line) \u001b[39m>\u001b[39m _MAXLINE:\n\u001b[0;32m    281\u001b[0m         \u001b[39mraise\u001b[39;00m LineTooLong(\u001b[39m\"\u001b[39m\u001b[39mstatus line\u001b[39m\u001b[39m\"\u001b[39m)\n",
      "File \u001b[1;32mC:\\Program Files\\WindowsApps\\PythonSoftwareFoundation.Python.3.11_3.11.752.0_x64__qbz5n2kfra8p0\\Lib\\socket.py:706\u001b[0m, in \u001b[0;36mSocketIO.readinto\u001b[1;34m(self, b)\u001b[0m\n\u001b[0;32m    704\u001b[0m \u001b[39mwhile\u001b[39;00m \u001b[39mTrue\u001b[39;00m:\n\u001b[0;32m    705\u001b[0m     \u001b[39mtry\u001b[39;00m:\n\u001b[1;32m--> 706\u001b[0m         \u001b[39mreturn\u001b[39;00m \u001b[39mself\u001b[39;49m\u001b[39m.\u001b[39;49m_sock\u001b[39m.\u001b[39;49mrecv_into(b)\n\u001b[0;32m    707\u001b[0m     \u001b[39mexcept\u001b[39;00m timeout:\n\u001b[0;32m    708\u001b[0m         \u001b[39mself\u001b[39m\u001b[39m.\u001b[39m_timeout_occurred \u001b[39m=\u001b[39m \u001b[39mTrue\u001b[39;00m\n",
      "File \u001b[1;32mC:\\Program Files\\WindowsApps\\PythonSoftwareFoundation.Python.3.11_3.11.752.0_x64__qbz5n2kfra8p0\\Lib\\ssl.py:1278\u001b[0m, in \u001b[0;36mSSLSocket.recv_into\u001b[1;34m(self, buffer, nbytes, flags)\u001b[0m\n\u001b[0;32m   1274\u001b[0m     \u001b[39mif\u001b[39;00m flags \u001b[39m!=\u001b[39m \u001b[39m0\u001b[39m:\n\u001b[0;32m   1275\u001b[0m         \u001b[39mraise\u001b[39;00m \u001b[39mValueError\u001b[39;00m(\n\u001b[0;32m   1276\u001b[0m           \u001b[39m\"\u001b[39m\u001b[39mnon-zero flags not allowed in calls to recv_into() on \u001b[39m\u001b[39m%s\u001b[39;00m\u001b[39m\"\u001b[39m \u001b[39m%\u001b[39m\n\u001b[0;32m   1277\u001b[0m           \u001b[39mself\u001b[39m\u001b[39m.\u001b[39m\u001b[39m__class__\u001b[39m)\n\u001b[1;32m-> 1278\u001b[0m     \u001b[39mreturn\u001b[39;00m \u001b[39mself\u001b[39;49m\u001b[39m.\u001b[39;49mread(nbytes, buffer)\n\u001b[0;32m   1279\u001b[0m \u001b[39melse\u001b[39;00m:\n\u001b[0;32m   1280\u001b[0m     \u001b[39mreturn\u001b[39;00m \u001b[39msuper\u001b[39m()\u001b[39m.\u001b[39mrecv_into(buffer, nbytes, flags)\n",
      "File \u001b[1;32mC:\\Program Files\\WindowsApps\\PythonSoftwareFoundation.Python.3.11_3.11.752.0_x64__qbz5n2kfra8p0\\Lib\\ssl.py:1134\u001b[0m, in \u001b[0;36mSSLSocket.read\u001b[1;34m(self, len, buffer)\u001b[0m\n\u001b[0;32m   1132\u001b[0m \u001b[39mtry\u001b[39;00m:\n\u001b[0;32m   1133\u001b[0m     \u001b[39mif\u001b[39;00m buffer \u001b[39mis\u001b[39;00m \u001b[39mnot\u001b[39;00m \u001b[39mNone\u001b[39;00m:\n\u001b[1;32m-> 1134\u001b[0m         \u001b[39mreturn\u001b[39;00m \u001b[39mself\u001b[39;49m\u001b[39m.\u001b[39;49m_sslobj\u001b[39m.\u001b[39;49mread(\u001b[39mlen\u001b[39;49m, buffer)\n\u001b[0;32m   1135\u001b[0m     \u001b[39melse\u001b[39;00m:\n\u001b[0;32m   1136\u001b[0m         \u001b[39mreturn\u001b[39;00m \u001b[39mself\u001b[39m\u001b[39m.\u001b[39m_sslobj\u001b[39m.\u001b[39mread(\u001b[39mlen\u001b[39m)\n",
      "\u001b[1;31mKeyboardInterrupt\u001b[0m: "
     ]
    }
   ],
   "source": [
    "T_list = [0.05]\n",
    "k_list = [0,1,2,3,4,10]\n",
    "N_list = [1000]\n",
    "models_list = [\"text-curie-001\"]\n",
    "for T, k, N, model in itertools.product(T_list, k_list, N_list, models_list):\n",
    "  print(f\"Running C2 multi ablation with T={T}, k={k}, N={N}, model={model}\", end=\" \")\n",
    "  y, yhat = run_C2_multi_ablation(train_data, test_data, model=model, T=T, N=N, k=k)\n",
    "  print(\" --> done\")"
   ]
  },
  {
   "attachments": {},
   "cell_type": "markdown",
   "metadata": {},
   "source": [
    "### topk"
   ]
  },
  {
   "cell_type": "code",
   "execution_count": null,
   "metadata": {},
   "outputs": [],
   "source": [
    "def run_C2_topk_ablation(train_data, test_data, model=\"text-curie-001\", T=0.05, N=50, k=10):\n",
    "    asktell = bolift.AskTellFewShotTopk(\n",
    "        x_formatter=lambda x: f\"experimental procedure: {x}\",\n",
    "        y_name=\"C2 yield\",\n",
    "        y_formatter=lambda y: f\"{y:.2f}\",\n",
    "        model=model,\n",
    "        selector_k=k,\n",
    "        temperature=T\n",
    "    )\n",
    "    exp_train_data = train_data[:N]\n",
    "    x, y, yhat =  run_ablation_experiment(asktell, exp_train_data, test_data)\n",
    "\n",
    "    data=\"C2\"\n",
    "    model_class=\"topk\"\n",
    "    save_csv(out_csv_file, x, y, yhat, data, model, T, k, N, model_class, asktell.tokens_used)\n",
    "\n",
    "    return y, yhat"
   ]
  },
  {
   "cell_type": "code",
   "execution_count": null,
   "metadata": {},
   "outputs": [
    {
     "name": "stdout",
     "output_type": "stream",
     "text": [
      "Running C2 topk ablation with T=0.05, k=5, N=1, model=text-curie-001  --> done\n"
     ]
    }
   ],
   "source": [
    "\n",
    "T_list = [0.05]\n",
    "k_list = [0,1,2,3,4,10]\n",
    "N_list = [1000]\n",
    "models_list = [\"text-curie-001\"]\n",
    "for T, k, N, model in itertools.product(T_list, k_list, N_list, models_list):\n",
    "  print(f\"Running C2 topk ablation with T={T}, k={k}, N={N}, model={model}\", end=\" \")\n",
    "  y, yhat = run_C2_topk_ablation(train_data[:N], test_data, model=model, T=T, N=N, k=k)\n",
    "  print(\" --> done\")\n"
   ]
  },
  {
   "attachments": {},
   "cell_type": "markdown",
   "metadata": {},
   "source": [
    "### GPR"
   ]
  },
  {
   "cell_type": "code",
   "execution_count": 8,
   "metadata": {},
   "outputs": [],
   "source": [
    "def run_C2_GPR_ablation(train_data, test_data, model=\"text-curie-001\", T=0.05, N=50, k=10):\n",
    "    asktell = bolift.AskTellGPR(\n",
    "        prefix=\"The following question should be answered with a number\\n\",\n",
    "        prompt_template=PromptTemplate(\n",
    "            input_variables=[\"x\", \"y\", \"y_name\"],\n",
    "            template=\"Q: What is the {y_name} of {x}?@@@\\nA: {y}###\",\n",
    "        ),\n",
    "        suffix=\"What is the {y_name} of {x}?@@@\\nA:\",\n",
    "        x_formatter=lambda x: f\"experimental procedure: {x}\",\n",
    "        y_name=\"C2 yield\",\n",
    "        y_formatter=lambda y: f\"{y:.2f}\",\n",
    "        model=model,\n",
    "        temperature = T,\n",
    "        # selector_k = k,\n",
    "        cache_path=\"GPR_ada_embed_cache.csv\"\n",
    "    )\n",
    "    exp_train_data = train_data[:N]\n",
    "    x, y, yhat =  run_ablation_experiment(asktell, exp_train_data, test_data)\n",
    "\n",
    "    data=\"C2\"\n",
    "    model_class=\"GPR\"\n",
    "    # asktell.save_cache(\"GPR_ada_embed_cache.csv\")\n",
    "    save_csv(out_csv_file, x, y, yhat, data, model, T, k, N, model_class, asktell.tokens_used)\n",
    "\n",
    "    return y, yhat"
   ]
  },
  {
   "cell_type": "code",
   "execution_count": 12,
   "metadata": {},
   "outputs": [
    {
     "name": "stdout",
     "output_type": "stream",
     "text": [
      "Running C2 GPT ablation with T=0.05, k=5, N=500, model=text-ada-001 Cached embeddings not found. Creating new cache table.\n"
     ]
    },
    {
     "ename": "KeyboardInterrupt",
     "evalue": "",
     "output_type": "error",
     "traceback": [
      "\u001b[1;31m---------------------------------------------------------------------------\u001b[0m",
      "\u001b[1;31mKeyboardInterrupt\u001b[0m                         Traceback (most recent call last)",
      "Cell \u001b[1;32mIn[12], line 7\u001b[0m\n\u001b[0;32m      5\u001b[0m \u001b[39mfor\u001b[39;00m T, k, N, model \u001b[39min\u001b[39;00m itertools\u001b[39m.\u001b[39mproduct(T_list, k_list, N_list, models_list):\n\u001b[0;32m      6\u001b[0m   \u001b[39mprint\u001b[39m(\u001b[39mf\u001b[39m\u001b[39m\"\u001b[39m\u001b[39mRunning C2 GPT ablation with T=\u001b[39m\u001b[39m{\u001b[39;00mT\u001b[39m}\u001b[39;00m\u001b[39m, k=\u001b[39m\u001b[39m{\u001b[39;00mk\u001b[39m}\u001b[39;00m\u001b[39m, N=\u001b[39m\u001b[39m{\u001b[39;00mN\u001b[39m}\u001b[39;00m\u001b[39m, model=\u001b[39m\u001b[39m{\u001b[39;00mmodel\u001b[39m}\u001b[39;00m\u001b[39m\"\u001b[39m, end\u001b[39m=\u001b[39m\u001b[39m\"\u001b[39m\u001b[39m \u001b[39m\u001b[39m\"\u001b[39m)\n\u001b[1;32m----> 7\u001b[0m   y, yhat \u001b[39m=\u001b[39m run_C2_GPR_ablation(train_data[:N], test_data, model\u001b[39m=\u001b[39;49mmodel, T\u001b[39m=\u001b[39;49mT, N\u001b[39m=\u001b[39;49mN, k\u001b[39m=\u001b[39;49mk)\n\u001b[0;32m      8\u001b[0m   \u001b[39mprint\u001b[39m(\u001b[39m\"\u001b[39m\u001b[39m --> done\u001b[39m\u001b[39m\"\u001b[39m)\n",
      "Cell \u001b[1;32mIn[8], line 18\u001b[0m, in \u001b[0;36mrun_C2_GPR_ablation\u001b[1;34m(train_data, test_data, model, T, N, k)\u001b[0m\n\u001b[0;32m      2\u001b[0m asktell \u001b[39m=\u001b[39m bolift\u001b[39m.\u001b[39mAskTellGPR(\n\u001b[0;32m      3\u001b[0m     prefix\u001b[39m=\u001b[39m\u001b[39m\"\u001b[39m\u001b[39mThe following question should be answered with a number\u001b[39m\u001b[39m\\n\u001b[39;00m\u001b[39m\"\u001b[39m,\n\u001b[0;32m      4\u001b[0m     prompt_template\u001b[39m=\u001b[39mPromptTemplate(\n\u001b[1;32m   (...)\u001b[0m\n\u001b[0;32m     15\u001b[0m     cache_path\u001b[39m=\u001b[39m\u001b[39m\"\u001b[39m\u001b[39mGPR_ada_embed_cache.csv\u001b[39m\u001b[39m\"\u001b[39m\n\u001b[0;32m     16\u001b[0m )\n\u001b[0;32m     17\u001b[0m exp_train_data \u001b[39m=\u001b[39m train_data[:N]\n\u001b[1;32m---> 18\u001b[0m x, y, yhat \u001b[39m=\u001b[39m  run_ablation_experiment(asktell, exp_train_data, test_data)\n\u001b[0;32m     20\u001b[0m data\u001b[39m=\u001b[39m\u001b[39m\"\u001b[39m\u001b[39mC2\u001b[39m\u001b[39m\"\u001b[39m\n\u001b[0;32m     21\u001b[0m model_class\u001b[39m=\u001b[39m\u001b[39m\"\u001b[39m\u001b[39mGPR\u001b[39m\u001b[39m\"\u001b[39m\n",
      "File \u001b[1;32m~\\AppData\\Local\\Packages\\PythonSoftwareFoundation.Python.3.11_qbz5n2kfra8p0\\LocalCache\\local-packages\\Python311\\site-packages\\tenacity\\__init__.py:289\u001b[0m, in \u001b[0;36mBaseRetrying.wraps.<locals>.wrapped_f\u001b[1;34m(*args, **kw)\u001b[0m\n\u001b[0;32m    287\u001b[0m \u001b[39m@functools\u001b[39m\u001b[39m.\u001b[39mwraps(f)\n\u001b[0;32m    288\u001b[0m \u001b[39mdef\u001b[39;00m \u001b[39mwrapped_f\u001b[39m(\u001b[39m*\u001b[39margs: t\u001b[39m.\u001b[39mAny, \u001b[39m*\u001b[39m\u001b[39m*\u001b[39mkw: t\u001b[39m.\u001b[39mAny) \u001b[39m-\u001b[39m\u001b[39m>\u001b[39m t\u001b[39m.\u001b[39mAny:\n\u001b[1;32m--> 289\u001b[0m     \u001b[39mreturn\u001b[39;00m \u001b[39mself\u001b[39;49m(f, \u001b[39m*\u001b[39;49margs, \u001b[39m*\u001b[39;49m\u001b[39m*\u001b[39;49mkw)\n",
      "File \u001b[1;32m~\\AppData\\Local\\Packages\\PythonSoftwareFoundation.Python.3.11_qbz5n2kfra8p0\\LocalCache\\local-packages\\Python311\\site-packages\\tenacity\\__init__.py:379\u001b[0m, in \u001b[0;36mRetrying.__call__\u001b[1;34m(self, fn, *args, **kwargs)\u001b[0m\n\u001b[0;32m    377\u001b[0m retry_state \u001b[39m=\u001b[39m RetryCallState(retry_object\u001b[39m=\u001b[39m\u001b[39mself\u001b[39m, fn\u001b[39m=\u001b[39mfn, args\u001b[39m=\u001b[39margs, kwargs\u001b[39m=\u001b[39mkwargs)\n\u001b[0;32m    378\u001b[0m \u001b[39mwhile\u001b[39;00m \u001b[39mTrue\u001b[39;00m:\n\u001b[1;32m--> 379\u001b[0m     do \u001b[39m=\u001b[39m \u001b[39mself\u001b[39;49m\u001b[39m.\u001b[39;49miter(retry_state\u001b[39m=\u001b[39;49mretry_state)\n\u001b[0;32m    380\u001b[0m     \u001b[39mif\u001b[39;00m \u001b[39misinstance\u001b[39m(do, DoAttempt):\n\u001b[0;32m    381\u001b[0m         \u001b[39mtry\u001b[39;00m:\n",
      "File \u001b[1;32m~\\AppData\\Local\\Packages\\PythonSoftwareFoundation.Python.3.11_qbz5n2kfra8p0\\LocalCache\\local-packages\\Python311\\site-packages\\tenacity\\__init__.py:314\u001b[0m, in \u001b[0;36mBaseRetrying.iter\u001b[1;34m(self, retry_state)\u001b[0m\n\u001b[0;32m    312\u001b[0m is_explicit_retry \u001b[39m=\u001b[39m fut\u001b[39m.\u001b[39mfailed \u001b[39mand\u001b[39;00m \u001b[39misinstance\u001b[39m(fut\u001b[39m.\u001b[39mexception(), TryAgain)\n\u001b[0;32m    313\u001b[0m \u001b[39mif\u001b[39;00m \u001b[39mnot\u001b[39;00m (is_explicit_retry \u001b[39mor\u001b[39;00m \u001b[39mself\u001b[39m\u001b[39m.\u001b[39mretry(retry_state)):\n\u001b[1;32m--> 314\u001b[0m     \u001b[39mreturn\u001b[39;00m fut\u001b[39m.\u001b[39;49mresult()\n\u001b[0;32m    316\u001b[0m \u001b[39mif\u001b[39;00m \u001b[39mself\u001b[39m\u001b[39m.\u001b[39mafter \u001b[39mis\u001b[39;00m \u001b[39mnot\u001b[39;00m \u001b[39mNone\u001b[39;00m:\n\u001b[0;32m    317\u001b[0m     \u001b[39mself\u001b[39m\u001b[39m.\u001b[39mafter(retry_state)\n",
      "File \u001b[1;32mC:\\Program Files\\WindowsApps\\PythonSoftwareFoundation.Python.3.11_3.11.752.0_x64__qbz5n2kfra8p0\\Lib\\concurrent\\futures\\_base.py:449\u001b[0m, in \u001b[0;36mFuture.result\u001b[1;34m(self, timeout)\u001b[0m\n\u001b[0;32m    447\u001b[0m     \u001b[39mraise\u001b[39;00m CancelledError()\n\u001b[0;32m    448\u001b[0m \u001b[39melif\u001b[39;00m \u001b[39mself\u001b[39m\u001b[39m.\u001b[39m_state \u001b[39m==\u001b[39m FINISHED:\n\u001b[1;32m--> 449\u001b[0m     \u001b[39mreturn\u001b[39;00m \u001b[39mself\u001b[39;49m\u001b[39m.\u001b[39;49m__get_result()\n\u001b[0;32m    451\u001b[0m \u001b[39mself\u001b[39m\u001b[39m.\u001b[39m_condition\u001b[39m.\u001b[39mwait(timeout)\n\u001b[0;32m    453\u001b[0m \u001b[39mif\u001b[39;00m \u001b[39mself\u001b[39m\u001b[39m.\u001b[39m_state \u001b[39min\u001b[39;00m [CANCELLED, CANCELLED_AND_NOTIFIED]:\n",
      "File \u001b[1;32mC:\\Program Files\\WindowsApps\\PythonSoftwareFoundation.Python.3.11_3.11.752.0_x64__qbz5n2kfra8p0\\Lib\\concurrent\\futures\\_base.py:401\u001b[0m, in \u001b[0;36mFuture.__get_result\u001b[1;34m(self)\u001b[0m\n\u001b[0;32m    399\u001b[0m \u001b[39mif\u001b[39;00m \u001b[39mself\u001b[39m\u001b[39m.\u001b[39m_exception:\n\u001b[0;32m    400\u001b[0m     \u001b[39mtry\u001b[39;00m:\n\u001b[1;32m--> 401\u001b[0m         \u001b[39mraise\u001b[39;00m \u001b[39mself\u001b[39m\u001b[39m.\u001b[39m_exception\n\u001b[0;32m    402\u001b[0m     \u001b[39mfinally\u001b[39;00m:\n\u001b[0;32m    403\u001b[0m         \u001b[39m# Break a reference cycle with the exception in self._exception\u001b[39;00m\n\u001b[0;32m    404\u001b[0m         \u001b[39mself\u001b[39m \u001b[39m=\u001b[39m \u001b[39mNone\u001b[39;00m\n",
      "File \u001b[1;32m~\\AppData\\Local\\Packages\\PythonSoftwareFoundation.Python.3.11_qbz5n2kfra8p0\\LocalCache\\local-packages\\Python311\\site-packages\\tenacity\\__init__.py:382\u001b[0m, in \u001b[0;36mRetrying.__call__\u001b[1;34m(self, fn, *args, **kwargs)\u001b[0m\n\u001b[0;32m    380\u001b[0m \u001b[39mif\u001b[39;00m \u001b[39misinstance\u001b[39m(do, DoAttempt):\n\u001b[0;32m    381\u001b[0m     \u001b[39mtry\u001b[39;00m:\n\u001b[1;32m--> 382\u001b[0m         result \u001b[39m=\u001b[39m fn(\u001b[39m*\u001b[39;49margs, \u001b[39m*\u001b[39;49m\u001b[39m*\u001b[39;49mkwargs)\n\u001b[0;32m    383\u001b[0m     \u001b[39mexcept\u001b[39;00m \u001b[39mBaseException\u001b[39;00m:  \u001b[39m# noqa: B902\u001b[39;00m\n\u001b[0;32m    384\u001b[0m         retry_state\u001b[39m.\u001b[39mset_exception(sys\u001b[39m.\u001b[39mexc_info())  \u001b[39m# type: ignore[arg-type]\u001b[39;00m\n",
      "Cell \u001b[1;32mIn[11], line 9\u001b[0m, in \u001b[0;36mrun_ablation_experiment\u001b[1;34m(asktell, train_data, test_data)\u001b[0m\n\u001b[0;32m      6\u001b[0m \u001b[39m@retry\u001b[39m(wait\u001b[39m=\u001b[39mwait_random_exponential(\u001b[39mmin\u001b[39m\u001b[39m=\u001b[39m\u001b[39m1\u001b[39m, \u001b[39mmax\u001b[39m\u001b[39m=\u001b[39m\u001b[39m60\u001b[39m), stop\u001b[39m=\u001b[39mstop_after_attempt(\u001b[39m6\u001b[39m))\n\u001b[0;32m      7\u001b[0m \u001b[39mdef\u001b[39;00m \u001b[39mrun_ablation_experiment\u001b[39m(asktell, train_data, test_data):\n\u001b[0;32m      8\u001b[0m     \u001b[39mfor\u001b[39;00m i \u001b[39min\u001b[39;00m \u001b[39mrange\u001b[39m(\u001b[39mlen\u001b[39m(train_data)):\n\u001b[1;32m----> 9\u001b[0m         asktell\u001b[39m.\u001b[39;49mtell(train_data\u001b[39m.\u001b[39;49miloc[i, \u001b[39m0\u001b[39;49m], \u001b[39mfloat\u001b[39;49m(train_data\u001b[39m.\u001b[39;49miloc[i, \u001b[39m1\u001b[39;49m]))\n\u001b[0;32m     10\u001b[0m     x    \u001b[39m=\u001b[39m []\n\u001b[0;32m     11\u001b[0m     y    \u001b[39m=\u001b[39m []\n",
      "File \u001b[1;32m\\\\wsl$\\Ubuntu-20.04\\home\\maykcaldas\\Documents\\WhiteLab\\BO-LIFT\\bolift\\asktellGPR.py:139\u001b[0m, in \u001b[0;36mAskTellGPR.tell\u001b[1;34m(self, x, y, alt_ys)\u001b[0m\n\u001b[0;32m    135\u001b[0m     \u001b[39mself\u001b[39m\u001b[39m.\u001b[39m_ready \u001b[39m=\u001b[39m \u001b[39mTrue\u001b[39;00m\n\u001b[0;32m    137\u001b[0m \u001b[39mself\u001b[39m\u001b[39m.\u001b[39mexamples\u001b[39m.\u001b[39mappend(example_dict)\n\u001b[1;32m--> 139\u001b[0m \u001b[39mself\u001b[39;49m\u001b[39m.\u001b[39;49m_train(\n\u001b[0;32m    140\u001b[0m     [\u001b[39mself\u001b[39;49m\u001b[39m.\u001b[39;49mprompt\u001b[39m.\u001b[39;49mformat(\n\u001b[0;32m    141\u001b[0m         x\u001b[39m=\u001b[39;49mex[\u001b[39m\"\u001b[39;49m\u001b[39mx\u001b[39;49m\u001b[39m\"\u001b[39;49m],\n\u001b[0;32m    142\u001b[0m         y_name\u001b[39m=\u001b[39;49m\u001b[39mself\u001b[39;49m\u001b[39m.\u001b[39;49m_y_name,\n\u001b[0;32m    143\u001b[0m         )\n\u001b[0;32m    144\u001b[0m      \u001b[39mfor\u001b[39;49;00m ex \u001b[39min\u001b[39;49;00m \u001b[39mself\u001b[39;49m\u001b[39m.\u001b[39;49mexamples\n\u001b[0;32m    145\u001b[0m     ], \n\u001b[0;32m    146\u001b[0m     [ex[\u001b[39m\"\u001b[39;49m\u001b[39my\u001b[39;49m\u001b[39m\"\u001b[39;49m] \u001b[39mfor\u001b[39;49;00m ex \u001b[39min\u001b[39;49;00m \u001b[39mself\u001b[39;49m\u001b[39m.\u001b[39;49mexamples]\n\u001b[0;32m    147\u001b[0m )\n",
      "File \u001b[1;32m\\\\wsl$\\Ubuntu-20.04\\home\\maykcaldas\\Documents\\WhiteLab\\BO-LIFT\\bolift\\asktellGPR.py:109\u001b[0m, in \u001b[0;36mAskTellGPR._train\u001b[1;34m(self, X, y)\u001b[0m\n\u001b[0;32m    107\u001b[0m embedding\u001b[39m=\u001b[39m\u001b[39mself\u001b[39m\u001b[39m.\u001b[39m_query_cache(X)\n\u001b[0;32m    108\u001b[0m \u001b[39m# embedding = np.array(self._embedding.embed_documents(X, 250))\u001b[39;00m\n\u001b[1;32m--> 109\u001b[0m \u001b[39mself\u001b[39;49m\u001b[39m.\u001b[39;49mregressor\u001b[39m.\u001b[39;49mfit(embedding, \u001b[39mlist\u001b[39;49m(\u001b[39mmap\u001b[39;49m(\u001b[39mfloat\u001b[39;49m, y)))\n",
      "File \u001b[1;32m~\\AppData\\Local\\Packages\\PythonSoftwareFoundation.Python.3.11_qbz5n2kfra8p0\\LocalCache\\local-packages\\Python311\\site-packages\\sklearn\\gaussian_process\\_gpr.py:304\u001b[0m, in \u001b[0;36mGaussianProcessRegressor.fit\u001b[1;34m(self, X, y)\u001b[0m\n\u001b[0;32m    301\u001b[0m     \u001b[39mfor\u001b[39;00m iteration \u001b[39min\u001b[39;00m \u001b[39mrange\u001b[39m(\u001b[39mself\u001b[39m\u001b[39m.\u001b[39mn_restarts_optimizer):\n\u001b[0;32m    302\u001b[0m         theta_initial \u001b[39m=\u001b[39m \u001b[39mself\u001b[39m\u001b[39m.\u001b[39m_rng\u001b[39m.\u001b[39muniform(bounds[:, \u001b[39m0\u001b[39m], bounds[:, \u001b[39m1\u001b[39m])\n\u001b[0;32m    303\u001b[0m         optima\u001b[39m.\u001b[39mappend(\n\u001b[1;32m--> 304\u001b[0m             \u001b[39mself\u001b[39;49m\u001b[39m.\u001b[39;49m_constrained_optimization(obj_func, theta_initial, bounds)\n\u001b[0;32m    305\u001b[0m         )\n\u001b[0;32m    306\u001b[0m \u001b[39m# Select result from run with minimal (negative) log-marginal\u001b[39;00m\n\u001b[0;32m    307\u001b[0m \u001b[39m# likelihood\u001b[39;00m\n\u001b[0;32m    308\u001b[0m lml_values \u001b[39m=\u001b[39m \u001b[39mlist\u001b[39m(\u001b[39mmap\u001b[39m(itemgetter(\u001b[39m1\u001b[39m), optima))\n",
      "File \u001b[1;32m~\\AppData\\Local\\Packages\\PythonSoftwareFoundation.Python.3.11_qbz5n2kfra8p0\\LocalCache\\local-packages\\Python311\\site-packages\\sklearn\\gaussian_process\\_gpr.py:622\u001b[0m, in \u001b[0;36mGaussianProcessRegressor._constrained_optimization\u001b[1;34m(self, obj_func, initial_theta, bounds)\u001b[0m\n\u001b[0;32m    620\u001b[0m \u001b[39mdef\u001b[39;00m \u001b[39m_constrained_optimization\u001b[39m(\u001b[39mself\u001b[39m, obj_func, initial_theta, bounds):\n\u001b[0;32m    621\u001b[0m     \u001b[39mif\u001b[39;00m \u001b[39mself\u001b[39m\u001b[39m.\u001b[39moptimizer \u001b[39m==\u001b[39m \u001b[39m\"\u001b[39m\u001b[39mfmin_l_bfgs_b\u001b[39m\u001b[39m\"\u001b[39m:\n\u001b[1;32m--> 622\u001b[0m         opt_res \u001b[39m=\u001b[39m scipy\u001b[39m.\u001b[39;49moptimize\u001b[39m.\u001b[39;49mminimize(\n\u001b[0;32m    623\u001b[0m             obj_func,\n\u001b[0;32m    624\u001b[0m             initial_theta,\n\u001b[0;32m    625\u001b[0m             method\u001b[39m=\u001b[39;49m\u001b[39m\"\u001b[39;49m\u001b[39mL-BFGS-B\u001b[39;49m\u001b[39m\"\u001b[39;49m,\n\u001b[0;32m    626\u001b[0m             jac\u001b[39m=\u001b[39;49m\u001b[39mTrue\u001b[39;49;00m,\n\u001b[0;32m    627\u001b[0m             bounds\u001b[39m=\u001b[39;49mbounds,\n\u001b[0;32m    628\u001b[0m         )\n\u001b[0;32m    629\u001b[0m         _check_optimize_result(\u001b[39m\"\u001b[39m\u001b[39mlbfgs\u001b[39m\u001b[39m\"\u001b[39m, opt_res)\n\u001b[0;32m    630\u001b[0m         theta_opt, func_min \u001b[39m=\u001b[39m opt_res\u001b[39m.\u001b[39mx, opt_res\u001b[39m.\u001b[39mfun\n",
      "File \u001b[1;32m~\\AppData\\Local\\Packages\\PythonSoftwareFoundation.Python.3.11_qbz5n2kfra8p0\\LocalCache\\local-packages\\Python311\\site-packages\\scipy\\optimize\\_minimize.py:696\u001b[0m, in \u001b[0;36mminimize\u001b[1;34m(fun, x0, args, method, jac, hess, hessp, bounds, constraints, tol, callback, options)\u001b[0m\n\u001b[0;32m    693\u001b[0m     res \u001b[39m=\u001b[39m _minimize_newtoncg(fun, x0, args, jac, hess, hessp, callback,\n\u001b[0;32m    694\u001b[0m                              \u001b[39m*\u001b[39m\u001b[39m*\u001b[39moptions)\n\u001b[0;32m    695\u001b[0m \u001b[39melif\u001b[39;00m meth \u001b[39m==\u001b[39m \u001b[39m'\u001b[39m\u001b[39ml-bfgs-b\u001b[39m\u001b[39m'\u001b[39m:\n\u001b[1;32m--> 696\u001b[0m     res \u001b[39m=\u001b[39m _minimize_lbfgsb(fun, x0, args, jac, bounds,\n\u001b[0;32m    697\u001b[0m                            callback\u001b[39m=\u001b[39;49mcallback, \u001b[39m*\u001b[39;49m\u001b[39m*\u001b[39;49moptions)\n\u001b[0;32m    698\u001b[0m \u001b[39melif\u001b[39;00m meth \u001b[39m==\u001b[39m \u001b[39m'\u001b[39m\u001b[39mtnc\u001b[39m\u001b[39m'\u001b[39m:\n\u001b[0;32m    699\u001b[0m     res \u001b[39m=\u001b[39m _minimize_tnc(fun, x0, args, jac, bounds, callback\u001b[39m=\u001b[39mcallback,\n\u001b[0;32m    700\u001b[0m                         \u001b[39m*\u001b[39m\u001b[39m*\u001b[39moptions)\n",
      "File \u001b[1;32m~\\AppData\\Local\\Packages\\PythonSoftwareFoundation.Python.3.11_qbz5n2kfra8p0\\LocalCache\\local-packages\\Python311\\site-packages\\scipy\\optimize\\_lbfgsb_py.py:305\u001b[0m, in \u001b[0;36m_minimize_lbfgsb\u001b[1;34m(fun, x0, args, jac, bounds, disp, maxcor, ftol, gtol, eps, maxfun, maxiter, iprint, callback, maxls, finite_diff_rel_step, **unknown_options)\u001b[0m\n\u001b[0;32m    302\u001b[0m     \u001b[39melse\u001b[39;00m:\n\u001b[0;32m    303\u001b[0m         iprint \u001b[39m=\u001b[39m disp\n\u001b[1;32m--> 305\u001b[0m sf \u001b[39m=\u001b[39m _prepare_scalar_function(fun, x0, jac\u001b[39m=\u001b[39;49mjac, args\u001b[39m=\u001b[39;49margs, epsilon\u001b[39m=\u001b[39;49meps,\n\u001b[0;32m    306\u001b[0m                               bounds\u001b[39m=\u001b[39;49mnew_bounds,\n\u001b[0;32m    307\u001b[0m                               finite_diff_rel_step\u001b[39m=\u001b[39;49mfinite_diff_rel_step)\n\u001b[0;32m    309\u001b[0m func_and_grad \u001b[39m=\u001b[39m sf\u001b[39m.\u001b[39mfun_and_grad\n\u001b[0;32m    311\u001b[0m fortran_int \u001b[39m=\u001b[39m _lbfgsb\u001b[39m.\u001b[39mtypes\u001b[39m.\u001b[39mintvar\u001b[39m.\u001b[39mdtype\n",
      "File \u001b[1;32m~\\AppData\\Local\\Packages\\PythonSoftwareFoundation.Python.3.11_qbz5n2kfra8p0\\LocalCache\\local-packages\\Python311\\site-packages\\scipy\\optimize\\_optimize.py:332\u001b[0m, in \u001b[0;36m_prepare_scalar_function\u001b[1;34m(fun, x0, jac, args, bounds, epsilon, finite_diff_rel_step, hess)\u001b[0m\n\u001b[0;32m    328\u001b[0m     bounds \u001b[39m=\u001b[39m (\u001b[39m-\u001b[39mnp\u001b[39m.\u001b[39minf, np\u001b[39m.\u001b[39minf)\n\u001b[0;32m    330\u001b[0m \u001b[39m# ScalarFunction caches. Reuse of fun(x) during grad\u001b[39;00m\n\u001b[0;32m    331\u001b[0m \u001b[39m# calculation reduces overall function evaluations.\u001b[39;00m\n\u001b[1;32m--> 332\u001b[0m sf \u001b[39m=\u001b[39m ScalarFunction(fun, x0, args, grad, hess,\n\u001b[0;32m    333\u001b[0m                     finite_diff_rel_step, bounds, epsilon\u001b[39m=\u001b[39;49mepsilon)\n\u001b[0;32m    335\u001b[0m \u001b[39mreturn\u001b[39;00m sf\n",
      "File \u001b[1;32m~\\AppData\\Local\\Packages\\PythonSoftwareFoundation.Python.3.11_qbz5n2kfra8p0\\LocalCache\\local-packages\\Python311\\site-packages\\scipy\\optimize\\_differentiable_functions.py:158\u001b[0m, in \u001b[0;36mScalarFunction.__init__\u001b[1;34m(self, fun, x0, args, grad, hess, finite_diff_rel_step, finite_diff_bounds, epsilon)\u001b[0m\n\u001b[0;32m    155\u001b[0m     \u001b[39mself\u001b[39m\u001b[39m.\u001b[39mf \u001b[39m=\u001b[39m fun_wrapped(\u001b[39mself\u001b[39m\u001b[39m.\u001b[39mx)\n\u001b[0;32m    157\u001b[0m \u001b[39mself\u001b[39m\u001b[39m.\u001b[39m_update_fun_impl \u001b[39m=\u001b[39m update_fun\n\u001b[1;32m--> 158\u001b[0m \u001b[39mself\u001b[39;49m\u001b[39m.\u001b[39;49m_update_fun()\n\u001b[0;32m    160\u001b[0m \u001b[39m# Gradient evaluation\u001b[39;00m\n\u001b[0;32m    161\u001b[0m \u001b[39mif\u001b[39;00m callable(grad):\n",
      "File \u001b[1;32m~\\AppData\\Local\\Packages\\PythonSoftwareFoundation.Python.3.11_qbz5n2kfra8p0\\LocalCache\\local-packages\\Python311\\site-packages\\scipy\\optimize\\_differentiable_functions.py:251\u001b[0m, in \u001b[0;36mScalarFunction._update_fun\u001b[1;34m(self)\u001b[0m\n\u001b[0;32m    249\u001b[0m \u001b[39mdef\u001b[39;00m \u001b[39m_update_fun\u001b[39m(\u001b[39mself\u001b[39m):\n\u001b[0;32m    250\u001b[0m     \u001b[39mif\u001b[39;00m \u001b[39mnot\u001b[39;00m \u001b[39mself\u001b[39m\u001b[39m.\u001b[39mf_updated:\n\u001b[1;32m--> 251\u001b[0m         \u001b[39mself\u001b[39;49m\u001b[39m.\u001b[39;49m_update_fun_impl()\n\u001b[0;32m    252\u001b[0m         \u001b[39mself\u001b[39m\u001b[39m.\u001b[39mf_updated \u001b[39m=\u001b[39m \u001b[39mTrue\u001b[39;00m\n",
      "File \u001b[1;32m~\\AppData\\Local\\Packages\\PythonSoftwareFoundation.Python.3.11_qbz5n2kfra8p0\\LocalCache\\local-packages\\Python311\\site-packages\\scipy\\optimize\\_differentiable_functions.py:155\u001b[0m, in \u001b[0;36mScalarFunction.__init__.<locals>.update_fun\u001b[1;34m()\u001b[0m\n\u001b[0;32m    154\u001b[0m \u001b[39mdef\u001b[39;00m \u001b[39mupdate_fun\u001b[39m():\n\u001b[1;32m--> 155\u001b[0m     \u001b[39mself\u001b[39m\u001b[39m.\u001b[39mf \u001b[39m=\u001b[39m fun_wrapped(\u001b[39mself\u001b[39;49m\u001b[39m.\u001b[39;49mx)\n",
      "File \u001b[1;32m~\\AppData\\Local\\Packages\\PythonSoftwareFoundation.Python.3.11_qbz5n2kfra8p0\\LocalCache\\local-packages\\Python311\\site-packages\\scipy\\optimize\\_differentiable_functions.py:137\u001b[0m, in \u001b[0;36mScalarFunction.__init__.<locals>.fun_wrapped\u001b[1;34m(x)\u001b[0m\n\u001b[0;32m    133\u001b[0m \u001b[39mself\u001b[39m\u001b[39m.\u001b[39mnfev \u001b[39m+\u001b[39m\u001b[39m=\u001b[39m \u001b[39m1\u001b[39m\n\u001b[0;32m    134\u001b[0m \u001b[39m# Send a copy because the user may overwrite it.\u001b[39;00m\n\u001b[0;32m    135\u001b[0m \u001b[39m# Overwriting results in undefined behaviour because\u001b[39;00m\n\u001b[0;32m    136\u001b[0m \u001b[39m# fun(self.x) will change self.x, with the two no longer linked.\u001b[39;00m\n\u001b[1;32m--> 137\u001b[0m fx \u001b[39m=\u001b[39m fun(np\u001b[39m.\u001b[39;49mcopy(x), \u001b[39m*\u001b[39;49margs)\n\u001b[0;32m    138\u001b[0m \u001b[39m# Make sure the function returns a true scalar\u001b[39;00m\n\u001b[0;32m    139\u001b[0m \u001b[39mif\u001b[39;00m \u001b[39mnot\u001b[39;00m np\u001b[39m.\u001b[39misscalar(fx):\n",
      "File \u001b[1;32m~\\AppData\\Local\\Packages\\PythonSoftwareFoundation.Python.3.11_qbz5n2kfra8p0\\LocalCache\\local-packages\\Python311\\site-packages\\scipy\\optimize\\_optimize.py:76\u001b[0m, in \u001b[0;36mMemoizeJac.__call__\u001b[1;34m(self, x, *args)\u001b[0m\n\u001b[0;32m     74\u001b[0m \u001b[39mdef\u001b[39;00m \u001b[39m__call__\u001b[39m(\u001b[39mself\u001b[39m, x, \u001b[39m*\u001b[39margs):\n\u001b[0;32m     75\u001b[0m \u001b[39m    \u001b[39m\u001b[39m\"\"\" returns the function value \"\"\"\u001b[39;00m\n\u001b[1;32m---> 76\u001b[0m     \u001b[39mself\u001b[39;49m\u001b[39m.\u001b[39;49m_compute_if_needed(x, \u001b[39m*\u001b[39;49margs)\n\u001b[0;32m     77\u001b[0m     \u001b[39mreturn\u001b[39;00m \u001b[39mself\u001b[39m\u001b[39m.\u001b[39m_value\n",
      "File \u001b[1;32m~\\AppData\\Local\\Packages\\PythonSoftwareFoundation.Python.3.11_qbz5n2kfra8p0\\LocalCache\\local-packages\\Python311\\site-packages\\scipy\\optimize\\_optimize.py:70\u001b[0m, in \u001b[0;36mMemoizeJac._compute_if_needed\u001b[1;34m(self, x, *args)\u001b[0m\n\u001b[0;32m     68\u001b[0m \u001b[39mif\u001b[39;00m \u001b[39mnot\u001b[39;00m np\u001b[39m.\u001b[39mall(x \u001b[39m==\u001b[39m \u001b[39mself\u001b[39m\u001b[39m.\u001b[39mx) \u001b[39mor\u001b[39;00m \u001b[39mself\u001b[39m\u001b[39m.\u001b[39m_value \u001b[39mis\u001b[39;00m \u001b[39mNone\u001b[39;00m \u001b[39mor\u001b[39;00m \u001b[39mself\u001b[39m\u001b[39m.\u001b[39mjac \u001b[39mis\u001b[39;00m \u001b[39mNone\u001b[39;00m:\n\u001b[0;32m     69\u001b[0m     \u001b[39mself\u001b[39m\u001b[39m.\u001b[39mx \u001b[39m=\u001b[39m np\u001b[39m.\u001b[39masarray(x)\u001b[39m.\u001b[39mcopy()\n\u001b[1;32m---> 70\u001b[0m     fg \u001b[39m=\u001b[39m \u001b[39mself\u001b[39;49m\u001b[39m.\u001b[39;49mfun(x, \u001b[39m*\u001b[39;49margs)\n\u001b[0;32m     71\u001b[0m     \u001b[39mself\u001b[39m\u001b[39m.\u001b[39mjac \u001b[39m=\u001b[39m fg[\u001b[39m1\u001b[39m]\n\u001b[0;32m     72\u001b[0m     \u001b[39mself\u001b[39m\u001b[39m.\u001b[39m_value \u001b[39m=\u001b[39m fg[\u001b[39m0\u001b[39m]\n",
      "File \u001b[1;32m~\\AppData\\Local\\Packages\\PythonSoftwareFoundation.Python.3.11_qbz5n2kfra8p0\\LocalCache\\local-packages\\Python311\\site-packages\\sklearn\\gaussian_process\\_gpr.py:276\u001b[0m, in \u001b[0;36mGaussianProcessRegressor.fit.<locals>.obj_func\u001b[1;34m(theta, eval_gradient)\u001b[0m\n\u001b[0;32m    274\u001b[0m \u001b[39mdef\u001b[39;00m \u001b[39mobj_func\u001b[39m(theta, eval_gradient\u001b[39m=\u001b[39m\u001b[39mTrue\u001b[39;00m):\n\u001b[0;32m    275\u001b[0m     \u001b[39mif\u001b[39;00m eval_gradient:\n\u001b[1;32m--> 276\u001b[0m         lml, grad \u001b[39m=\u001b[39m \u001b[39mself\u001b[39;49m\u001b[39m.\u001b[39;49mlog_marginal_likelihood(\n\u001b[0;32m    277\u001b[0m             theta, eval_gradient\u001b[39m=\u001b[39;49m\u001b[39mTrue\u001b[39;49;00m, clone_kernel\u001b[39m=\u001b[39;49m\u001b[39mFalse\u001b[39;49;00m\n\u001b[0;32m    278\u001b[0m         )\n\u001b[0;32m    279\u001b[0m         \u001b[39mreturn\u001b[39;00m \u001b[39m-\u001b[39mlml, \u001b[39m-\u001b[39mgrad\n\u001b[0;32m    280\u001b[0m     \u001b[39melse\u001b[39;00m:\n",
      "File \u001b[1;32m~\\AppData\\Local\\Packages\\PythonSoftwareFoundation.Python.3.11_qbz5n2kfra8p0\\LocalCache\\local-packages\\Python311\\site-packages\\sklearn\\gaussian_process\\_gpr.py:546\u001b[0m, in \u001b[0;36mGaussianProcessRegressor.log_marginal_likelihood\u001b[1;34m(self, theta, eval_gradient, clone_kernel)\u001b[0m\n\u001b[0;32m    543\u001b[0m     kernel\u001b[39m.\u001b[39mtheta \u001b[39m=\u001b[39m theta\n\u001b[0;32m    545\u001b[0m \u001b[39mif\u001b[39;00m eval_gradient:\n\u001b[1;32m--> 546\u001b[0m     K, K_gradient \u001b[39m=\u001b[39m kernel(\u001b[39mself\u001b[39;49m\u001b[39m.\u001b[39;49mX_train_, eval_gradient\u001b[39m=\u001b[39;49m\u001b[39mTrue\u001b[39;49;00m)\n\u001b[0;32m    547\u001b[0m \u001b[39melse\u001b[39;00m:\n\u001b[0;32m    548\u001b[0m     K \u001b[39m=\u001b[39m kernel(\u001b[39mself\u001b[39m\u001b[39m.\u001b[39mX_train_)\n",
      "File \u001b[1;32m~\\AppData\\Local\\Packages\\PythonSoftwareFoundation.Python.3.11_qbz5n2kfra8p0\\LocalCache\\local-packages\\Python311\\site-packages\\sklearn\\gaussian_process\\kernels.py:941\u001b[0m, in \u001b[0;36mProduct.__call__\u001b[1;34m(self, X, Y, eval_gradient)\u001b[0m\n\u001b[0;32m    939\u001b[0m \u001b[39mif\u001b[39;00m eval_gradient:\n\u001b[0;32m    940\u001b[0m     K1, K1_gradient \u001b[39m=\u001b[39m \u001b[39mself\u001b[39m\u001b[39m.\u001b[39mk1(X, Y, eval_gradient\u001b[39m=\u001b[39m\u001b[39mTrue\u001b[39;00m)\n\u001b[1;32m--> 941\u001b[0m     K2, K2_gradient \u001b[39m=\u001b[39m \u001b[39mself\u001b[39;49m\u001b[39m.\u001b[39;49mk2(X, Y, eval_gradient\u001b[39m=\u001b[39;49m\u001b[39mTrue\u001b[39;49;00m)\n\u001b[0;32m    942\u001b[0m     \u001b[39mreturn\u001b[39;00m K1 \u001b[39m*\u001b[39m K2, np\u001b[39m.\u001b[39mdstack(\n\u001b[0;32m    943\u001b[0m         (K1_gradient \u001b[39m*\u001b[39m K2[:, :, np\u001b[39m.\u001b[39mnewaxis], K2_gradient \u001b[39m*\u001b[39m K1[:, :, np\u001b[39m.\u001b[39mnewaxis])\n\u001b[0;32m    944\u001b[0m     )\n\u001b[0;32m    945\u001b[0m \u001b[39melse\u001b[39;00m:\n",
      "File \u001b[1;32m~\\AppData\\Local\\Packages\\PythonSoftwareFoundation.Python.3.11_qbz5n2kfra8p0\\LocalCache\\local-packages\\Python311\\site-packages\\sklearn\\gaussian_process\\kernels.py:2359\u001b[0m, in \u001b[0;36mPairwiseKernel.__call__\u001b[1;34m(self, X, Y, eval_gradient)\u001b[0m\n\u001b[0;32m   2349\u001b[0m         \u001b[39mdef\u001b[39;00m \u001b[39mf\u001b[39m(gamma):  \u001b[39m# helper function\u001b[39;00m\n\u001b[0;32m   2350\u001b[0m             \u001b[39mreturn\u001b[39;00m pairwise_kernels(\n\u001b[0;32m   2351\u001b[0m                 X,\n\u001b[0;32m   2352\u001b[0m                 Y,\n\u001b[1;32m   (...)\u001b[0m\n\u001b[0;32m   2356\u001b[0m                 \u001b[39m*\u001b[39m\u001b[39m*\u001b[39mpairwise_kernels_kwargs,\n\u001b[0;32m   2357\u001b[0m             )\n\u001b[1;32m-> 2359\u001b[0m         \u001b[39mreturn\u001b[39;00m K, _approx_fprime(\u001b[39mself\u001b[39;49m\u001b[39m.\u001b[39;49mtheta, f, \u001b[39m1e-10\u001b[39;49m)\n\u001b[0;32m   2360\u001b[0m \u001b[39melse\u001b[39;00m:\n\u001b[0;32m   2361\u001b[0m     \u001b[39mreturn\u001b[39;00m K\n",
      "File \u001b[1;32m~\\AppData\\Local\\Packages\\PythonSoftwareFoundation.Python.3.11_qbz5n2kfra8p0\\LocalCache\\local-packages\\Python311\\site-packages\\sklearn\\gaussian_process\\kernels.py:2219\u001b[0m, in \u001b[0;36m_approx_fprime\u001b[1;34m(xk, f, epsilon, args)\u001b[0m\n\u001b[0;32m   2218\u001b[0m \u001b[39mdef\u001b[39;00m \u001b[39m_approx_fprime\u001b[39m(xk, f, epsilon, args\u001b[39m=\u001b[39m()):\n\u001b[1;32m-> 2219\u001b[0m     f0 \u001b[39m=\u001b[39m f(\u001b[39m*\u001b[39;49m((xk,) \u001b[39m+\u001b[39;49m args))\n\u001b[0;32m   2220\u001b[0m     grad \u001b[39m=\u001b[39m np\u001b[39m.\u001b[39mzeros((f0\u001b[39m.\u001b[39mshape[\u001b[39m0\u001b[39m], f0\u001b[39m.\u001b[39mshape[\u001b[39m1\u001b[39m], \u001b[39mlen\u001b[39m(xk)), \u001b[39mfloat\u001b[39m)\n\u001b[0;32m   2221\u001b[0m     ei \u001b[39m=\u001b[39m np\u001b[39m.\u001b[39mzeros((\u001b[39mlen\u001b[39m(xk),), \u001b[39mfloat\u001b[39m)\n",
      "File \u001b[1;32m~\\AppData\\Local\\Packages\\PythonSoftwareFoundation.Python.3.11_qbz5n2kfra8p0\\LocalCache\\local-packages\\Python311\\site-packages\\sklearn\\gaussian_process\\kernels.py:2350\u001b[0m, in \u001b[0;36mPairwiseKernel.__call__.<locals>.f\u001b[1;34m(gamma)\u001b[0m\n\u001b[0;32m   2349\u001b[0m \u001b[39mdef\u001b[39;00m \u001b[39mf\u001b[39m(gamma):  \u001b[39m# helper function\u001b[39;00m\n\u001b[1;32m-> 2350\u001b[0m     \u001b[39mreturn\u001b[39;00m pairwise_kernels(\n\u001b[0;32m   2351\u001b[0m         X,\n\u001b[0;32m   2352\u001b[0m         Y,\n\u001b[0;32m   2353\u001b[0m         metric\u001b[39m=\u001b[39;49m\u001b[39mself\u001b[39;49m\u001b[39m.\u001b[39;49mmetric,\n\u001b[0;32m   2354\u001b[0m         gamma\u001b[39m=\u001b[39;49mnp\u001b[39m.\u001b[39;49mexp(gamma),\n\u001b[0;32m   2355\u001b[0m         filter_params\u001b[39m=\u001b[39;49m\u001b[39mTrue\u001b[39;49;00m,\n\u001b[0;32m   2356\u001b[0m         \u001b[39m*\u001b[39;49m\u001b[39m*\u001b[39;49mpairwise_kernels_kwargs,\n\u001b[0;32m   2357\u001b[0m     )\n",
      "File \u001b[1;32m~\\AppData\\Local\\Packages\\PythonSoftwareFoundation.Python.3.11_qbz5n2kfra8p0\\LocalCache\\local-packages\\Python311\\site-packages\\sklearn\\metrics\\pairwise.py:2205\u001b[0m, in \u001b[0;36mpairwise_kernels\u001b[1;34m(X, Y, metric, filter_params, n_jobs, **kwds)\u001b[0m\n\u001b[0;32m   2202\u001b[0m \u001b[39melse\u001b[39;00m:\n\u001b[0;32m   2203\u001b[0m     \u001b[39mraise\u001b[39;00m \u001b[39mValueError\u001b[39;00m(\u001b[39m\"\u001b[39m\u001b[39mUnknown kernel \u001b[39m\u001b[39m%r\u001b[39;00m\u001b[39m\"\u001b[39m \u001b[39m%\u001b[39m metric)\n\u001b[1;32m-> 2205\u001b[0m \u001b[39mreturn\u001b[39;00m _parallel_pairwise(X, Y, func, n_jobs, \u001b[39m*\u001b[39;49m\u001b[39m*\u001b[39;49mkwds)\n",
      "File \u001b[1;32m~\\AppData\\Local\\Packages\\PythonSoftwareFoundation.Python.3.11_qbz5n2kfra8p0\\LocalCache\\local-packages\\Python311\\site-packages\\sklearn\\metrics\\pairwise.py:1579\u001b[0m, in \u001b[0;36m_parallel_pairwise\u001b[1;34m(X, Y, func, n_jobs, **kwds)\u001b[0m\n\u001b[0;32m   1576\u001b[0m X, Y, dtype \u001b[39m=\u001b[39m _return_float_dtype(X, Y)\n\u001b[0;32m   1578\u001b[0m \u001b[39mif\u001b[39;00m effective_n_jobs(n_jobs) \u001b[39m==\u001b[39m \u001b[39m1\u001b[39m:\n\u001b[1;32m-> 1579\u001b[0m     \u001b[39mreturn\u001b[39;00m func(X, Y, \u001b[39m*\u001b[39;49m\u001b[39m*\u001b[39;49mkwds)\n\u001b[0;32m   1581\u001b[0m \u001b[39m# enforce a threading backend to prevent data communication overhead\u001b[39;00m\n\u001b[0;32m   1582\u001b[0m fd \u001b[39m=\u001b[39m delayed(_dist_wrapper)\n",
      "File \u001b[1;32m~\\AppData\\Local\\Packages\\PythonSoftwareFoundation.Python.3.11_qbz5n2kfra8p0\\LocalCache\\local-packages\\Python311\\site-packages\\sklearn\\metrics\\pairwise.py:1606\u001b[0m, in \u001b[0;36m_pairwise_callable\u001b[1;34m(X, Y, metric, force_all_finite, **kwds)\u001b[0m\n\u001b[0;32m   1604\u001b[0m iterator \u001b[39m=\u001b[39m itertools\u001b[39m.\u001b[39mcombinations(\u001b[39mrange\u001b[39m(X\u001b[39m.\u001b[39mshape[\u001b[39m0\u001b[39m]), \u001b[39m2\u001b[39m)\n\u001b[0;32m   1605\u001b[0m \u001b[39mfor\u001b[39;00m i, j \u001b[39min\u001b[39;00m iterator:\n\u001b[1;32m-> 1606\u001b[0m     out[i, j] \u001b[39m=\u001b[39m metric(X[i], Y[j], \u001b[39m*\u001b[39;49m\u001b[39m*\u001b[39;49mkwds)\n\u001b[0;32m   1608\u001b[0m \u001b[39m# Make symmetric\u001b[39;00m\n\u001b[0;32m   1609\u001b[0m \u001b[39m# NB: out += out.T will produce incorrect results\u001b[39;00m\n\u001b[0;32m   1610\u001b[0m out \u001b[39m=\u001b[39m out \u001b[39m+\u001b[39m out\u001b[39m.\u001b[39mT\n",
      "File \u001b[1;32m\\\\wsl$\\Ubuntu-20.04\\home\\maykcaldas\\Documents\\WhiteLab\\BO-LIFT\\bolift\\asktellGPR.py:17\u001b[0m, in \u001b[0;36mcosine_similarity\u001b[1;34m(X, Y, dense_output, gamma)\u001b[0m\n\u001b[0;32m     15\u001b[0m X \u001b[39m=\u001b[39m X\u001b[39m.\u001b[39mreshape(\u001b[39m1\u001b[39m, \u001b[39m-\u001b[39m\u001b[39m1\u001b[39m)\n\u001b[0;32m     16\u001b[0m Y \u001b[39m=\u001b[39m Y\u001b[39m.\u001b[39mreshape(\u001b[39m1\u001b[39m, \u001b[39m-\u001b[39m\u001b[39m1\u001b[39m)\n\u001b[1;32m---> 17\u001b[0m dot \u001b[39m=\u001b[39m np\u001b[39m.\u001b[39;49mdot(X, Y\u001b[39m.\u001b[39;49mT)\n\u001b[0;32m     18\u001b[0m norms_X \u001b[39m=\u001b[39m np\u001b[39m.\u001b[39mlinalg\u001b[39m.\u001b[39mnorm(X, axis\u001b[39m=\u001b[39m\u001b[39m1\u001b[39m)\u001b[39m.\u001b[39mreshape(\u001b[39m-\u001b[39m\u001b[39m1\u001b[39m, \u001b[39m1\u001b[39m)\n\u001b[0;32m     19\u001b[0m norms_Y \u001b[39m=\u001b[39m np\u001b[39m.\u001b[39mlinalg\u001b[39m.\u001b[39mnorm(Y, axis\u001b[39m=\u001b[39m\u001b[39m1\u001b[39m)\u001b[39m.\u001b[39mreshape(\u001b[39m1\u001b[39m, \u001b[39m-\u001b[39m\u001b[39m1\u001b[39m)\n",
      "File \u001b[1;32m<__array_function__ internals>:200\u001b[0m, in \u001b[0;36mdot\u001b[1;34m(*args, **kwargs)\u001b[0m\n",
      "\u001b[1;31mKeyboardInterrupt\u001b[0m: "
     ]
    }
   ],
   "source": [
    "\n",
    "T_list = [0.05]\n",
    "k_list = [5]\n",
    "N_list = [500,1000]\n",
    "models_list = [\"text-ada-001\"]\n",
    "for T, k, N, model in itertools.product(T_list, k_list, N_list, models_list):\n",
    "  print(f\"Running C2 GPT ablation with T={T}, k={k}, N={N}, model={model}\", end=\" \")\n",
    "  y, yhat = run_C2_GPR_ablation(train_data[:N], test_data, model=model, T=T, N=N, k=k)\n",
    "  print(\" --> done\")\n"
   ]
  },
  {
   "attachments": {},
   "cell_type": "markdown",
   "metadata": {},
   "source": [
    "### Finetune"
   ]
  },
  {
   "cell_type": "code",
   "execution_count": 5,
   "metadata": {},
   "outputs": [],
   "source": [
    "def run_C2_finetune(train_data, model=\"text-ada-001\", N=50):\n",
    "    asktell = bolift.AskTellFinetuning(\n",
    "        prefix=\"\",\n",
    "        prompt_template=PromptTemplate(\n",
    "            input_variables=[\"x\", \"y\", \"y_name\"],\n",
    "            template=\"Q: What is the {y_name} of {x}?@@@\\nA: {y}###\",\n",
    "        ),\n",
    "        suffix=\"What is the {y_name} of {x}?@@@\\nA:\",\n",
    "        x_formatter=lambda x: f\"experimental procedure: {x}\",\n",
    "        y_name=\"C2 yield\",\n",
    "        y_formatter=lambda y: f\"{y:.2f}\",\n",
    "        model=model,\n",
    "        n_epochs=8,\n",
    "        learning_rate_multiplier=0.05,\n",
    "    )\n",
    "    # Tell one example so the moduel build the prompt\n",
    "    asktell.tell(train_data.iloc[0, 0], train_data.iloc[0, 1])\n",
    "    exp_train_data = train_data.iloc[:N]\n",
    "\n",
    "    prompts=[]\n",
    "    completions=[]\n",
    "    for i in range(len(exp_train_data)):\n",
    "        prompts.append(f\"What is the yield strength of {exp_train_data.iloc[i, 0]}?@@@\\\\nA: \")\n",
    "        completions.append(f\"{float(exp_train_data.iloc[i, 1])}###\")\n",
    "    asktell.prepare_data(prompts, completions, f'./paper/out/data_C2_{N}.dat')\n",
    "    asktell.fine_tune(prompts, completions, out_path='./paper/out', out_file=f'FT_C2_{N}')\n",
    "    print(asktell.get_model_name())\n",
    "\n",
    "def run_C2_FT_ablation(train_data, test_data, model=\"text-ada-001\", T=0.05, N=10, k=0):\n",
    "    with open(f'./paper/out/FT_C2_{N}.dat', 'r') as f:\n",
    "        response = json.load(f)\n",
    "    \n",
    "    asktell = bolift.AskTellFinetuning(\n",
    "        prefix=\"\",\n",
    "        prompt_template=PromptTemplate(\n",
    "            input_variables=[\"x\", \"y\", \"y_name\"],\n",
    "            template=\"Q: What is the {y_name} of {x}?@@@\\nA: {y}###\",\n",
    "        ),\n",
    "        suffix=\"What is the {y_name} of {x}?@@@\\nA:\",\n",
    "        # x_formatter=lambda x: f\"alloy composition: {x}\",\n",
    "        y_name=\"C2 yield\",\n",
    "        y_formatter=lambda y: f\"{y:.2f}\",\n",
    "        model=model,\n",
    "        id=response['id'],\n",
    "        selector_k=0,\n",
    "        n_epochs=8,\n",
    "        learning_rate_multiplier=0.05,\n",
    "    )\n",
    "    asktell.tell(train_data.iloc[0, 0], train_data.iloc[0, 1])\n",
    "    exp_train_data = train_data.iloc[:1]\n",
    "    x, y, yhat =  run_ablation_experiment(asktell, exp_train_data, test_data)\n",
    "\n",
    "    data=\"C2\"\n",
    "    model_class=\"finetune\"\n",
    "    save_csv(out_csv_file, x, y, yhat, data, asktell.get_model_name(), T, k, N, model_class, asktell.tokens_used)\n",
    "\n",
    "    return y, yhat"
   ]
  },
  {
   "cell_type": "code",
   "execution_count": 8,
   "metadata": {},
   "outputs": [
    {
     "name": "stdout",
     "output_type": "stream",
     "text": [
      "Running C2 FT with N=50\n",
      "running.   Fine-tune succeeded                                                                \n",
      "\n",
      "ada:ft-white-research-laboratory-2023-03-07-23-47-24\n",
      " --> done\n",
      "Running C2 FT with N=1000\n",
      "running... Fine-tune succeeded                                                                \n",
      "\n",
      "ada:ft-white-research-laboratory-2023-03-08-01-07-06\n",
      " --> done\n"
     ]
    }
   ],
   "source": [
    "N_list=[50, 1000]\n",
    "for N in N_list: \n",
    "  print(f\"Running C2 FT with N={N}\")\n",
    "  run_C2_finetune(train_data, model=\"text-ada-001\", N=N)\n",
    "  print(\" --> done\")"
   ]
  },
  {
   "cell_type": "code",
   "execution_count": 10,
   "metadata": {},
   "outputs": [
    {
     "name": "stdout",
     "output_type": "stream",
     "text": [
      "Running C2 finetune ablation with T=0.05, k=0, N=100, model=text-ada-001  --> done\n"
     ]
    }
   ],
   "source": [
    "T_list = [0.05]\n",
    "k_list = [0]\n",
    "N_list = [100]\n",
    "models_list = [\"text-ada-001\"]\n",
    "for T, k, N, model in itertools.product(T_list, k_list, N_list, models_list):\n",
    "  print(f\"Running C2 finetune ablation with T={T}, k={k}, N={N}, model={model}\", end=\" \")\n",
    "  y, yhat = run_C2_FT_ablation(train_data, test_data, model=\"text-ada-001\", T=T, N=N, k=k)\n",
    "  print(\" --> done\")"
   ]
  },
  {
   "attachments": {},
   "cell_type": "markdown",
   "metadata": {},
   "source": [
    "## Iupac-solubility"
   ]
  },
  {
   "cell_type": "code",
   "execution_count": 5,
   "metadata": {},
   "outputs": [],
   "source": [
    "import requests\n",
    "data_path = \"paper/data/esol_iupac.csv\"\n",
    "raw_data = pd.read_csv(data_path)\n",
    "\n",
    "def query2IUPAC(text):\n",
    "  try:\n",
    "    '''This function queries the one given molecule name and returns a SMILES string from the record'''\n",
    "    #query the PubChem database\n",
    "    r = requests.get('https://pubchem.ncbi.nlm.nih.gov/rest/pug/compound/smiles/' + text + '/property/IUPACName/JSON')\n",
    "    data = r.json()\n",
    "    smi = data[\"PropertyTable\"][\"Properties\"][0][\"IUPACName\"]\n",
    "    return smi\n",
    "  except:\n",
    "    return None\n",
    "\n",
    "# raw_data[\"IUPAC\"] = raw_data[\"SMILES\"].map(lambda sml: query2IUPAC(sml))\n",
    "raw_data = raw_data[[\"IUPAC\", \"measured log(solubility:mol/L)\"]]\n",
    "raw_data = raw_data.dropna()"
   ]
  },
  {
   "cell_type": "code",
   "execution_count": 6,
   "metadata": {},
   "outputs": [
    {
     "name": "stdout",
     "output_type": "stream",
     "text": [
      "882 705 177\n"
     ]
    }
   ],
   "source": [
    "np.random.seed(0)\n",
    "\n",
    "N = raw_data.shape[0]\n",
    "train = np.random.choice(raw_data.shape[0], int(N * 0.8), replace=False)\n",
    "test = np.setdiff1d(np.arange(raw_data.shape[0]), train)\n",
    "np.random.shuffle(test)\n",
    "\n",
    "train_data = raw_data.iloc[train, :].reset_index(drop=True)\n",
    "test_data = raw_data.iloc[test, :].reset_index(drop=True)\n",
    "print(N, len(train_data), len(test_data))"
   ]
  },
  {
   "attachments": {},
   "cell_type": "markdown",
   "metadata": {},
   "source": [
    "### multi"
   ]
  },
  {
   "cell_type": "code",
   "execution_count": 7,
   "metadata": {},
   "outputs": [],
   "source": [
    "def run_iupac_sol_multi_ablation(train_data, test_data, model=\"text-curie-001\", T=0.05, N=50, k=10):\n",
    "    asktell = bolift.AskTellFewShotMulti(\n",
    "        x_formatter=lambda x: f\"iupac name {x}\",\n",
    "        y_name=\"measured log solubility in mols per litre\",\n",
    "        y_formatter=lambda y: f\"{y:.2f}\",\n",
    "        model=model,\n",
    "        selector_k=k,\n",
    "        temperature=T\n",
    ")\n",
    "    exp_train_data = train_data[:N]\n",
    "    x, y, yhat =  run_ablation_experiment(asktell, exp_train_data, test_data)\n",
    "\n",
    "    data=\"iupac-sol\"\n",
    "    model_class=\"multi\"\n",
    "    save_csv(out_csv_file, x, y, yhat, data, model, T, k, N, model_class, asktell.tokens_used)\n",
    "\n",
    "    return y, yhat"
   ]
  },
  {
   "cell_type": "code",
   "execution_count": 8,
   "metadata": {},
   "outputs": [
    {
     "name": "stdout",
     "output_type": "stream",
     "text": [
      "Running iupac-solv multi ablation with T=0.05, k=0, N=1000, model=text-curie-001  --> done\n",
      "Running iupac-solv multi ablation with T=0.05, k=1, N=1000, model=text-curie-001  --> done\n",
      "Running iupac-solv multi ablation with T=0.05, k=2, N=1000, model=text-curie-001  --> done\n",
      "Running iupac-solv multi ablation with T=0.05, k=3, N=1000, model=text-curie-001  --> done\n",
      "Running iupac-solv multi ablation with T=0.05, k=4, N=1000, model=text-curie-001  --> done\n",
      "Running iupac-solv multi ablation with T=0.05, k=10, N=1000, model=text-curie-001  --> done\n"
     ]
    }
   ],
   "source": [
    "T_list = [0.05]\n",
    "k_list = [0,1,2,3,4,10]\n",
    "N_list = [1000]\n",
    "for T, k, N, model in itertools.product(T_list, k_list, N_list, models_list):\n",
    "  print(f\"Running iupac-solv multi ablation with T={T}, k={k}, N={N}, model={model}\", end=\" \")\n",
    "  y, yhat = run_iupac_sol_multi_ablation(train_data, test_data, model=\"text-curie-001\", T=T, N=N, k=k)\n",
    "  print(\" --> done\")"
   ]
  },
  {
   "attachments": {},
   "cell_type": "markdown",
   "metadata": {},
   "source": [
    "### topk"
   ]
  },
  {
   "cell_type": "code",
   "execution_count": 9,
   "metadata": {},
   "outputs": [],
   "source": [
    "def run_iupac_sol_topk_ablation(train_data, test_data, model=\"text-curie-001\", T=0.05, N=50, k=10):\n",
    "    asktell = bolift.AskTellFewShotTopk(\n",
    "        x_formatter=lambda x: f\"iupac name {x}\",\n",
    "        y_name=\"measured log solubility in mols per litre\",\n",
    "        y_formatter=lambda y: f\"{y:.2f}\",\n",
    "        model=model,\n",
    "        selector_k=k,\n",
    "        temperature=T\n",
    "    )\n",
    "    x, y, yhat =  run_ablation_experiment(asktell, train_data, test_data)\n",
    "\n",
    "    data=\"iupac-sol\"\n",
    "    model_class=\"topk\"\n",
    "    save_csv(out_csv_file, x, y, yhat, data, model, T, k, N, model_class, asktell.tokens_used)\n",
    "\n",
    "    return y, yhat"
   ]
  },
  {
   "cell_type": "code",
   "execution_count": 10,
   "metadata": {},
   "outputs": [
    {
     "name": "stdout",
     "output_type": "stream",
     "text": [
      "Running iupac-solv topk ablation with T=0.05, k=0, N=1000, model=text-curie-001  --> done\n",
      "Running iupac-solv topk ablation with T=0.05, k=1, N=1000, model=text-curie-001  --> done\n",
      "Running iupac-solv topk ablation with T=0.05, k=2, N=1000, model=text-curie-001  --> done\n",
      "Running iupac-solv topk ablation with T=0.05, k=3, N=1000, model=text-curie-001  --> done\n",
      "Running iupac-solv topk ablation with T=0.05, k=4, N=1000, model=text-curie-001  --> done\n",
      "Running iupac-solv topk ablation with T=0.05, k=10, N=1000, model=text-curie-001  --> done\n"
     ]
    }
   ],
   "source": [
    "T_list = [0.05]\n",
    "k_list = [0,1,2,3,4,10]\n",
    "N_list = [1000]\n",
    "for T, k, N, model in itertools.product(T_list, k_list, N_list, models_list):\n",
    "  print(f\"Running iupac-solv topk ablation with T={T}, k={k}, N={N}, model={model}\", end=\" \")\n",
    "  y, yhat = run_iupac_sol_topk_ablation(train_data, test_data, model=\"text-curie-001\", T=T, N=N, k=k)\n",
    "  print(\" --> done\")"
   ]
  },
  {
   "attachments": {},
   "cell_type": "markdown",
   "metadata": {},
   "source": [
    "### Finetune"
   ]
  },
  {
   "cell_type": "code",
   "execution_count": null,
   "metadata": {},
   "outputs": [],
   "source": [
    "def run_iupac_sol_finetune(train_data, model=\"text-ada-001\", N=50):\n",
    "    asktell = bolift.AskTellFinetuning(\n",
    "        prefix=\"\",\n",
    "        prompt_template=PromptTemplate(\n",
    "            input_variables=[\"x\", \"y\", \"y_name\"],\n",
    "            template=\"Q: What is the {y_name} of {x}?@@@\\nA: {y}###\",\n",
    "        ),\n",
    "        suffix=\"What is the {y_name} of {x}?@@@\\nA:\",\n",
    "        # x_formatter=lambda x: f\"iupac name {x}\",\n",
    "        y_name=\"measured log solubility in mols per litre\",\n",
    "        y_formatter=lambda y: f\"{y:.2f}\",\n",
    "        model=model,\n",
    "        n_epochs=8,\n",
    "        learning_rate_multiplier=0.02,\n",
    "    )\n",
    "    asktell.tell(train_data.iloc[0, 0], train_data.iloc[0, 1])\n",
    "    exp_train_data = train_data.iloc[:N]\n",
    "\n",
    "    prompts=[]\n",
    "    completions=[]\n",
    "    for i in range(len(train_data[:N])):\n",
    "        prompts.append(f\"What is the measured log solubility in mols per litre of {exp_train_data.iloc[i, 0]}?@@@\\\\nA: \")\n",
    "        completions.append(f\"{float(exp_train_data.iloc[i, 1])}###\")\n",
    "        asktell.prepare_data(prompts, completions, f'./paper/out/data_solv_{N}.dat')\n",
    "    asktell.fine_tune(prompts, completions, out_path='./paper/out', out_file=f'FT_solv_{N}')\n",
    "    print(asktell.get_model_name())\n",
    "\n",
    "def run_iupac_sol_FT_ablation(train_data, test_data, model=\"text-ada-001\", T=0.05, N=50, k=0):\n",
    "    with open(f'./paper/out/FT_solv_{N}.dat', 'r') as f:\n",
    "        response = json.load(f)\n",
    "    \n",
    "    asktell = bolift.AskTellFinetuning(\n",
    "        prefix=\"\",\n",
    "        prompt_template=PromptTemplate(\n",
    "            input_variables=[\"x\", \"y\", \"y_name\"],\n",
    "            template=\"Q: What is the {y_name} of {x}?@@@\\nA: {y}###\",\n",
    "        ),\n",
    "        suffix=\"What is the {y_name} of {x}?@@@\\nA:\",\n",
    "        # x_formatter=lambda x: f\"iupac name {x}\",\n",
    "        y_name=\"measured log solubility in mols per litre\",\n",
    "        y_formatter=lambda y: f\"{y:.2f}\",\n",
    "        model=model,\n",
    "        id=response['id'],\n",
    "        selector_k=0,\n",
    "        n_epochs=8,\n",
    "        learning_rate_multiplier=0.02,\n",
    "    )\n",
    "    asktell.tell(train_data.iloc[0, 0], train_data.iloc[0, 1])\n",
    "    exp_train_data = train_data.iloc[:N]\n",
    "    x, y, yhat =  run_ablation_experiment(asktell, exp_train_data, test_data)\n",
    "\n",
    "    data=\"iupac-sol\"\n",
    "    model_class=\"finetune\"\n",
    "    save_csv(out_csv_file, x, y, yhat, data, asktell.get_model_name(), T, k, N, model_class, asktell.tokens_used)\n",
    "\n",
    "    return y, yhat"
   ]
  },
  {
   "cell_type": "code",
   "execution_count": null,
   "metadata": {},
   "outputs": [
    {
     "name": "stdout",
     "output_type": "stream",
     "text": [
      "Running iupac-sol FT with N=50\n",
      "running..  Fine-tune succeeded                                                                \n",
      "\n",
      "ada:ft-white-research-laboratory-2023-02-28-19-10-21\n",
      " --> done\n",
      "Running iupac-sol FT with N=100\n",
      "running... Fine-tune succeeded                                     -28-19-20-28                                     \n",
      "\n",
      "ada:ft-white-research-laboratory-2023-02-28-19-20-28\n",
      " --> done\n",
      "Running iupac-sol FT with N=250\n",
      "running... Fine-tune succeeded                                     -28-19-56-24                                     \n",
      "\n",
      "ada:ft-white-research-laboratory-2023-02-28-19-56-24\n",
      " --> done\n",
      "Running iupac-sol FT with N=500\n",
      "running..  Fine-tune succeeded                                                                \n",
      "\n",
      "ada:ft-white-research-laboratory-2023-02-28-20-41-11\n",
      " --> done\n",
      "Running iupac-sol FT with N=700\n",
      "running.   Fine-tune succeeded                                     -28-21-30-29                                     \n",
      "\n",
      "ada:ft-white-research-laboratory-2023-02-28-21-30-29\n",
      " --> done\n"
     ]
    }
   ],
   "source": [
    "N_list=[50,100,250,500,700]\n",
    "for N in N_list:\n",
    "  print(f\"Running iupac-sol FT with N={N}\")\n",
    "  run_iupac_sol_finetune(train_data, model=\"text-ada-001\", N=N)\n",
    "  print(\" --> done\")"
   ]
  },
  {
   "cell_type": "code",
   "execution_count": null,
   "metadata": {},
   "outputs": [
    {
     "name": "stdout",
     "output_type": "stream",
     "text": [
      "Running iupac-sol finetune ablation with T=0.05, k=0, N=50, model=text-ada-001  --> done\n",
      "Running iupac-sol finetune ablation with T=0.05, k=0, N=100, model=text-ada-001  --> done\n",
      "Running iupac-sol finetune ablation with T=0.05, k=0, N=250, model=text-ada-001  --> done\n",
      "Running iupac-sol finetune ablation with T=0.05, k=0, N=500, model=text-ada-001  --> done\n",
      "Running iupac-sol finetune ablation with T=0.05, k=0, N=700, model=text-ada-001  --> done\n"
     ]
    }
   ],
   "source": [
    "T_list = [0.05]\n",
    "k_list = [0]\n",
    "N_list=[50,100,250,500,700]\n",
    "models_list = [\"text-ada-001\"]\n",
    "for T, k, N, model in itertools.product(T_list, k_list, N_list, models_list):\n",
    "  print(f\"Running iupac-sol finetune ablation with T={T}, k={k}, N={N}, model={model}\", end=\" \")\n",
    "  y, yhat = run_iupac_sol_FT_ablation(train_data, test_data, model=\"text-ada-001\", T=T, N=N, k=k)\n",
    "  print(\" --> done\")\n"
   ]
  },
  {
   "attachments": {},
   "cell_type": "markdown",
   "metadata": {},
   "source": [
    "## Steel alloy"
   ]
  },
  {
   "cell_type": "code",
   "execution_count": null,
   "metadata": {},
   "outputs": [
    {
     "name": "stdout",
     "output_type": "stream",
     "text": [
      "312 249 63\n"
     ]
    }
   ],
   "source": [
    "np.random.seed(8)\n",
    "\n",
    "data_path = \"paper/data/yield_strength.csv\"\n",
    "raw_data = pd.read_csv(data_path)\n",
    "\n",
    "N = raw_data.shape[0]\n",
    "train = np.random.choice(raw_data.shape[0], int(N * 0.8), replace=False)\n",
    "test = np.setdiff1d(np.arange(raw_data.shape[0]), train)\n",
    "np.random.shuffle(test)\n",
    "\n",
    "train_data = raw_data.iloc[train, :].reset_index(drop=True)\n",
    "test_data = raw_data.iloc[test, :].reset_index(drop=True)\n",
    "print(N, len(train_data), len(test_data))"
   ]
  },
  {
   "attachments": {},
   "cell_type": "markdown",
   "metadata": {},
   "source": [
    "### multi"
   ]
  },
  {
   "cell_type": "code",
   "execution_count": null,
   "metadata": {},
   "outputs": [],
   "source": [
    "def run_alloy_multi_ablation(train_data, test_data, model=\"text-curie-001\", T=0.05, N=50, k=10):\n",
    "    asktell = bolift.AskTellFewShotMulti(\n",
    "        x_formatter=lambda x: f\"alloy composition of {x}\",\n",
    "        y_name=\"yield strength\",\n",
    "        y_formatter=lambda y: f\"{y:.2f}\",\n",
    "        model=model,\n",
    "        selector_k=k,\n",
    "        temperature=T\n",
    "    )\n",
    "    exp_train_data = train_data[:N]\n",
    "    x, y, yhat =  run_ablation_experiment(asktell, exp_train_data, test_data)\n",
    "\n",
    "    data=\"alloy\"\n",
    "    model_class=\"multi\"\n",
    "    save_csv(out_csv_file, x, y, yhat, data, model, T, k, N, model_class, asktell.tokens_used)\n",
    "\n",
    "    return y, yhat\n"
   ]
  },
  {
   "cell_type": "code",
   "execution_count": null,
   "metadata": {},
   "outputs": [
    {
     "name": "stdout",
     "output_type": "stream",
     "text": [
      "Running alloy multi ablation with T=0.05, k=1, N=249, model=text-curie-001  --> done\n",
      "Running alloy multi ablation with T=0.05, k=2, N=249, model=text-curie-001  --> done\n",
      "Running alloy multi ablation with T=0.05, k=3, N=249, model=text-curie-001  --> done\n",
      "Running alloy multi ablation with T=0.05, k=4, N=249, model=text-curie-001  --> done\n"
     ]
    }
   ],
   "source": [
    "\n",
    "T_list = [0.05]\n",
    "k_list = [1,2,3,4]\n",
    "N_list = [249]\n",
    "for T, k, N, model in itertools.product(T_list, k_list, N_list, models_list):\n",
    "  print(f\"Running alloy multi ablation with T={T}, k={k}, N={N}, model={model}\", end=\" \")\n",
    "  y, yhat = run_alloy_multi_ablation(train_data, test_data, model=model, T=T, N=N, k=k)\n",
    "  print(\" --> done\")"
   ]
  },
  {
   "attachments": {},
   "cell_type": "markdown",
   "metadata": {},
   "source": [
    "### topk"
   ]
  },
  {
   "cell_type": "code",
   "execution_count": null,
   "metadata": {},
   "outputs": [],
   "source": [
    "def run_alloy_topk_ablation(train_data, test_data, model=\"text-curie-001\", T=0.05, N=50, k=10):\n",
    "    from openai import PromptTemplate\n",
    "    \n",
    "    asktell = bolift.AskTellFewShotTopk(\n",
    "        x_formatter=lambda x: f\"alloy composition of {x}\",\n",
    "        y_name=\"yield strength\",\n",
    "        y_formatter=lambda y: f\"{y:.2f}\",\n",
    "        model=model,\n",
    "        selector_k=k,\n",
    "        temperature=T\n",
    "    )\n",
    "    exp_train_data = train_data[:N]\n",
    "    x, y, yhat =  run_ablation_experiment(asktell, exp_train_data, test_data)\n",
    "    data=\"alloy\"\n",
    "    model_class=\"topk\"\n",
    "    save_csv(out_csv_file, x, y, yhat, data, model, T, k, N, model_class, asktell.tokens_used)\n",
    "\n",
    "    return y, yhat\n"
   ]
  },
  {
   "cell_type": "code",
   "execution_count": null,
   "metadata": {},
   "outputs": [],
   "source": [
    "T_list = [0.05]\n",
    "k_list = [5]\n",
    "N_list = [50] #[3,4,5,10,25,50,100,200]\n",
    "for T, k, N, model in itertools.product(T_list, k_list, N_list, models_list):\n",
    "  print(f\"Running alloy topk ablation with T={T}, k={k}, N={N}, model={model}\", end=\" \")\n",
    "  y, yhat = run_alloy_topk_ablation(train_data, test_data, model=model, T=T, N=N, k=k)\n",
    "  print(\" --> done\")"
   ]
  },
  {
   "attachments": {},
   "cell_type": "markdown",
   "metadata": {},
   "source": [
    "### Finetune"
   ]
  },
  {
   "cell_type": "code",
   "execution_count": null,
   "metadata": {},
   "outputs": [],
   "source": [
    "def run_alloy_finetune(train_data, model=\"text-ada-001\", N=50):\n",
    "    asktell = bolift.AskTellFinetuning(\n",
    "        prefix=\"\",\n",
    "        prompt_template=PromptTemplate(\n",
    "            input_variables=[\"x\", \"y\", \"y_name\"],\n",
    "            template=\"Q: What is the {y_name} of {x}?@@@\\nA: {y}###\",\n",
    "        ),\n",
    "        suffix=\"What is the {y_name} of {x}?@@@\\nA:\",\n",
    "        # x_formatter=lambda x: f\"alloy composition: {x}\",\n",
    "        y_name=\"yield strength\",\n",
    "        y_formatter=lambda y: f\"{y:.2f}\",\n",
    "        model=model,\n",
    "        n_epochs=8,\n",
    "        learning_rate_multiplier=0.02,\n",
    "    )\n",
    "    # Tell one example so the moduel build the prompt\n",
    "    asktell.tell(train_data.iloc[0, 0], train_data.iloc[0, 1])\n",
    "    exp_train_data = train_data.iloc[:N]\n",
    "\n",
    "    prompts=[]\n",
    "    completions=[]\n",
    "    for i in range(len(exp_train_data)):\n",
    "        prompts.append(f\"What is the yield strength of {exp_train_data.iloc[i, 0]}?@@@\\\\nA: \")\n",
    "        completions.append(f\"{float(exp_train_data.iloc[i, 1])}###\")\n",
    "    asktell.prepare_data(prompts, completions, f'./paper/out/data_alloy_{N}.dat')\n",
    "    asktell.fine_tune(prompts, completions, out_path='./paper/out', out_file=f'FT_alloy_{N}')\n",
    "    print(asktell.get_model_name())\n",
    "\n",
    "def run_alloy_FT_ablation(train_data, test_data, model=\"text-ada-001\", T=0.05, N=50, k=0):\n",
    "    with open(f'./paper/out/FT_alloy_{N}.dat', 'r') as f:\n",
    "        response = json.load(f)\n",
    "    \n",
    "    asktell = bolift.AskTellFinetuning(\n",
    "        prefix=\"\",\n",
    "        prompt_template=PromptTemplate(\n",
    "            input_variables=[\"x\", \"y\", \"y_name\"],\n",
    "            template=\"Q: What is the {y_name} of {x}?@@@\\nA: {y}###\",\n",
    "        ),\n",
    "        suffix=\"What is the {y_name} of {x}?@@@\\nA:\",\n",
    "        # x_formatter=lambda x: f\"alloy composition: {x}\",\n",
    "        y_name=\"yield strength\",\n",
    "        y_formatter=lambda y: f\"{y:.2f}\",\n",
    "        model=model,\n",
    "        id=response['id'],\n",
    "        selector_k=0,\n",
    "        n_epochs=8,\n",
    "        learning_rate_multiplier=0.02,\n",
    "    )\n",
    "    asktell.tell(train_data.iloc[0, 0], train_data.iloc[0, 1])\n",
    "    exp_train_data = train_data.iloc[:N]\n",
    "    x, y, yhat =  run_ablation_experiment(asktell, exp_train_data, test_data)\n",
    "\n",
    "    data=\"alloy\"\n",
    "    model_class=\"finetune\"\n",
    "    save_csv(out_csv_file, x, y, yhat, data, asktell.get_model_name(), T, k, N, model_class, asktell.tokens_used)\n",
    "\n",
    "    return y, yhat"
   ]
  },
  {
   "cell_type": "code",
   "execution_count": null,
   "metadata": {},
   "outputs": [
    {
     "name": "stdout",
     "output_type": "stream",
     "text": [
      "Running alloy FT with N=249\n",
      "text-ada-001\n",
      "running.   Fine-tune succeeded                                                                \n",
      "\n",
      "ada:ft-white-research-laboratory-2023-02-27-21-12-15\n",
      " --> done\n"
     ]
    }
   ],
   "source": [
    "N_list=[249]\n",
    "for N in N_list:\n",
    "  print(f\"Running alloy FT with N={N}\")\n",
    "  run_alloy_finetune(train_data, model=\"text-ada-001\", N=N)\n",
    "  print(\" --> done\")"
   ]
  },
  {
   "cell_type": "code",
   "execution_count": null,
   "metadata": {},
   "outputs": [
    {
     "name": "stdout",
     "output_type": "stream",
     "text": [
      "Running alloy finetune ablation with T=0.05, k=0, N=249, model=text-ada-001 text-ada-001\n",
      "ada:ft-white-research-laboratory-2023-02-27-21-12-15\n",
      " --> done\n"
     ]
    }
   ],
   "source": [
    "T_list = [0.05]\n",
    "k_list = [0]\n",
    "N_list = [249]\n",
    "models_list = [\"text-ada-001\"]\n",
    "for T, k, N, model in itertools.product(T_list, k_list, N_list, models_list):\n",
    "  print(f\"Running alloy finetune ablation with T={T}, k={k}, N={N}, model={model}\", end=\" \")\n",
    "  y, yhat = run_alloy_FT_ablation(train_data, test_data, model=\"text-ada-001\", T=T, N=N, k=k)\n",
    "  print(\" --> done\")\n"
   ]
  }
 ],
 "metadata": {
  "kernelspec": {
   "display_name": "Python 3",
   "language": "python",
   "name": "python3"
  },
  "language_info": {
   "codemirror_mode": {
    "name": "ipython",
    "version": 3
   },
   "file_extension": ".py",
   "mimetype": "text/x-python",
   "name": "python",
   "nbconvert_exporter": "python",
   "pygments_lexer": "ipython3",
   "version": "3.11.2"
  },
  "orig_nbformat": 4,
  "vscode": {
   "interpreter": {
    "hash": "b0fa6594d8f4cbf19f97940f81e996739fb7646882a419484c72d19e05852a7e"
   }
  }
 },
 "nbformat": 4,
 "nbformat_minor": 2
}
