{
 "cells": [
  {
   "cell_type": "markdown",
   "id": "c1fdcdd8",
   "metadata": {},
   "source": [
    "# datset reference -- https://pubs.acs.org/doi/10.1021/acscatal.9b04293\n",
    "\n",
    "## Labels: Selectivity, Yeild, Conversion, Combo\n",
    "\n",
    "### Synthesis methods:\n",
    "\n",
    "#### Adapted: key terms: support1, M1,m1, CT, Total_flow, meth/oxy, arg_P, Temp, Name\n",
    "\n",
    "\"Name was prepared based on a co-impregnation method. A support support1 (1.0 g) was impregnated with 4.5 mL of an aqueous solution of consiting of M1 (m1),M2 (m2), M3 (m3), at 50 °C for 6 h. After vacuum drying at 110 °C, the product was calcined at 1000 °C under air for 3 h.Once Name is activated the reaction is ran at Temp °C. The total flow volume was Total_flow mL/min with flow ratios of  CH4/O2 meth/oxy mol/mol, and an Ar concentration of arg_P atm. The height of the catalyst bed was fixed at 10 mm, leading to a contact time of CT s at Total_flow ml/min.\" \n",
    "\n",
    "#### Original:\n",
    "\"The catalysts were prepared based on a co-impregnation method. A support substrate (1.0 g) was impregnated with 4.5 mL of an aqueous solution of specified metal precursors at 50 °C for 6 h. After vacuum drying at 110 °C, the product was calcined at 1000 °C under air for 3 h to yield a catalyst. When a water-sensitive metal alkoxide was employed, the impregnation was sequentially performed in the order of an aqueous solution of tungstate and an ethanol solution of a metal alkoxide. The obtained catalysts were thoroughly ground before any usage. The catalyst preparation was appropriately parallelized with the aids of a parallel hot stirrer (Reacti-Therm, Thermo Scientific) and a centrifugal evaporator (CVE-3100, Eyela). Twenty catalysts were produced in one batch. The samples were characterized by X-ray diffraction and scanning electron microscopy.\"\n",
    "\n",
    "### Reaction conditions:\n",
    "\n",
    "\"Once catalysts are activated at 1000 °C for 160 min under O2, the temperature is stepwise declined from 900 to 850, 800, 775, 750, and 700 °C. At each temperature, the total flow volume (10, 15, and 20 mL/min/channel), the CH4/O2 ratio (2, 3, 4, and 6 mol/mol), and the Ar concentration (PAr = 0.15, 0.40, 0.70 atm) are stepwise varied. One reaction condition is held for 6–7 min, which allows 2–3 rounds of sampling in the same condition for acquiring the error range of observations. The ascending temperature protocol was not employed as it causes excessive CO and CO2 production due to the combustion of carbon deposits. The height of the catalyst bed was fixed at 10 mm, leading to a contact time of 0.75, 0.50, or 0.38 s at the given total flow volumes. Combined variations in the temperature, the total flow volume, the CH4/O2 ratio, and the Ar concentration lead to 216 conditions per catalyst and 4320 observations for 20 catalysts in a single automated operation.\""
   ]
  },
  {
   "cell_type": "code",
   "execution_count": 17,
   "id": "73f030db",
   "metadata": {},
   "outputs": [
    {
     "data": {
      "text/plain": [
       "True"
      ]
     },
     "execution_count": 17,
     "metadata": {},
     "output_type": "execute_result"
    }
   ],
   "source": [
    "import numpy as np\n",
    "import pandas as pd\n",
    "import bolift\n",
    "from collections import OrderedDict\n",
    "import cloudpickle\n",
    "\n",
    "from dotenv import load_dotenv\n",
    "\n",
    "load_dotenv(\"../.env\")"
   ]
  },
  {
   "cell_type": "code",
   "execution_count": 18,
   "id": "15599bfb",
   "metadata": {},
   "outputs": [
    {
     "name": "stdout",
     "output_type": "stream",
     "text": [
      "Index(['name', 'm1', 'M1_atom_number', 'm2', 'M2_atom_number', 'm3',\n",
      "       'M3_atom_number', 'sup', 'Support_ID', 'M2_mol', 'M3_mol', 'm1_mol',\n",
      "       'm2_mol', 'm3_mol', 'react_temp', 'flow_vol', 'ar_vol', 'ch4_vol',\n",
      "       'o2_vol', 'contact', 'CH4/O2', 'CH4_conv', 'C2y', 'C2H6y', 'C2H4y',\n",
      "       'COy', 'CO2y', 'C2s', 'C2H6s', 'C2H4s', 'COs', 'CO2s'],\n",
      "      dtype='object')\n"
     ]
    }
   ],
   "source": [
    "name_dict = {\n",
    "    'Name': 'name',\n",
    "    'Support ': 'sup',\n",
    "    'M1': 'm1',\n",
    "    'M1_mol': 'm1_mol',\n",
    "    'M2': 'm2',\n",
    "    'M2_mol': 'm2_mol',\n",
    "    'M3': 'm3',\n",
    "    'M3_mol': 'm3_mol',\n",
    "    'Temp': 'react_temp',\n",
    "    'Total_flow': 'flow_vol',\n",
    "    'Ar_flow': 'ar_vol',\n",
    "    'CH4_flow': 'ch4_vol',\n",
    "    'O2_flow': 'o2_vol',\n",
    "    'CT': 'contact'\n",
    "}\n",
    "\n",
    "prompt_template = \"To synthesize {name}, {sup} (1.0 g) was impregnated with 4.5 mL of an aqueous solution consisting of {m1} ({m1_mol} mol), {m2} ({m2_mol} mol), {m3} ({m3_mol} mol), \"\\\n",
    "            \"at 50 ºC for 6 h. Once activated the reaction is ran at {react_temp} ºC. \"\\\n",
    "            \"The total flow rate was {flow_vol} mL/min (Ar: {ar_vol} mL/min, CH4: {ch4_vol} mL/min, O2: {o2_vol} mL/min), \"\\\n",
    "            \"leading to a contact time of {contact} s.\"\n",
    "\n"
   ]
  },
  {
   "cell_type": "code",
   "execution_count": 35,
   "id": "cfaae4ed",
   "metadata": {},
   "outputs": [],
   "source": [
    "# round((((y[\"M1_mol%\"])/100)*(y[\"M2_mol\"]+y[\"M3_mol\"])/(1-(y[\"M1_mol%\"]/100))),3)\n",
    "df = pd.read_csv('oxidative_methane_coupling.csv')\n",
    "\n",
    "def calculate_M1_mol(row):\n",
    "    return round((((row[\"M1_mol%\"]) / 100) * (row[\"M2_mol\"] + row[\"M3_mol\"]) / (1 - (row[\"M1_mol%\"] / 100))), 3)\n",
    "\n",
    "df[\"M1_mol\"] = df.apply(calculate_M1_mol, axis=1)\n",
    "df.rename(columns=name_dict, inplace=True)"
   ]
  },
  {
   "cell_type": "code",
   "execution_count": 36,
   "id": "4ff20ff1",
   "metadata": {},
   "outputs": [
    {
     "data": {
      "text/plain": [
       "array(['Mn-Na2WO4/BN', 'Mn-Na2WO4/MgO', 'Mn-Na2WO4/Al2O3',\n",
       "       'Mn-Na2WO4/SiO2', 'Mn-Na2WO4/SiC', 'Mn-Na2WO4/SiCnf',\n",
       "       'Mn-Na2WO4/BEA', 'Mn-Na2WO4/ZSM-5', 'Mn-Na2WO4/TiO2',\n",
       "       'Mn-Na2WO4/ZrO2', 'Mn-Na2WO4/Nb2O5', 'Mn-Na2WO4/CeO2',\n",
       "       'Mn-Li2WO4/SiO2', 'Mn-MgWO4/SiO2', 'Mn-K2WO4/SiO2',\n",
       "       'Mn-CaWO4/SiO2', 'Mn-SrWO4/SiO2', 'Mn-BaWO4/SiO2',\n",
       "       'Mn-Li2MoO4/SiO2', 'Mn-Na2MoO4/SiO2', 'Mn-K2MoO4/SiO2',\n",
       "       'Mn-FeMoO4/SiO2', 'Mn-ZnMoO4/SiO2', 'Ti-Na2WO4/SiO2',\n",
       "       'V-Na2WO4/SiO2', 'Fe-Na2WO4/SiO2', 'Co-Na2WO4/SiO2',\n",
       "       'Ni-Na2WO4/SiO2', 'Cu-Na2WO4/SiO2', 'Zn-Na2WO4/SiO2',\n",
       "       'Y-Na2WO4/SiO2', 'Zr-Na2WO4/SiO2', 'Mo-Na2WO4/SiO2',\n",
       "       'Pd-Na2WO4/SiO2', 'La-Na2WO4/SiO2', 'Ce-Na2WO4/SiO2',\n",
       "       'Nd-Na2WO4/SiO2', 'Eu-Na2WO4/SiO2', 'Tb-Na2WO4/SiO2',\n",
       "       'Hf-Na2WO4/SiO2', 'Blank', 'BN', 'MgO', 'Al2O3', 'SiO2', 'SiC',\n",
       "       'SiCnf', 'BEA', 'ZSM-5', 'TiO2', 'ZrO2', 'Nb2O5', 'CeO2',\n",
       "       'Na2WO4/SiO2', 'Mn-WOx/SiO2', 'Mn-MoOx/SiO2', 'Mn-Na/SiO2',\n",
       "       'WOx/SiO2', 'Na/SiO2'], dtype=object)"
      ]
     },
     "execution_count": 36,
     "metadata": {},
     "output_type": "execute_result"
    }
   ],
   "source": [
    "df[\"name\"].unique()"
   ]
  },
  {
   "cell_type": "code",
   "execution_count": 84,
   "id": "4ff20ff1",
   "metadata": {},
   "outputs": [
    {
     "name": "stdout",
     "output_type": "stream",
     "text": [
      "95th percentile threshold for C2y across the dataset: 12.85\n",
      "Probability of C2y > 12.85 in 'Mn-Na2WO4/SiO2': 24.07%\n",
      "Probability of C2y > 12.85 in other catalysts: 4.62%\n",
      "Difference in probability: 19.46%\n"
     ]
    }
   ],
   "source": [
    "import pandas as pd\n",
    "\n",
    "# Assuming df is your original DataFrame\n",
    "# Filter out rows where 'react_temp' cannot be converted to numeric\n",
    "df = df[pd.to_numeric(df['react_temp'], errors='coerce').notnull()]\n",
    "df['react_temp'] = df['react_temp'].astype(float)\n",
    "\n",
    "# Determine the 95th percentile of C2y in the entire dataset\n",
    "percentile_95 = df['C2y'].quantile(0.95)\n",
    "\n",
    "# Define the target catalyst and filter data\n",
    "target_catalyst = \"Mn-Na2WO4/SiO2\"\n",
    "target_data = df[df['name'] == target_catalyst]\n",
    "other_data = df[df['name'] != target_catalyst]\n",
    "\n",
    "# Calculate the counts and probabilities\n",
    "target_above_95_count = len(target_data[target_data['C2y'] > percentile_95])\n",
    "other_above_95_count = len(other_data[other_data['C2y'] > percentile_95])\n",
    "\n",
    "target_total_count = len(target_data)\n",
    "other_total_count = len(other_data)\n",
    "\n",
    "prob_target_above_95 = target_above_95_count / target_total_count if target_total_count > 0 else 0\n",
    "prob_other_above_95 = other_above_95_count / other_total_count if other_total_count > 0 else 0\n",
    "\n",
    "# Calculate the difference in probabilities\n",
    "prob_difference = prob_target_above_95 - prob_other_above_95\n",
    "\n",
    "# Display the results\n",
    "print(f\"95th percentile threshold for C2y across the dataset: {percentile_95:.2f}\")\n",
    "print(f\"Probability of C2y > {percentile_95:.2f} in '{target_catalyst}': {prob_target_above_95:.2%}\")\n",
    "print(f\"Probability of C2y > {percentile_95:.2f} in other catalysts: {prob_other_above_95:.2%}\")\n",
    "print(f\"Difference in probability: {prob_difference:.2%}\")\n"
   ]
  },
  {
   "cell_type": "code",
   "execution_count": 86,
   "id": "00e81061",
   "metadata": {},
   "outputs": [
    {
     "name": "stdout",
     "output_type": "stream",
     "text": [
      "99th percentile threshold for C2y across the dataset: 16.17\n",
      "Probability of C2y > 16.17 in 'Mn-Na2WO4/SiO2': 8.33%\n",
      "Probability of C2y > 16.17 in other catalysts: 0.88%\n",
      "Difference in probability: 7.45%\n"
     ]
    }
   ],
   "source": [
    "import pandas as pd\n",
    "\n",
    "# Assuming df is your original DataFrame\n",
    "# Filter out rows where 'react_temp' cannot be converted to numeric\n",
    "df = df[pd.to_numeric(df['react_temp'], errors='coerce').notnull()]\n",
    "df['react_temp'] = df['react_temp'].astype(float)\n",
    "\n",
    "# Determine the 99th percentile of C2y in the entire dataset\n",
    "percentile_99 = df['C2y'].quantile(0.99)\n",
    "\n",
    "# Define the target catalyst and filter data\n",
    "target_catalyst = \"Mn-Na2WO4/SiO2\"\n",
    "target_data = df[df['name'] == target_catalyst]\n",
    "other_data = df[df['name'] != target_catalyst]\n",
    "\n",
    "# Calculate the counts and probabilities\n",
    "target_above_99_count = len(target_data[target_data['C2y'] > percentile_99])\n",
    "other_above_99_count = len(other_data[other_data['C2y'] > percentile_99])\n",
    "\n",
    "target_total_count = len(target_data)\n",
    "other_total_count = len(other_data)\n",
    "\n",
    "prob_target_above_99 = target_above_99_count / target_total_count if target_total_count > 0 else 0\n",
    "prob_other_above_99 = other_above_99_count / other_total_count if other_total_count > 0 else 0\n",
    "\n",
    "# Calculate the difference in probabilities\n",
    "prob_difference = prob_target_above_99 - prob_other_above_99\n",
    "\n",
    "# Display the results\n",
    "print(f\"99th percentile threshold for C2y across the dataset: {percentile_99:.2f}\")\n",
    "print(f\"Probability of C2y > {percentile_99:.2f} in '{target_catalyst}': {prob_target_above_99:.2%}\")\n",
    "print(f\"Probability of C2y > {percentile_99:.2f} in other catalysts: {prob_other_above_99:.2%}\")\n",
    "print(f\"Difference in probability: {prob_difference:.2%}\")\n"
   ]
  },
  {
   "cell_type": "code",
   "execution_count": 92,
   "id": "42314efe",
   "metadata": {},
   "outputs": [
    {
     "data": {
      "image/png": "[encoded data removed]",
      "text/plain": [
       "<Figure size 1000x600 with 1 Axes>"
      ]
     },
     "metadata": {},
     "output_type": "display_data"
    }
   ],
   "source": [
    "import matplotlib.pyplot as plt\n",
    "import pandas as pd\n",
    "\n",
    "# Assuming df is your original DataFrame\n",
    "# Filter and convert react_temp to float\n",
    "filtered_df = filtered_df[pd.to_numeric(filtered_df['react_temp'], errors='coerce').notnull()]\n",
    "filtered_df['react_temp'] = filtered_df['react_temp'].astype(float)\n",
    "\n",
    "# Define the DataFrame and label pairs\n",
    "dfs_labels = [\n",
    "    (filtered_df, 'Mn-Na2WO4/SiO2'),\n",
    "    (df[df['name'] == \"Mn-MgWO4/SiO2\"], 'Mn-MgWO4/SiO2'),\n",
    "    (df[df['name'] == \"Mn-SrWO4/SiO2\"], 'Mn-SrWO4/SiO2'),\n",
    "    (df[df['name'] == \"Mn-K2MoO4/SiO2\"], 'Mn-K2MoO4/SiO2')\n",
    "]\n",
    "\n",
    "# Plot histograms on the same plot\n",
    "plt.figure(figsize=(10, 6))\n",
    "\n",
    "for df, label in dfs_labels:\n",
    "    plt.hist(df['C2y'], alpha=0.5, label=label)\n",
    "\n",
    "# Add vertical lines at specified C2y values\n",
    "plt.axvline(x=16.17, color='brown', linestyle='--', linewidth=1, label='16.17% C2y - pool 99% quantile')\n",
    "plt.axvline(x=12.85, color='orange', linestyle='--', linewidth=1, label='12.85% C2y - pool 95% quantile')\n",
    "\n",
    "plt.xlabel('$C_{2}$ yield')\n",
    "plt.ylabel('Frequency')\n",
    "plt.title('$C_{2}$ Yield Distribution for Different Catalysts')\n",
    "plt.legend()\n",
    "plt.grid(True)\n",
    "plt.show()\n"
   ]
  },
  {
   "cell_type": "code",
   "execution_count": 37,
   "id": "f01f84dd",
   "metadata": {},
   "outputs": [
    {
     "name": "stdout",
     "output_type": "stream",
     "text": [
      "We have 59 unique catalysts.\n",
      "We created a pool of 12708 by selectin 216 samples from each catalyst.\n"
     ]
    }
   ],
   "source": [
    "print(f\"We have {len(df['name'].unique())} unique catalysts.\")\n",
    "filter = 216 # created dataset with 50, 100, 150, and 216 samples per catalyst\n",
    "unique_catalysts = df['name'].unique()\n",
    "filtered_df = pd.DataFrame()\n",
    "for k in unique_catalysts:\n",
    "    # print(f\"{k:<18s}:{len(df[df['name'] == k])}\")\n",
    "    filtered_df = pd.concat([filtered_df, df[df['name'] == k].iloc[:filter]])\n",
    "print(f\"We created a pool of {len(filtered_df)} by selectin {filter} samples from each catalyst.\")\n",
    "\n",
    "# The last catalyst has only 180 available samples. That's why we have 12708 samples instead of 59*216 = 12744.\n",
    "# (59*216) - (216-180) = 12708"
   ]
  },
  {
   "cell_type": "code",
   "execution_count": 38,
   "id": "fc995f46",
   "metadata": {},
   "outputs": [],
   "source": [
    "with open(f'./data/{len(filtered_df)}_ocm_dataset.csv', 'w') as f:\n",
    "    f.write(\"prompt;completion\\n\")\n",
    "    for i, r in filtered_df.iterrows():\n",
    "        props = OrderedDict({\n",
    "            k:v for k,v in r.items() if k in name_dict.values()\n",
    "        })\n",
    "\n",
    "        f.write(f'{prompt_template.format(**props)};{r[\"C2y\"]}\\n')\n"
   ]
  },
  {
   "cell_type": "code",
   "execution_count": null,
   "id": "9f01b6cb",
   "metadata": {},
   "outputs": [],
   "source": [
    "ocm_ds = pd.read_csv(f'./data/{filter*len(unique_catalysts)}_ocm_dataset.csv', sep=\";\")\n",
    "\n",
    "pool = bolift.Pool(ocm_ds['prompt'].tolist(), formatter=lambda x: f\"experimental procedure: {x}\")\n",
    "cloudpickle.dump(pool, open(f'./data/{filter*len(unique_catalysts)}_ocm_pool.pkl', 'wb'))"
   ]
  },
  {
   "cell_type": "code",
   "execution_count": 45,
   "id": "ccdb6244",
   "metadata": {},
   "outputs": [
    {
     "name": "stdout",
     "output_type": "stream",
     "text": [
      "TreePool of 12708 with 0 selected. The original pool has 12708 items\n"
     ]
    }
   ],
   "source": [
    "# props = OrderedDict()\n",
    "# for k in name_dict.values():\n",
    "#     props[k] = df[k].unique()\n",
    "\n",
    "filtered_df = filtered_df[[k for k in name_dict.values()]]\n",
    "pool = bolift.TreePool(filtered_df, prompt_template)\n",
    "print(f\"{pool}. The original pool has {len(df)} items\")\n",
    "cloudpickle.dump(pool, open(f'./data/{filter*len(unique_catalysts)}_ocm_treePool.pkl', 'wb'))"
   ]
  },
  {
   "cell_type": "code",
   "execution_count": null,
   "id": "9af6131b",
   "metadata": {},
   "outputs": [],
   "source": []
  }
 ],
 "metadata": {
  "kernelspec": {
   "display_name": "Python 3 (ipykernel)",
   "language": "python",
   "name": "python3"
  },
  "language_info": {
   "codemirror_mode": {
    "name": "ipython",
    "version": 3
   },
   "file_extension": ".py",
   "mimetype": "text/x-python",
   "name": "python",
   "nbconvert_exporter": "python",
   "pygments_lexer": "ipython3",
   "version": "3.10.14"
  }
 },
 "nbformat": 4,
 "nbformat_minor": 5
}
