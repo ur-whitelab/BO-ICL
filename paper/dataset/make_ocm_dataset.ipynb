{
 "cells": [
  {
   "cell_type": "markdown",
   "id": "c1fdcdd8",
   "metadata": {},
   "source": [
    "# datset reference -- https://pubs.acs.org/doi/10.1021/acscatal.9b04293\n",
    "\n",
    "## Labels: Selectivity, Yeild, Conversion, Combo\n",
    "\n",
    "### Synthesis methods:\n",
    "\n",
    "#### Adapted: key terms: support1, M1,m1, CT, Total_flow, meth/oxy, arg_P, Temp, Name\n",
    "\n",
    "\"Name was prepared based on a co-impregnation method. A support support1 (1.0 g) was impregnated with 4.5 mL of an aqueous solution of consiting of M1 (m1),M2 (m2), M3 (m3), at 50 °C for 6 h. After vacuum drying at 110 °C, the product was calcined at 1000 °C under air for 3 h.Once Name is activated the reaction is ran at Temp °C. The total flow volume was Total_flow mL/min with flow ratios of  CH4/O2 meth/oxy mol/mol, and an Ar concentration of arg_P atm. The height of the catalyst bed was fixed at 10 mm, leading to a contact time of CT s at Total_flow ml/min.\" \n",
    "\n",
    "#### Original:\n",
    "\"The catalysts were prepared based on a co-impregnation method. A support substrate (1.0 g) was impregnated with 4.5 mL of an aqueous solution of specified metal precursors at 50 °C for 6 h. After vacuum drying at 110 °C, the product was calcined at 1000 °C under air for 3 h to yield a catalyst. When a water-sensitive metal alkoxide was employed, the impregnation was sequentially performed in the order of an aqueous solution of tungstate and an ethanol solution of a metal alkoxide. The obtained catalysts were thoroughly ground before any usage. The catalyst preparation was appropriately parallelized with the aids of a parallel hot stirrer (Reacti-Therm, Thermo Scientific) and a centrifugal evaporator (CVE-3100, Eyela). Twenty catalysts were produced in one batch. The samples were characterized by X-ray diffraction and scanning electron microscopy.\"\n",
    "\n",
    "### Reaction conditions:\n",
    "\n",
    "\"Once catalysts are activated at 1000 °C for 160 min under O2, the temperature is stepwise declined from 900 to 850, 800, 775, 750, and 700 °C. At each temperature, the total flow volume (10, 15, and 20 mL/min/channel), the CH4/O2 ratio (2, 3, 4, and 6 mol/mol), and the Ar concentration (PAr = 0.15, 0.40, 0.70 atm) are stepwise varied. One reaction condition is held for 6–7 min, which allows 2–3 rounds of sampling in the same condition for acquiring the error range of observations. The ascending temperature protocol was not employed as it causes excessive CO and CO2 production due to the combustion of carbon deposits. The height of the catalyst bed was fixed at 10 mm, leading to a contact time of 0.75, 0.50, or 0.38 s at the given total flow volumes. Combined variations in the temperature, the total flow volume, the CH4/O2 ratio, and the Ar concentration lead to 216 conditions per catalyst and 4320 observations for 20 catalysts in a single automated operation.\""
   ]
  },
  {
   "cell_type": "code",
   "execution_count": null,
   "id": "73f030db",
   "metadata": {},
   "outputs": [],
   "source": [
    "import pandas as pd\n",
    "import bolift\n",
    "from collections import OrderedDict\n",
    "\n",
    "from dotenv import load_dotenv\n",
    "\n",
    "load_dotenv(\"../.env\")"
   ]
  },
  {
   "cell_type": "code",
   "execution_count": null,
   "id": "15599bfb",
   "metadata": {},
   "outputs": [],
   "source": [
    "name_dict = {\n",
    "    'Name': 'name',\n",
    "    'Support ': 'sup',\n",
    "    'M1': 'm1',\n",
    "    'M1_mol': 'm1_mol',\n",
    "    'M2': 'm2',\n",
    "    'M2_mol': 'm2_mol',\n",
    "    'M3': 'm3',\n",
    "    'M3_mol': 'm3_mol',\n",
    "    'Temp': 'react_temp',\n",
    "    'Total_flow': 'flow_vol',\n",
    "    'Ar_flow': 'ar_vol',\n",
    "    'CH4_flow': 'ch4_vol',\n",
    "    'O2_flow': 'o2_vol',\n",
    "    'CT': 'contact'\n",
    "}\n",
    "\n",
    "prompt_template = \"To synthesize {name}, {sup} (1.0 g) was impregnated with 4.5 mL of an aqueous solution consisting of {m1} ({m1_mol} mol), {m2} ({m2_mol} mol), {m3} ({m3_mol} mol), \"\\\n",
    "            \"at 50 ºC for 6 h. Once activated the reaction is ran at {react_temp} ºC. \"\\\n",
    "            \"The total flow rate was {flow_vol} mL/min (Ar: {ar_vol} mL/min, CH4: {ch4_vol} mL/min, O2: {o2_vol} mL/min), \"\\\n",
    "            \"leading to a contact time of {contact} s.\"\n"
   ]
  },
  {
   "cell_type": "code",
   "execution_count": null,
   "id": "cfaae4ed",
   "metadata": {},
   "outputs": [],
   "source": [
    "# round((((y[\"M1_mol%\"])/100)*(y[\"M2_mol\"]+y[\"M3_mol\"])/(1-(y[\"M1_mol%\"]/100))),3)\n",
    "df = pd.read_csv('oxidative_methane_coupling.csv')\n",
    "\n",
    "def calculate_M1_mol(row):\n",
    "    return round((((row[\"M1_mol%\"]) / 100) * (row[\"M2_mol\"] + row[\"M3_mol\"]) / (1 - (row[\"M1_mol%\"] / 100))), 3)\n",
    "\n",
    "df[\"M1_mol\"] = df.apply(calculate_M1_mol, axis=1)\n",
    "df.rename(columns=name_dict, inplace=True)"
   ]
  },
  {
   "cell_type": "code",
   "execution_count": null,
   "id": "4ff20ff1",
   "metadata": {},
   "outputs": [],
   "source": [
    "# df.groupby(['name', 'm1', 'M1_atom_number', 'm2', 'M2_atom_number', 'm3', 'M3_atom_number', 'sup', 'Support_ID', 'M2_mol', 'M3_mol', 'm1_mol', 'm2_mol', 'm3_mol']).count()"
   ]
  },
  {
   "cell_type": "code",
   "execution_count": null,
   "id": "f01f84dd",
   "metadata": {},
   "outputs": [],
   "source": [
    "print(f\"We have {len(df['name'].unique())} unique catalysts.\")\n",
    "filter = 216 # created dataset with 50, 100, 150, and 216 samples per catalyst\n",
    "unique_catalysts = df['name'].unique()\n",
    "filtered_df = pd.DataFrame()\n",
    "for k in unique_catalysts:\n",
    "    # print(f\"{k:<18s}:{len(df[df['name'] == k])}\")\n",
    "    filtered_df = pd.concat([filtered_df, df[df['name'] == k].iloc[:filter]])\n",
    "print(f\"We created a pool of {len(filtered_df)} by selectin {filter} samples from each catalyst.\")\n",
    "\n",
    "# The last catalyst has only 180 available samples. That's why we have 12708 samples instead of 59*216 = 12744.\n",
    "# (59*216) - (216-180) = 12708"
   ]
  },
  {
   "cell_type": "code",
   "execution_count": null,
   "id": "fc995f46",
   "metadata": {},
   "outputs": [],
   "source": [
    "with open(f'./data/{len(filtered_df)}_ocm_dataset.csv', 'w') as f:\n",
    "    f.write(\"prompt;completion\\n\")\n",
    "    for i, r in filtered_df.iterrows():\n",
    "        props = OrderedDict({\n",
    "            k:v for k,v in r.items() if k in name_dict.values()\n",
    "        })\n",
    "\n",
    "        f.write(f'{prompt_template.format(**props)};{r[\"C2y\"]}\\n')\n"
   ]
  },
  {
   "cell_type": "code",
   "execution_count": null,
   "id": "9f01b6cb",
   "metadata": {},
   "outputs": [],
   "source": [
    "ocm_ds = pd.read_csv(f'./data/{len(filtered_df)}_ocm_dataset.csv', sep=\";\")\n",
    "\n",
    "pool = bolift.Pool(ocm_ds['prompt'].tolist(), formatter=lambda x: f\"experimental procedure: {x}\")\n",
    "pool"
   ]
  }
 ],
 "metadata": {
  "kernelspec": {
   "display_name": ".venv",
   "language": "python",
   "name": "python3"
  },
  "language_info": {
   "codemirror_mode": {
    "name": "ipython",
    "version": 3
   },
   "file_extension": ".py",
   "mimetype": "text/x-python",
   "name": "python",
   "nbconvert_exporter": "python",
   "pygments_lexer": "ipython3"
  }
 },
 "nbformat": 4,
 "nbformat_minor": 5
}
