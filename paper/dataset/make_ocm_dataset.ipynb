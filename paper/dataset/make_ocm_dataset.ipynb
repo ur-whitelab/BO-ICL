{
 "cells": [
  {
   "cell_type": "markdown",
   "id": "c1fdcdd8",
   "metadata": {},
   "source": [
    "# datset reference -- https://pubs.acs.org/doi/10.1021/acscatal.9b04293\n",
    "\n",
    "## Labels: Selectivity, Yeild, Conversion, Combo\n",
    "\n",
    "### Synthesis methods:\n",
    "\n",
    "#### Adapted: key terms: support1, M1,m1, CT, Total_flow, meth/oxy, arg_P, Temp, Name\n",
    "\n",
    "\"Name was prepared based on a co-impregnation method. A support support1 (1.0 g) was impregnated with 4.5 mL of an aqueous solution of consiting of M1 (m1),M2 (m2), M3 (m3), at 50 °C for 6 h. After vacuum drying at 110 °C, the product was calcined at 1000 °C under air for 3 h.Once Name is activated the reaction is ran at Temp °C. The total flow volume was Total_flow mL/min with flow ratios of  CH4/O2 meth/oxy mol/mol, and an Ar concentration of arg_P atm. The height of the catalyst bed was fixed at 10 mm, leading to a contact time of CT s at Total_flow ml/min.\" \n",
    "\n",
    "#### Original:\n",
    "\"The catalysts were prepared based on a co-impregnation method. A support substrate (1.0 g) was impregnated with 4.5 mL of an aqueous solution of specified metal precursors at 50 °C for 6 h. After vacuum drying at 110 °C, the product was calcined at 1000 °C under air for 3 h to yield a catalyst. When a water-sensitive metal alkoxide was employed, the impregnation was sequentially performed in the order of an aqueous solution of tungstate and an ethanol solution of a metal alkoxide. The obtained catalysts were thoroughly ground before any usage. The catalyst preparation was appropriately parallelized with the aids of a parallel hot stirrer (Reacti-Therm, Thermo Scientific) and a centrifugal evaporator (CVE-3100, Eyela). Twenty catalysts were produced in one batch. The samples were characterized by X-ray diffraction and scanning electron microscopy.\"\n",
    "\n",
    "### Reaction conditions:\n",
    "\n",
    "\"Once catalysts are activated at 1000 °C for 160 min under O2, the temperature is stepwise declined from 900 to 850, 800, 775, 750, and 700 °C. At each temperature, the total flow volume (10, 15, and 20 mL/min/channel), the CH4/O2 ratio (2, 3, 4, and 6 mol/mol), and the Ar concentration (PAr = 0.15, 0.40, 0.70 atm) are stepwise varied. One reaction condition is held for 6–7 min, which allows 2–3 rounds of sampling in the same condition for acquiring the error range of observations. The ascending temperature protocol was not employed as it causes excessive CO and CO2 production due to the combustion of carbon deposits. The height of the catalyst bed was fixed at 10 mm, leading to a contact time of 0.75, 0.50, or 0.38 s at the given total flow volumes. Combined variations in the temperature, the total flow volume, the CH4/O2 ratio, and the Ar concentration lead to 216 conditions per catalyst and 4320 observations for 20 catalysts in a single automated operation.\""
   ]
  },
  {
   "cell_type": "code",
   "execution_count": 18,
   "id": "73f030db",
   "metadata": {},
   "outputs": [
    {
     "data": {
      "text/plain": [
       "True"
      ]
     },
     "execution_count": 18,
     "metadata": {},
     "output_type": "execute_result"
    }
   ],
   "source": [
    "import numpy as np\n",
    "import pandas as pd\n",
    "import bolift\n",
    "from collections import OrderedDict\n",
    "import cloudpickle\n",
    "\n",
    "from dotenv import load_dotenv\n",
    "\n",
    "load_dotenv(\"../.env\")"
   ]
  },
  {
   "cell_type": "code",
   "execution_count": 19,
   "id": "6e524714",
   "metadata": {},
   "outputs": [
    {
     "data": {
      "text/plain": [
       "12708"
      ]
     },
     "execution_count": 19,
     "metadata": {},
     "output_type": "execute_result"
    }
   ],
   "source": [
    "from datasets import load_dataset  \n",
    "\n",
    "data=load_dataset(\"csv\", data_files={\"oxidative_methane_coupling.csv\"})\n",
    "\n",
    "len(data['train'])"
   ]
  },
  {
   "cell_type": "code",
   "execution_count": 20,
   "id": "15599bfb",
   "metadata": {},
   "outputs": [],
   "source": [
    "name_dict = {\n",
    "    'Name': 'name',\n",
    "    'Support ': 'sup',\n",
    "    'M1': 'm1',\n",
    "    'M1_mol%': 'm1_mol',\n",
    "    'M2': 'm2',\n",
    "    'M2_mol%': 'm2_mol',\n",
    "    'M3': 'm3',\n",
    "    'M3_mol%': 'm3_mol',\n",
    "    'Temp': 'react_temp',\n",
    "    'Total_flow': 'flow_vol',\n",
    "    'Ar_flow': 'ar_vol',\n",
    "    'CH4_flow': 'ch4_vol',\n",
    "    'O2_flow': 'o2_vol',\n",
    "    'CT': 'contact'\n",
    "}\n",
    "\n",
    "prompt_template = \"To synthesize {name}, {sup} (1.0 g) was impregnated with 4.5 mL of an aqueous solution consiting of {m1} ({m1_mol}%), {m2} ({m2_mol}%), {m3} ({m3_mol}%), \"\\\n",
    "            \"at 50 ºC for 6 h. Once activated the reaction is ran at {react_temp} ºC. \"\\\n",
    "            \"The total flow rate was {flow_vol} mL/min (Ar: {ar_vol} mL/min, CH4: {ch4_vol} mL/min, O2: {o2_vol} mL/min), \"\\\n",
    "            \"leading to a contact time of {contact} s.\"\n",
    "\n",
    "df = pd.read_csv('oxidative_methane_coupling.csv')\n",
    "df.rename(columns=name_dict, inplace=True)\n",
    "keys = df.keys()"
   ]
  },
  {
   "cell_type": "code",
   "execution_count": 21,
   "id": "7fa65ece",
   "metadata": {},
   "outputs": [
    {
     "name": "stdout",
     "output_type": "stream",
     "text": [
      "name 59 ['Mn-Na2WO4/BN' 'Mn-Na2WO4/MgO' 'Mn-Na2WO4/Al2O3' 'Mn-Na2WO4/SiO2'\n",
      " 'Mn-Na2WO4/SiC' 'Mn-Na2WO4/SiCnf' 'Mn-Na2WO4/BEA' 'Mn-Na2WO4/ZSM-5'\n",
      " 'Mn-Na2WO4/TiO2' 'Mn-Na2WO4/ZrO2' 'Mn-Na2WO4/Nb2O5' 'Mn-Na2WO4/CeO2'\n",
      " 'Mn-Li2WO4/SiO2' 'Mn-MgWO4/SiO2' 'Mn-K2WO4/SiO2' 'Mn-CaWO4/SiO2'\n",
      " 'Mn-SrWO4/SiO2' 'Mn-BaWO4/SiO2' 'Mn-Li2MoO4/SiO2' 'Mn-Na2MoO4/SiO2'\n",
      " 'Mn-K2MoO4/SiO2' 'Mn-FeMoO4/SiO2' 'Mn-ZnMoO4/SiO2' 'Ti-Na2WO4/SiO2'\n",
      " 'V-Na2WO4/SiO2' 'Fe-Na2WO4/SiO2' 'Co-Na2WO4/SiO2' 'Ni-Na2WO4/SiO2'\n",
      " 'Cu-Na2WO4/SiO2' 'Zn-Na2WO4/SiO2' 'Y-Na2WO4/SiO2' 'Zr-Na2WO4/SiO2'\n",
      " 'Mo-Na2WO4/SiO2' 'Pd-Na2WO4/SiO2' 'La-Na2WO4/SiO2' 'Ce-Na2WO4/SiO2'\n",
      " 'Nd-Na2WO4/SiO2' 'Eu-Na2WO4/SiO2' 'Tb-Na2WO4/SiO2' 'Hf-Na2WO4/SiO2'\n",
      " 'Blank' 'BN' 'MgO' 'Al2O3' 'SiO2' 'SiC' 'SiCnf' 'BEA' 'ZSM-5' 'TiO2'\n",
      " 'ZrO2' 'Nb2O5' 'CeO2' 'Na2WO4/SiO2' 'Mn-WOx/SiO2' 'Mn-MoOx/SiO2'\n",
      " 'Mn-Na/SiO2' 'WOx/SiO2' 'Na/SiO2']\n",
      "sup 13 ['BN' 'MgO' 'Al2O3' 'SiO2' 'SiC' 'SiCnf' 'BEA' 'ZSM-5' 'TiO2' 'ZrO2'\n",
      " 'Nb2O5' 'CeO2' 'n.a.']\n",
      "m1 19 ['Mn' 'Ti' 'V' 'Fe' 'Co' 'Ni' 'Cu' 'Zn' 'Y' 'Zr' 'Mo' 'Pd' 'La' 'Ce' 'Nd'\n",
      " 'Eu' 'Tb' 'Hf' 'n.a.']\n",
      "m1_mol 4 [40 50  0 67]\n",
      "m2 10 ['Na' 'Li' 'Mg' 'K' 'Ca' 'Sr' 'Ba' 'Fe' 'Zn' 'n.a.']\n",
      "m2_mol 6 [ 40  25   0  67  50 100]\n",
      "m3 3 ['W' 'Mo' 'n.a.']\n",
      "m3_mol 5 [ 20  25   0  33 100]\n",
      "react_temp 6 [900 850 800 775 700 750]\n",
      "flow_vol 3 [10 15 20]\n",
      "ar_vol 9 [ 1.5  2.3  3.   4.   6.   8.   7.  10.5 14. ]\n",
      "ch4_vol 30 [ 5.7  8.5 11.3  6.4  9.6 12.8  6.8 10.2 13.6  7.3 10.9 14.6  4.   6.\n",
      "  8.   4.5  9.   4.8  7.2  5.1  7.7 10.3  2.   3.   2.3  3.4  2.4  3.6\n",
      "  2.6  3.9]\n",
      "o2_vol 23 [2.8 4.3 5.7 2.1 3.2 1.7 2.6 3.4 1.2 1.8 2.4 2.  3.  4.  1.5 2.3 0.9 1.3\n",
      " 1.  0.8 1.1 0.6 0.4]\n",
      "contact 3 [0.75 0.5  0.38]\n",
      "The complete dataset has 17592875352000 possible combinations. Only 12708 are available.\n"
     ]
    }
   ],
   "source": [
    "p=1\n",
    "for k in name_dict.values():\n",
    "    u = df[k].unique()\n",
    "    p *= len(u)\n",
    "    print(k, len(u), u)\n",
    "print(f\"The complete dataset has {p} possible combinations. Only {len(df)} are available.\")"
   ]
  },
  {
   "cell_type": "code",
   "execution_count": 48,
   "id": "f01f84dd",
   "metadata": {},
   "outputs": [
    {
     "name": "stdout",
     "output_type": "stream",
     "text": [
      "We have 59 unique catalysts.\n",
      "We created a pool of 1180 by selectin 20 samples from each catalyst.\n"
     ]
    }
   ],
   "source": [
    "print(f\"We have {len(df['name'].unique())} unique catalysts.\")\n",
    "filter = 20 # created dataset with 50, 100, 150, and 216 samples per catalyst\n",
    "unique_catalysts = df['name'].unique()\n",
    "filtered_df = pd.DataFrame()\n",
    "for k in unique_catalysts:\n",
    "    # print(f\"{k:<18s}:{len(df[df['name'] == k])}\")\n",
    "    filtered_df = pd.concat([filtered_df, df[df['name'] == k].iloc[:filter]])\n",
    "print(f\"We created a pool of {len(filtered_df)} by selectin {filter} samples from each catalyst.\")\n",
    "\n",
    "# The last catalyst has only 180 available samples. That's why we have 12708 samples instead of 59*216 = 12744.\n",
    "# (59*216) - (216-180) = 12708"
   ]
  },
  {
   "cell_type": "code",
   "execution_count": 43,
   "id": "fc995f46",
   "metadata": {},
   "outputs": [],
   "source": [
    "with open(f'./data/{filter*len(unique_catalysts)}_ocm_dataset.csv', 'w') as f:\n",
    "    f.write(\"prompt;completion\\n\")\n",
    "    for i, r in filtered_df.iterrows():\n",
    "        props = OrderedDict({\n",
    "            k:v for k,v in r.items() if k in name_dict.values()\n",
    "        })\n",
    "\n",
    "        f.write(f'{prompt_template.format(**props)};{r[\"C2y\"]}\\n')\n"
   ]
  },
  {
   "cell_type": "code",
   "execution_count": 44,
   "id": "9f01b6cb",
   "metadata": {},
   "outputs": [
    {
     "name": "stderr",
     "output_type": "stream",
     "text": [
      "Retrying langchain.embeddings.openai.embed_with_retry.<locals>._embed_with_retry in 4.0 seconds as it raised RateLimitError: Rate limit reached for default-text-embedding-ada-002 in organization org-zVzDC0J6UhWoGf9pmQAfuLud on tokens per min. Limit: 1000000 / min. Current: 917381 / min. Contact us through our help center at help.openai.com if you continue to have issues..\n",
      "Retrying langchain.embeddings.openai.embed_with_retry.<locals>._embed_with_retry in 4.0 seconds as it raised RateLimitError: Rate limit reached for default-text-embedding-ada-002 in organization org-zVzDC0J6UhWoGf9pmQAfuLud on tokens per min. Limit: 1000000 / min. Current: 897758 / min. Contact us through our help center at help.openai.com if you continue to have issues..\n",
      "Retrying langchain.embeddings.openai.embed_with_retry.<locals>._embed_with_retry in 4.0 seconds as it raised RateLimitError: Rate limit reached for default-text-embedding-ada-002 in organization org-zVzDC0J6UhWoGf9pmQAfuLud on tokens per min. Limit: 1000000 / min. Current: 893580 / min. Contact us through our help center at help.openai.com if you continue to have issues..\n",
      "Retrying langchain.embeddings.openai.embed_with_retry.<locals>._embed_with_retry in 4.0 seconds as it raised RateLimitError: Rate limit reached for default-text-embedding-ada-002 in organization org-zVzDC0J6UhWoGf9pmQAfuLud on tokens per min. Limit: 1000000 / min. Current: 901916 / min. Contact us through our help center at help.openai.com if you continue to have issues..\n"
     ]
    },
    {
     "name": "stdout",
     "output_type": "stream",
     "text": [
      "Pool of 12708 items with 0 selected\n"
     ]
    }
   ],
   "source": [
    "ocm_ds = pd.read_csv(f'./data/{filter*len(unique_catalysts)}_ocm_dataset.csv', sep=\";\")\n",
    "\n",
    "pool = bolift.Pool(ocm_ds['prompt'].tolist(), formatter=lambda x: f\"experimental procedure: {x}\")\n",
    "print(pool)\n",
    "cloudpickle.dump(pool, open(f'./data/{filter*len(unique_catalysts)}_ocm_pool.pkl', 'wb'))"
   ]
  },
  {
   "cell_type": "code",
   "execution_count": 45,
   "id": "ccdb6244",
   "metadata": {},
   "outputs": [
    {
     "name": "stdout",
     "output_type": "stream",
     "text": [
      "TreePool of 12708 with 0 selected. The original pool has 12708 items\n"
     ]
    }
   ],
   "source": [
    "# props = OrderedDict()\n",
    "# for k in name_dict.values():\n",
    "#     props[k] = df[k].unique()\n",
    "\n",
    "filtered_df = filtered_df[[k for k in name_dict.values()]]\n",
    "pool = bolift.TreePool(filtered_df, prompt_template)\n",
    "print(f\"{pool}. The original pool has {len(df)} items\")\n",
    "cloudpickle.dump(pool, open(f'./data/{filter*len(unique_catalysts)}_ocm_treePool.pkl', 'wb'))"
   ]
  },
  {
   "cell_type": "code",
   "execution_count": null,
   "id": "9af6131b",
   "metadata": {},
   "outputs": [],
   "source": []
  }
 ],
 "metadata": {
  "kernelspec": {
   "display_name": "Python 3 (ipykernel)",
   "language": "python",
   "name": "python3"
  },
  "language_info": {
   "codemirror_mode": {
    "name": "ipython",
    "version": 3
   },
   "file_extension": ".py",
   "mimetype": "text/x-python",
   "name": "python",
   "nbconvert_exporter": "python",
   "pygments_lexer": "ipython3",
   "version": "3.11.4"
  }
 },
 "nbformat": 4,
 "nbformat_minor": 5
}
